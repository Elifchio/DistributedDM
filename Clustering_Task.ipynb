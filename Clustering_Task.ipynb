{
 "cells": [
  {
   "cell_type": "markdown",
   "id": "dbac8c0f-c3d6-40f8-a09b-8acf0e46cf13",
   "metadata": {},
   "source": [
    "# Calculating embeddings\n",
    "\n",
    "In order to cluster the texts we have to obtain vector representations of the `description` and `show_description` columns.\n",
    "\n",
    "## Load the data and define schema"
   ]
  },
  {
   "cell_type": "code",
   "execution_count": 1,
   "id": "a7ea2d09-b0bd-484a-a9d5-319673b2b241",
   "metadata": {},
   "outputs": [],
   "source": [
    "from pyspark.sql.types import (\n",
    "    StructType, StructField, \n",
    "    StringType, IntegerType, \n",
    "    DateType, LongType, \n",
    "    BooleanType\n",
    ")\n",
    "\n",
    "from utils import load_csv_to_df, create_optimized_spark_session, create_spark_session\n",
    "\n",
    "podcast_schema = StructType([\n",
    "    # Date type features\n",
    "    StructField(\"date\", DateType(), True),\n",
    "    StructField(\"release_date\", DateType(), True),\n",
    "    \n",
    "    # Numerical features\n",
    "    StructField(\"rank\", IntegerType(), True),\n",
    "    StructField(\"duration_ms\", LongType(), True),\n",
    "    StructField(\"show_total_episodes\", IntegerType(), True),\n",
    "    \n",
    "    # Binary (Boolean) features\n",
    "    StructField(\"explicit\", BooleanType(), True),\n",
    "    StructField(\"is_externally_hosted\", BooleanType(), True),\n",
    "    StructField(\"is_playable\", BooleanType(), True),\n",
    "    StructField(\"show_is_externally_hosted\", BooleanType(), True),\n",
    "    StructField(\"show_explicit\", BooleanType(), True),\n",
    "    \n",
    "    # Nominal (Categorical String) features\n",
    "    StructField(\"region\", StringType(), True),\n",
    "    StructField(\"episodeUri\", StringType(), True),\n",
    "    StructField(\"showUri\", StringType(), True),\n",
    "    StructField(\"episodeName\", StringType(), True),\n",
    "    StructField(\"description\", StringType(), True),\n",
    "    StructField(\"show_name\", StringType(), True),\n",
    "    StructField(\"show_description\", StringType(), True),\n",
    "    StructField(\"show_ublisher\", StringType(), True),\n",
    "    StructField(\"language\", StringType(), True),\n",
    "    StructField(\"languages\", StringType(), True),\n",
    "    StructField(\"show_copyrights\", StringType(), True),\n",
    "    StructField(\"show_href\", StringType(), True),\n",
    "    StructField(\"show_html_description\", StringType(), True),\n",
    "    StructField(\"show_languages\", StringType(), True),\n",
    "    StructField(\"show_media_type\", StringType(), True),\n",
    "    StructField(\"show_type\", StringType(), True),\n",
    "    StructField(\"show_uri\", StringType(), True),\n",
    "    \n",
    "    # Ordinal features\n",
    "    StructField(\"chartRankMove\", StringType(), True),\n",
    "    StructField(\"release_date_precision\", StringType(), True)\n",
    "])\n",
    "\n"
   ]
  },
  {
   "cell_type": "code",
   "execution_count": null,
   "id": "79e0e8bf-6157-4169-86a2-be65f6b5a774",
   "metadata": {},
   "outputs": [],
   "source": [
    "spark = create_spark_session()\n",
    "df = load_csv_to_df(spark, \"top_podcasts.csv\")\n",
    "\n",
    "#rename problematic column names\n",
    "for col in df.columns:\n",
    "  df = df.withColumnRenamed(col, col.replace('.', '_'))"
   ]
  },
  {
   "cell_type": "markdown",
   "id": "2f12e142-ac97-463c-920f-f75baf2435c2",
   "metadata": {},
   "source": [
    "## Create pipeline for sentence embedding"
   ]
  },
  {
   "cell_type": "code",
   "execution_count": 2,
   "id": "1fc1f197-7ad5-44d2-b059-97dc400ea86e",
   "metadata": {
    "scrolled": true
   },
   "outputs": [
    {
     "name": "stdout",
     "output_type": "stream",
     "text": [
      "sent_xlm_roberta_base download started this may take some time.\n",
      "Approximate size to download 619.5 MB\n",
      "[ | ]"
     ]
    },
    {
     "name": "stderr",
     "output_type": "stream",
     "text": [
      "24/12/02 23:06:35 WARN S3AbortableInputStream: Not all bytes were read from the S3ObjectInputStream, aborting HTTP connection. This is likely an error and may result in sub-optimal behavior. Request only the bytes you need via a ranged GET or drain the input stream after use.\n",
      "24/12/02 23:06:36 WARN S3AbortableInputStream: Not all bytes were read from the S3ObjectInputStream, aborting HTTP connection. This is likely an error and may result in sub-optimal behavior. Request only the bytes you need via a ranged GET or drain the input stream after use.\n"
     ]
    },
    {
     "name": "stdout",
     "output_type": "stream",
     "text": [
      "sent_xlm_roberta_base download started this may take some time.\n",
      "Approximate size to download 619.5 MB\n",
      "[ | ]Download done! Loading the resource.\n",
      "[ | ]"
     ]
    },
    {
     "name": "stderr",
     "output_type": "stream",
     "text": [
      "2024-12-02 23:10:26.442557: I external/org_tensorflow/tensorflow/core/platform/cpu_feature_guard.cc:151] This TensorFlow binary is optimized with oneAPI Deep Neural Network Library (oneDNN) to use the following CPU instructions in performance-critical operations:  AVX2 FMA\n",
      "To enable them in other operations, rebuild TensorFlow with the appropriate compiler flags.\n",
      "2024-12-02 23:10:27.374606: W external/org_tensorflow/tensorflow/core/framework/cpu_allocator_impl.cc:82] Allocation of 768006144 exceeds 10% of free system memory.\n"
     ]
    },
    {
     "name": "stdout",
     "output_type": "stream",
     "text": [
      "[OK!]\n"
     ]
    }
   ],
   "source": [
    "from sparknlp.base import *\n",
    "from sparknlp.annotator import *\n",
    "from pyspark.ml import Pipeline\n",
    "\n",
    "description_documentAssembler = DocumentAssembler() \\\n",
    "            .setInputCol(\"description\") \\\n",
    "            .setOutputCol(\"document\")\n",
    "\n",
    "show_description_documentAssembler = DocumentAssembler() \\\n",
    "    .setInputCol(\"show_description\") \\\n",
    "    .setOutputCol(\"document\")\n",
    "\n",
    "# Create sentence detector\n",
    "sentenceDetector = SentenceDetector() \\\n",
    "    .setInputCols([\"document\"]) \\\n",
    "    .setOutputCol(\"sentence\")\n",
    "\n",
    "# Create the embeddings\n",
    "embeddings = XlmRoBertaSentenceEmbeddings.pretrained(\"sent_xlm_roberta_base\", \"xx\") \\\n",
    "    .setInputCols(\"sentence\") \\\n",
    "    .setOutputCol(\"embeddings\")\n",
    "\n",
    "\n",
    "pipeline_description = Pipeline().setStages([\n",
    "    description_documentAssembler,\n",
    "    sentenceDetector,\n",
    "    embeddings\n",
    "])\n",
    "\n",
    "pipeline_show_description = Pipeline().setStages([\n",
    "    show_description_documentAssembler,\n",
    "    sentenceDetector,\n",
    "    embeddings\n",
    "])\n",
    "\n"
   ]
  },
  {
   "cell_type": "markdown",
   "id": "a0b87e67-3a2e-4fa5-a4b7-006fe5c71068",
   "metadata": {},
   "source": [
    "### Saving the modified dataframe with embeddings into parquet files\n",
    "The code below executes for many hours (21 hours on 6 core CPU in our case)."
   ]
  },
  {
   "cell_type": "code",
   "execution_count": 4,
   "id": "44be9229-81cf-40cc-b3d9-55f668f3d0c0",
   "metadata": {},
   "outputs": [
    {
     "name": "stderr",
     "output_type": "stream",
     "text": [
      "24/12/02 23:12:34 WARN package: Truncated the string representation of a plan since it was too large. This behavior can be adjusted by setting 'spark.sql.debug.maxToStringFields'.\n",
      "                                                                                \r"
     ]
    }
   ],
   "source": [
    "from pyspark.sql.functions import col\n",
    "# First transformation\n",
    "description_result = pipeline_description.fit(df).transform(df) \\\n",
    "    .drop(\"document\", \"sentence\") \\\n",
    "    .withColumn('description_embedding', col(\"embeddings.embeddings\")) \\\n",
    "    .drop(\"embeddings\")\n",
    "\n",
    "# Second transformation\n",
    "show_description_result = pipeline_show_description.fit(description_result).transform(description_result) \\\n",
    "    .drop(\"document\", \"sentence\") \\\n",
    "    .withColumn('show_description_embedding', col(\"embeddings.embeddings\")) \\\n",
    "    .drop(\"embeddings\")\n",
    "\n",
    "show_description_result.write.mode(\"overwrite\").parquet('./embeddingi.parquet')"
   ]
  },
  {
   "cell_type": "markdown",
   "id": "a589a5d4-ee00-4829-8299-e1f7fa9f4eb8",
   "metadata": {},
   "source": [
    "# Calculating average embeddings\n",
    "In this section we will take calculated embeddings via deep learning model and we will average them aggregating them based on region or by show_name.\n"
   ]
  },
  {
   "cell_type": "code",
   "execution_count": 1,
   "id": "ffc385b4-fee8-43f6-9b24-0d65d10d74ab",
   "metadata": {},
   "outputs": [
    {
     "name": "stderr",
     "output_type": "stream",
     "text": [
      "24/12/07 08:24:14 WARN Utils: Your hostname, bitdoh-linux resolves to a loopback address: 127.0.1.1; using 10.80.1.80 instead (on interface enp2s0)\n",
      "24/12/07 08:24:14 WARN Utils: Set SPARK_LOCAL_IP if you need to bind to another address\n",
      "Setting default log level to \"WARN\".\n",
      "To adjust logging level use sc.setLogLevel(newLevel). For SparkR, use setLogLevel(newLevel).\n",
      "24/12/07 08:24:14 WARN NativeCodeLoader: Unable to load native-hadoop library for your platform... using builtin-java classes where applicable\n"
     ]
    }
   ],
   "source": [
    "import pyspark\n",
    "from pyspark.sql import SparkSession\n",
    "from pyspark.sql.functions import explode, collect_list, concat_ws\n",
    "\n",
    "# stop any existing session\n",
    "try:\n",
    "    spark.stop()\n",
    "except:\n",
    "    pass\n",
    "\n",
    "# create new Spark session\n",
    "spark = SparkSession.builder \\\n",
    "    .appName(\"Region_Processing\") \\\n",
    "    .master(\"local[2]\") \\\n",
    "    .config(\"spark.driver.memory\", \"4g\") \\\n",
    "    .config(\"spark.sql.shuffle.partitions\", \"2\") \\\n",
    "    .config(\"spark.python.worker.memory\", \"1g\") \\\n",
    "    .config(\"spark.driver.maxResultSize\", \"1g\") \\\n",
    "    .getOrCreate()"
   ]
  },
  {
   "cell_type": "markdown",
   "id": "83719306-0e18-4cb8-a2a6-74298ae366fa",
   "metadata": {},
   "source": [
    "## Aggregating by region\n",
    "\n",
    "We want to calculate average emebeddings that will be representative of whole region, so that we can cluster regions based on similarities between them. Here we process the regions, preparing list of unique regions for further processing. The code below may seem very unopitimized but the more optimized approaches basically took all RAM we had, resulting in crushes so this was the safest way to proceed. "
   ]
  },
  {
   "cell_type": "code",
   "execution_count": 7,
   "id": "cc2bd8e2-76df-433e-887f-d3df013deada",
   "metadata": {},
   "outputs": [
    {
     "name": "stdout",
     "output_type": "stream",
     "text": [
      "Found 22 regions to process\n"
     ]
    }
   ],
   "source": [
    "input_path = \"embeddingi.parquet\"\n",
    "output_base = \"./avg_embeddingi_by_region\"\n",
    "\n",
    "# get dimension of embeddings from first row\n",
    "sample_embedding = spark.read.parquet(input_path).select(\"description_embedding\").first()[0][0]\n",
    "embedding_size = len(sample_embedding)\n",
    "\n",
    "# create the averaging expression for each position in the embedding\n",
    "avg_expressions = [f\"avg(embedding_array[{i}]) as col_{i}\" for i in range(embedding_size)]\n",
    "array_constructor = [f\"col_{i}\" for i in range(embedding_size)]\n",
    "\n",
    "# get unique regions\n",
    "regions = spark.read.parquet(input_path) \\\n",
    "    .select(\"region\").distinct() \\\n",
    "    .rdd.map(lambda x: x.region).collect()\n",
    "\n",
    "print(f\"Found {len(regions)} regions to process\")"
   ]
  },
  {
   "cell_type": "markdown",
   "id": "43327adc-d0cb-4535-b960-bfd310df4a3f",
   "metadata": {},
   "source": [
    "Here we go region by region calculating the individual embeddings for regions."
   ]
  },
  {
   "cell_type": "code",
   "execution_count": 9,
   "id": "7cc436ef-701d-4f35-a4df-7c8af0f6ab2c",
   "metadata": {},
   "outputs": [
    {
     "name": "stdout",
     "output_type": "stream",
     "text": [
      "Processing region: es\n"
     ]
    },
    {
     "name": "stderr",
     "output_type": "stream",
     "text": [
      "24/12/05 10:03:55 WARN DAGScheduler: Broadcasting large task binary with size 1315.6 KiB\n",
      "                                                                                \r"
     ]
    },
    {
     "name": "stdout",
     "output_type": "stream",
     "text": [
      "Processing region: gb\n"
     ]
    },
    {
     "name": "stderr",
     "output_type": "stream",
     "text": [
      "24/12/05 10:04:44 WARN DAGScheduler: Broadcasting large task binary with size 1317.1 KiB\n",
      "                                                                                \r"
     ]
    },
    {
     "name": "stdout",
     "output_type": "stream",
     "text": [
      "Processing region: us\n"
     ]
    },
    {
     "name": "stderr",
     "output_type": "stream",
     "text": [
      "24/12/05 10:05:26 WARN DAGScheduler: Broadcasting large task binary with size 1317.1 KiB\n",
      "                                                                                \r"
     ]
    },
    {
     "name": "stdout",
     "output_type": "stream",
     "text": [
      "Processing region: ar\n"
     ]
    },
    {
     "name": "stderr",
     "output_type": "stream",
     "text": [
      "24/12/05 10:06:09 WARN DAGScheduler: Broadcasting large task binary with size 1317.1 KiB\n",
      "                                                                                \r"
     ]
    },
    {
     "name": "stdout",
     "output_type": "stream",
     "text": [
      "Processing region: au\n"
     ]
    },
    {
     "name": "stderr",
     "output_type": "stream",
     "text": [
      "24/12/05 10:06:54 WARN DAGScheduler: Broadcasting large task binary with size 1317.1 KiB\n",
      "                                                                                \r"
     ]
    },
    {
     "name": "stdout",
     "output_type": "stream",
     "text": [
      "Processing region: at\n"
     ]
    },
    {
     "name": "stderr",
     "output_type": "stream",
     "text": [
      "24/12/05 10:07:39 WARN DAGScheduler: Broadcasting large task binary with size 1317.1 KiB\n",
      "                                                                                \r"
     ]
    },
    {
     "name": "stdout",
     "output_type": "stream",
     "text": [
      "Processing region: br\n"
     ]
    },
    {
     "name": "stderr",
     "output_type": "stream",
     "text": [
      "24/12/05 10:08:20 WARN DAGScheduler: Broadcasting large task binary with size 1317.1 KiB\n",
      "                                                                                \r"
     ]
    },
    {
     "name": "stdout",
     "output_type": "stream",
     "text": [
      "Processing region: ie\n"
     ]
    },
    {
     "name": "stderr",
     "output_type": "stream",
     "text": [
      "24/12/05 10:09:00 WARN DAGScheduler: Broadcasting large task binary with size 1317.1 KiB\n",
      "                                                                                \r"
     ]
    },
    {
     "name": "stdout",
     "output_type": "stream",
     "text": [
      "Processing region: mx\n"
     ]
    },
    {
     "name": "stderr",
     "output_type": "stream",
     "text": [
      "24/12/05 10:09:39 WARN DAGScheduler: Broadcasting large task binary with size 1317.1 KiB\n",
      "                                                                                \r"
     ]
    },
    {
     "name": "stdout",
     "output_type": "stream",
     "text": [
      "Processing region: pl\n"
     ]
    },
    {
     "name": "stderr",
     "output_type": "stream",
     "text": [
      "24/12/05 10:10:18 WARN DAGScheduler: Broadcasting large task binary with size 1317.1 KiB\n",
      "                                                                                \r"
     ]
    },
    {
     "name": "stdout",
     "output_type": "stream",
     "text": [
      "Processing region: nl\n"
     ]
    },
    {
     "name": "stderr",
     "output_type": "stream",
     "text": [
      "24/12/05 10:11:00 WARN DAGScheduler: Broadcasting large task binary with size 1317.1 KiB\n",
      "                                                                                \r"
     ]
    },
    {
     "name": "stdout",
     "output_type": "stream",
     "text": [
      "Processing region: ca\n"
     ]
    },
    {
     "name": "stderr",
     "output_type": "stream",
     "text": [
      "24/12/05 10:11:39 WARN DAGScheduler: Broadcasting large task binary with size 1318.6 KiB\n",
      "                                                                                \r"
     ]
    },
    {
     "name": "stdout",
     "output_type": "stream",
     "text": [
      "Processing region: cl\n"
     ]
    },
    {
     "name": "stderr",
     "output_type": "stream",
     "text": [
      "24/12/05 10:12:18 WARN DAGScheduler: Broadcasting large task binary with size 1318.6 KiB\n",
      "                                                                                \r"
     ]
    },
    {
     "name": "stdout",
     "output_type": "stream",
     "text": [
      "Processing region: co\n"
     ]
    },
    {
     "name": "stderr",
     "output_type": "stream",
     "text": [
      "24/12/05 10:12:57 WARN DAGScheduler: Broadcasting large task binary with size 1318.6 KiB\n",
      "                                                                                \r"
     ]
    },
    {
     "name": "stdout",
     "output_type": "stream",
     "text": [
      "Processing region: fr\n"
     ]
    },
    {
     "name": "stderr",
     "output_type": "stream",
     "text": [
      "24/12/05 10:13:37 WARN DAGScheduler: Broadcasting large task binary with size 1318.6 KiB\n",
      "                                                                                \r"
     ]
    },
    {
     "name": "stdout",
     "output_type": "stream",
     "text": [
      "Processing region: de\n"
     ]
    },
    {
     "name": "stderr",
     "output_type": "stream",
     "text": [
      "24/12/05 10:14:18 WARN DAGScheduler: Broadcasting large task binary with size 1318.6 KiB\n",
      "                                                                                \r"
     ]
    },
    {
     "name": "stdout",
     "output_type": "stream",
     "text": [
      "Processing region: in\n"
     ]
    },
    {
     "name": "stderr",
     "output_type": "stream",
     "text": [
      "24/12/05 10:14:59 WARN DAGScheduler: Broadcasting large task binary with size 1318.6 KiB\n",
      "                                                                                \r"
     ]
    },
    {
     "name": "stdout",
     "output_type": "stream",
     "text": [
      "Processing region: id\n"
     ]
    },
    {
     "name": "stderr",
     "output_type": "stream",
     "text": [
      "24/12/05 10:15:39 WARN DAGScheduler: Broadcasting large task binary with size 1318.6 KiB\n",
      "                                                                                \r"
     ]
    },
    {
     "name": "stdout",
     "output_type": "stream",
     "text": [
      "Processing region: it\n"
     ]
    },
    {
     "name": "stderr",
     "output_type": "stream",
     "text": [
      "24/12/05 10:16:17 WARN DAGScheduler: Broadcasting large task binary with size 1318.6 KiB\n",
      "                                                                                \r"
     ]
    },
    {
     "name": "stdout",
     "output_type": "stream",
     "text": [
      "Processing region: jp\n"
     ]
    },
    {
     "name": "stderr",
     "output_type": "stream",
     "text": [
      "24/12/05 10:16:54 WARN DAGScheduler: Broadcasting large task binary with size 1318.6 KiB\n",
      "                                                                                \r"
     ]
    },
    {
     "name": "stdout",
     "output_type": "stream",
     "text": [
      "Processing region: nz\n"
     ]
    },
    {
     "name": "stderr",
     "output_type": "stream",
     "text": [
      "24/12/05 10:17:36 WARN DAGScheduler: Broadcasting large task binary with size 1318.6 KiB\n",
      "                                                                                \r"
     ]
    },
    {
     "name": "stdout",
     "output_type": "stream",
     "text": [
      "Processing region: ph\n"
     ]
    },
    {
     "name": "stderr",
     "output_type": "stream",
     "text": [
      "24/12/05 10:18:17 WARN DAGScheduler: Broadcasting large task binary with size 1318.6 KiB\n",
      "                                                                                \r"
     ]
    }
   ],
   "source": [
    "from pyspark.sql.functions import array, expr\n",
    "from pyspark.sql.types import ArrayType, FloatType\n",
    "\n",
    "\n",
    "\n",
    "for region in regions:\n",
    "    print(f\"Processing region: {region}\")\n",
    "    try:\n",
    "        # Read and filter data for this region\n",
    "        region_df = spark.read.parquet(input_path) \\\n",
    "            .filter(f\"region = '{region}'\")\n",
    "        \n",
    "        # Process embeddings\n",
    "        result = region_df.select(\n",
    "            \"region\",\n",
    "            explode(\"description_embedding\").alias(\"embedding_array\")\n",
    "        ).groupBy(\"region\").agg(\n",
    "            *[expr(expr_str) for expr_str in avg_expressions]\n",
    "        ).select(\n",
    "            \"region\",\n",
    "            array(*array_constructor).alias(\"avg_description_embedding\")\n",
    "        )\n",
    "        \n",
    "        # Save result for this region\n",
    "        result.write.mode(\"overwrite\").parquet(f\"{output_base}/region={region}\")\n",
    "        \n",
    "        # Clear cache\n",
    "        spark.catalog.clearCache()\n",
    "        \n",
    "    except Exception as e:\n",
    "        print(f\"Error processing region {region}: {str(e)}\")\n",
    "        continue"
   ]
  },
  {
   "cell_type": "markdown",
   "id": "93911f2a-fb69-4c33-bb5d-77c3d097cd23",
   "metadata": {},
   "source": [
    "As each region was stored in seperate parquet file, we join them together to allow for future analysis."
   ]
  },
  {
   "cell_type": "code",
   "execution_count": null,
   "id": "3fd3235f-1c95-4fca-a77e-facc9cdd55f0",
   "metadata": {},
   "outputs": [],
   "source": [
    "print(\"Combining results...\")\n",
    "final_df = spark.read.parquet(output_base)\n",
    "final_df.coalesce(1).write \\\n",
    "    .mode(\"overwrite\") \\\n",
    "    .parquet(\"avg_embeddingi.parquet\")\n",
    "\n",
    "# Show sample of results\n",
    "print(\"\\nSample of final results:\")\n",
    "final_df.show(5, truncate=False)"
   ]
  },
  {
   "cell_type": "code",
   "execution_count": 11,
   "id": "b593c8e7-7c7e-4445-b3e2-27a5c9ec5a84",
   "metadata": {},
   "outputs": [
    {
     "data": {
      "text/plain": [
       "22"
      ]
     },
     "execution_count": 11,
     "metadata": {},
     "output_type": "execute_result"
    }
   ],
   "source": [
    "final_df.count()"
   ]
  },
  {
   "cell_type": "markdown",
   "id": "60f80524-7fa9-4f4e-9a00-d47c5e9f9038",
   "metadata": {},
   "source": [
    "We have 22 embeddings, one for each region. This is what we wanted to achieve."
   ]
  },
  {
   "cell_type": "markdown",
   "id": "b1a44715-b47a-4d9f-8aed-1c372a3b9f55",
   "metadata": {},
   "source": [
    "## Aggregating by show name\n",
    "\n",
    "This part was created to check if the model is linguistically biased: if the same information encoded in different languages gets vastly different vector representations, but due to the fact that our dataset was huge, the data complexity as well, our hardware could not handle such work. Here we do the similar steps as before, looking for number of individual `show_name` that appeared in our dataset."
   ]
  },
  {
   "cell_type": "code",
   "execution_count": 7,
   "id": "f527ba9a-d85a-4a16-9bbc-71541673334f",
   "metadata": {},
   "outputs": [
    {
     "name": "stdout",
     "output_type": "stream",
     "text": [
      "Found 7943 show_names to process\n"
     ]
    }
   ],
   "source": [
    "\n",
    "input_path = \"embeddingi.parquet\"\n",
    "output_base = \"./avg_embeddingi_by_show_name.parquet\"\n",
    "\n",
    "# get dimension of embeddings from first row\n",
    "sample_embedding = spark.read.parquet(input_path).select(\"description_embedding\").first()[0][0]\n",
    "embedding_size = len(sample_embedding)\n",
    "\n",
    "# create the averaging expression for each position in the embedding\n",
    "avg_expressions = [f\"avg(embedding_array[{i}]) as col_{i}\" for i in range(embedding_size)]\n",
    "array_constructor = [f\"col_{i}\" for i in range(embedding_size)]\n",
    "\n",
    "# get unique regions\n",
    "show_names = spark.read.parquet(input_path) \\\n",
    "    .select(\"show_name\").distinct() \\\n",
    "    .rdd.map(lambda x: x.show_name).collect()\n",
    "\n",
    "print(f\"Found {len(show_names)} show_names to process\")"
   ]
  },
  {
   "cell_type": "markdown",
   "id": "bb5232fb-a34c-4a6d-866b-977f87e9e869",
   "metadata": {},
   "source": [
    "We have 7943 show_names which is 360 times more than regions. Calculation of each region took at least 5 seconds per region, on that pace, these embeddings would be done calculating in 11 hours. We do not have that much time. "
   ]
  },
  {
   "cell_type": "code",
   "execution_count": 6,
   "id": "be66ba24-3495-4574-9e5a-bb26ab321e06",
   "metadata": {},
   "outputs": [
    {
     "name": "stdout",
     "output_type": "stream",
     "text": [
      "Processing region:  del problema amb el Suave Fest. Reaccionem a la revelació sobre Clara Chía i la mare de Piqué.\"\n"
     ]
    },
    {
     "name": "stderr",
     "output_type": "stream",
     "text": [
      "24/12/07 08:28:20 WARN SparkStringUtils: Truncated the string representation of a plan since it was too large. This behavior can be adjusted by setting 'spark.sql.debug.maxToStringFields'.\n",
      "24/12/07 08:28:31 WARN DAGScheduler: Broadcasting large task binary with size 1315.6 KiB\n",
      "                                                                                \r"
     ]
    },
    {
     "name": "stdout",
     "output_type": "stream",
     "text": [
      "Processing region: Más de uno\n"
     ]
    },
    {
     "name": "stderr",
     "output_type": "stream",
     "text": [
      "24/12/07 08:29:11 WARN DAGScheduler: Broadcasting large task binary with size 1316.5 KiB\n",
      "                                                                                \r"
     ]
    },
    {
     "name": "stdout",
     "output_type": "stream",
     "text": [
      "Processing region: Crónica Rosa\n"
     ]
    },
    {
     "name": "stderr",
     "output_type": "stream",
     "text": [
      "24/12/07 08:29:51 WARN DAGScheduler: Broadcasting large task binary with size 1318.1 KiB\n",
      "                                                                                \r"
     ]
    },
    {
     "name": "stdout",
     "output_type": "stream",
     "text": [
      "Processing region: Carne Cruda Podcast\n"
     ]
    },
    {
     "name": "stderr",
     "output_type": "stream",
     "text": [
      "ERROR:root:KeyboardInterrupt while sending command.               (21 + 2) / 49]\n",
      "Traceback (most recent call last):\n",
      "  File \"/home/bitdoh/miniconda3/envs/sparknlp/lib/python3.8/site-packages/py4j/java_gateway.py\", line 1038, in send_command\n",
      "    response = connection.send_command(command)\n",
      "  File \"/home/bitdoh/miniconda3/envs/sparknlp/lib/python3.8/site-packages/py4j/clientserver.py\", line 511, in send_command\n",
      "    answer = smart_decode(self.stream.readline()[:-1])\n",
      "  File \"/home/bitdoh/miniconda3/envs/sparknlp/lib/python3.8/socket.py\", line 681, in readinto\n",
      "    return self._sock.recv_into(b)\n",
      "KeyboardInterrupt\n"
     ]
    },
    {
     "ename": "KeyboardInterrupt",
     "evalue": "",
     "output_type": "error",
     "traceback": [
      "\u001b[0;31m---------------------------------------------------------------------------\u001b[0m",
      "\u001b[0;31mKeyboardInterrupt\u001b[0m                         Traceback (most recent call last)",
      "Cell \u001b[0;32mIn[6], line 25\u001b[0m\n\u001b[1;32m     14\u001b[0m result \u001b[38;5;241m=\u001b[39m show_name_df\u001b[38;5;241m.\u001b[39mselect(\n\u001b[1;32m     15\u001b[0m     \u001b[38;5;124m\"\u001b[39m\u001b[38;5;124mregion\u001b[39m\u001b[38;5;124m\"\u001b[39m,\n\u001b[1;32m     16\u001b[0m     explode(\u001b[38;5;124m\"\u001b[39m\u001b[38;5;124mdescription_embedding\u001b[39m\u001b[38;5;124m\"\u001b[39m)\u001b[38;5;241m.\u001b[39malias(\u001b[38;5;124m\"\u001b[39m\u001b[38;5;124membedding_array\u001b[39m\u001b[38;5;124m\"\u001b[39m)\n\u001b[0;32m   (...)\u001b[0m\n\u001b[1;32m     21\u001b[0m     array(\u001b[38;5;241m*\u001b[39marray_constructor)\u001b[38;5;241m.\u001b[39malias(\u001b[38;5;124m\"\u001b[39m\u001b[38;5;124mavg_description_embedding\u001b[39m\u001b[38;5;124m\"\u001b[39m)\n\u001b[1;32m     22\u001b[0m )\n\u001b[1;32m     24\u001b[0m \u001b[38;5;66;03m# Save result for this region\u001b[39;00m\n\u001b[0;32m---> 25\u001b[0m \u001b[43mresult\u001b[49m\u001b[38;5;241;43m.\u001b[39;49m\u001b[43mwrite\u001b[49m\u001b[38;5;241;43m.\u001b[39;49m\u001b[43mmode\u001b[49m\u001b[43m(\u001b[49m\u001b[38;5;124;43m\"\u001b[39;49m\u001b[38;5;124;43moverwrite\u001b[39;49m\u001b[38;5;124;43m\"\u001b[39;49m\u001b[43m)\u001b[49m\u001b[38;5;241;43m.\u001b[39;49m\u001b[43mparquet\u001b[49m\u001b[43m(\u001b[49m\u001b[38;5;124;43mf\u001b[39;49m\u001b[38;5;124;43m\"\u001b[39;49m\u001b[38;5;132;43;01m{\u001b[39;49;00m\u001b[43moutput_base\u001b[49m\u001b[38;5;132;43;01m}\u001b[39;49;00m\u001b[38;5;124;43m/show_name=\u001b[39;49m\u001b[38;5;132;43;01m{\u001b[39;49;00m\u001b[43mshow_name\u001b[49m\u001b[38;5;132;43;01m}\u001b[39;49;00m\u001b[38;5;124;43m\"\u001b[39;49m\u001b[43m)\u001b[49m\n\u001b[1;32m     27\u001b[0m \u001b[38;5;66;03m# Clear cache\u001b[39;00m\n\u001b[1;32m     28\u001b[0m spark\u001b[38;5;241m.\u001b[39mcatalog\u001b[38;5;241m.\u001b[39mclearCache()\n",
      "File \u001b[0;32m~/miniconda3/envs/sparknlp/lib/python3.8/site-packages/pyspark/sql/readwriter.py:1721\u001b[0m, in \u001b[0;36mDataFrameWriter.parquet\u001b[0;34m(self, path, mode, partitionBy, compression)\u001b[0m\n\u001b[1;32m   1719\u001b[0m     \u001b[38;5;28mself\u001b[39m\u001b[38;5;241m.\u001b[39mpartitionBy(partitionBy)\n\u001b[1;32m   1720\u001b[0m \u001b[38;5;28mself\u001b[39m\u001b[38;5;241m.\u001b[39m_set_opts(compression\u001b[38;5;241m=\u001b[39mcompression)\n\u001b[0;32m-> 1721\u001b[0m \u001b[38;5;28;43mself\u001b[39;49m\u001b[38;5;241;43m.\u001b[39;49m\u001b[43m_jwrite\u001b[49m\u001b[38;5;241;43m.\u001b[39;49m\u001b[43mparquet\u001b[49m\u001b[43m(\u001b[49m\u001b[43mpath\u001b[49m\u001b[43m)\u001b[49m\n",
      "File \u001b[0;32m~/miniconda3/envs/sparknlp/lib/python3.8/site-packages/py4j/java_gateway.py:1321\u001b[0m, in \u001b[0;36mJavaMember.__call__\u001b[0;34m(self, *args)\u001b[0m\n\u001b[1;32m   1314\u001b[0m args_command, temp_args \u001b[38;5;241m=\u001b[39m \u001b[38;5;28mself\u001b[39m\u001b[38;5;241m.\u001b[39m_build_args(\u001b[38;5;241m*\u001b[39margs)\n\u001b[1;32m   1316\u001b[0m command \u001b[38;5;241m=\u001b[39m proto\u001b[38;5;241m.\u001b[39mCALL_COMMAND_NAME \u001b[38;5;241m+\u001b[39m\\\n\u001b[1;32m   1317\u001b[0m     \u001b[38;5;28mself\u001b[39m\u001b[38;5;241m.\u001b[39mcommand_header \u001b[38;5;241m+\u001b[39m\\\n\u001b[1;32m   1318\u001b[0m     args_command \u001b[38;5;241m+\u001b[39m\\\n\u001b[1;32m   1319\u001b[0m     proto\u001b[38;5;241m.\u001b[39mEND_COMMAND_PART\n\u001b[0;32m-> 1321\u001b[0m answer \u001b[38;5;241m=\u001b[39m \u001b[38;5;28;43mself\u001b[39;49m\u001b[38;5;241;43m.\u001b[39;49m\u001b[43mgateway_client\u001b[49m\u001b[38;5;241;43m.\u001b[39;49m\u001b[43msend_command\u001b[49m\u001b[43m(\u001b[49m\u001b[43mcommand\u001b[49m\u001b[43m)\u001b[49m\n\u001b[1;32m   1322\u001b[0m return_value \u001b[38;5;241m=\u001b[39m get_return_value(\n\u001b[1;32m   1323\u001b[0m     answer, \u001b[38;5;28mself\u001b[39m\u001b[38;5;241m.\u001b[39mgateway_client, \u001b[38;5;28mself\u001b[39m\u001b[38;5;241m.\u001b[39mtarget_id, \u001b[38;5;28mself\u001b[39m\u001b[38;5;241m.\u001b[39mname)\n\u001b[1;32m   1325\u001b[0m \u001b[38;5;28;01mfor\u001b[39;00m temp_arg \u001b[38;5;129;01min\u001b[39;00m temp_args:\n",
      "File \u001b[0;32m~/miniconda3/envs/sparknlp/lib/python3.8/site-packages/py4j/java_gateway.py:1038\u001b[0m, in \u001b[0;36mGatewayClient.send_command\u001b[0;34m(self, command, retry, binary)\u001b[0m\n\u001b[1;32m   1036\u001b[0m connection \u001b[38;5;241m=\u001b[39m \u001b[38;5;28mself\u001b[39m\u001b[38;5;241m.\u001b[39m_get_connection()\n\u001b[1;32m   1037\u001b[0m \u001b[38;5;28;01mtry\u001b[39;00m:\n\u001b[0;32m-> 1038\u001b[0m     response \u001b[38;5;241m=\u001b[39m \u001b[43mconnection\u001b[49m\u001b[38;5;241;43m.\u001b[39;49m\u001b[43msend_command\u001b[49m\u001b[43m(\u001b[49m\u001b[43mcommand\u001b[49m\u001b[43m)\u001b[49m\n\u001b[1;32m   1039\u001b[0m     \u001b[38;5;28;01mif\u001b[39;00m binary:\n\u001b[1;32m   1040\u001b[0m         \u001b[38;5;28;01mreturn\u001b[39;00m response, \u001b[38;5;28mself\u001b[39m\u001b[38;5;241m.\u001b[39m_create_connection_guard(connection)\n",
      "File \u001b[0;32m~/miniconda3/envs/sparknlp/lib/python3.8/site-packages/py4j/clientserver.py:511\u001b[0m, in \u001b[0;36mClientServerConnection.send_command\u001b[0;34m(self, command)\u001b[0m\n\u001b[1;32m    509\u001b[0m \u001b[38;5;28;01mtry\u001b[39;00m:\n\u001b[1;32m    510\u001b[0m     \u001b[38;5;28;01mwhile\u001b[39;00m \u001b[38;5;28;01mTrue\u001b[39;00m:\n\u001b[0;32m--> 511\u001b[0m         answer \u001b[38;5;241m=\u001b[39m smart_decode(\u001b[38;5;28;43mself\u001b[39;49m\u001b[38;5;241;43m.\u001b[39;49m\u001b[43mstream\u001b[49m\u001b[38;5;241;43m.\u001b[39;49m\u001b[43mreadline\u001b[49m\u001b[43m(\u001b[49m\u001b[43m)\u001b[49m[:\u001b[38;5;241m-\u001b[39m\u001b[38;5;241m1\u001b[39m])\n\u001b[1;32m    512\u001b[0m         logger\u001b[38;5;241m.\u001b[39mdebug(\u001b[38;5;124m\"\u001b[39m\u001b[38;5;124mAnswer received: \u001b[39m\u001b[38;5;132;01m{0}\u001b[39;00m\u001b[38;5;124m\"\u001b[39m\u001b[38;5;241m.\u001b[39mformat(answer))\n\u001b[1;32m    513\u001b[0m         \u001b[38;5;66;03m# Happens when a the other end is dead. There might be an empty\u001b[39;00m\n\u001b[1;32m    514\u001b[0m         \u001b[38;5;66;03m# answer before the socket raises an error.\u001b[39;00m\n",
      "File \u001b[0;32m~/miniconda3/envs/sparknlp/lib/python3.8/socket.py:681\u001b[0m, in \u001b[0;36mSocketIO.readinto\u001b[0;34m(self, b)\u001b[0m\n\u001b[1;32m    679\u001b[0m \u001b[38;5;28;01mwhile\u001b[39;00m \u001b[38;5;28;01mTrue\u001b[39;00m:\n\u001b[1;32m    680\u001b[0m     \u001b[38;5;28;01mtry\u001b[39;00m:\n\u001b[0;32m--> 681\u001b[0m         \u001b[38;5;28;01mreturn\u001b[39;00m \u001b[38;5;28;43mself\u001b[39;49m\u001b[38;5;241;43m.\u001b[39;49m\u001b[43m_sock\u001b[49m\u001b[38;5;241;43m.\u001b[39;49m\u001b[43mrecv_into\u001b[49m\u001b[43m(\u001b[49m\u001b[43mb\u001b[49m\u001b[43m)\u001b[49m\n\u001b[1;32m    682\u001b[0m     \u001b[38;5;28;01mexcept\u001b[39;00m timeout:\n\u001b[1;32m    683\u001b[0m         \u001b[38;5;28mself\u001b[39m\u001b[38;5;241m.\u001b[39m_timeout_occurred \u001b[38;5;241m=\u001b[39m \u001b[38;5;28;01mTrue\u001b[39;00m\n",
      "\u001b[0;31mKeyboardInterrupt\u001b[0m: "
     ]
    },
    {
     "name": "stderr",
     "output_type": "stream",
     "text": [
      "24/12/07 08:30:24 WARN DAGScheduler: Broadcasting large task binary with size 1318.1 KiB\n",
      "                                                                                \r"
     ]
    }
   ],
   "source": [
    "from pyspark.sql.functions import array, expr\n",
    "from pyspark.sql.types import ArrayType, FloatType\n",
    "\n",
    "\n",
    "for show_name in show_names:\n",
    "    print(f\"Processing region: {show_name}\")\n",
    "    try:\n",
    "        # read and filter data for this show_name\n",
    "        show_name_df = spark.read.parquet(input_path) \\\n",
    "            .filter(f\"show_name = '{show_name}'\")\n",
    "        \n",
    "        # process embeddings\n",
    "        result = show_name_df.select(\n",
    "            \"region\",\n",
    "            explode(\"description_embedding\").alias(\"embedding_array\")\n",
    "        ).groupBy(\"region\").agg(\n",
    "            *[expr(expr_str) for expr_str in avg_expressions]\n",
    "        ).select(\n",
    "            \"region\",\n",
    "            array(*array_constructor).alias(\"avg_description_embedding\")\n",
    "        )\n",
    "        \n",
    "        # save result for this region\n",
    "        result.write.mode(\"overwrite\").parquet(f\"{output_base}/show_name={show_name}\")\n",
    "        \n",
    "        # clear cache\n",
    "        spark.catalog.clearCache()\n",
    "        \n",
    "    except Exception as e:\n",
    "        print(f\"Error processing region {show_name}: {str(e)}\")\n",
    "        continue"
   ]
  },
  {
   "cell_type": "markdown",
   "id": "bc4bcc56-754d-47ad-8b75-c8bae21f01dd",
   "metadata": {},
   "source": [
    "This code would calculate the embeddings for given shows but this process would take too much time for our needs. Then the following analysis would just need to be repeated with parquet file `avg_embeddingi_by_show_name.parquet` instead of `avg_embeddingi_by_region`."
   ]
  },
  {
   "cell_type": "markdown",
   "id": "68c4c243-6256-474e-9014-6ee168392ce7",
   "metadata": {},
   "source": [
    "# Clustering\n",
    "\n",
    "This part is dedicated towards clustering the embeddings obtained from the previous step."
   ]
  },
  {
   "cell_type": "markdown",
   "id": "fa2f252a-aa72-4cd3-9af0-6bf434abfc92",
   "metadata": {},
   "source": [
    "## Loading the average region embeddings"
   ]
  },
  {
   "cell_type": "code",
   "execution_count": 1,
   "id": "d07d26e9-f39c-45c8-a435-e0204f6f6597",
   "metadata": {},
   "outputs": [
    {
     "name": "stderr",
     "output_type": "stream",
     "text": [
      "24/12/07 08:51:18 WARN Utils: Your hostname, bitdoh-linux resolves to a loopback address: 127.0.1.1; using 10.80.1.80 instead (on interface enp2s0)\n",
      "24/12/07 08:51:18 WARN Utils: Set SPARK_LOCAL_IP if you need to bind to another address\n"
     ]
    },
    {
     "name": "stdout",
     "output_type": "stream",
     "text": [
      ":: loading settings :: url = jar:file:/home/bitdoh/miniconda3/envs/sparknlp/lib/python3.8/site-packages/pyspark/jars/ivy-2.5.1.jar!/org/apache/ivy/core/settings/ivysettings.xml\n"
     ]
    },
    {
     "name": "stderr",
     "output_type": "stream",
     "text": [
      "Ivy Default Cache set to: /home/bitdoh/.ivy2/cache\n",
      "The jars for the packages stored in: /home/bitdoh/.ivy2/jars\n",
      "com.johnsnowlabs.nlp#spark-nlp_2.12 added as a dependency\n",
      ":: resolving dependencies :: org.apache.spark#spark-submit-parent-7c4e7c6c-4586-42ff-8fda-cab5a10dcecf;1.0\n",
      "\tconfs: [default]\n",
      "\tfound com.johnsnowlabs.nlp#spark-nlp_2.12;5.5.1 in central\n",
      "\tfound com.typesafe#config;1.4.2 in central\n",
      "\tfound org.rocksdb#rocksdbjni;6.29.5 in central\n",
      "\tfound com.amazonaws#aws-java-sdk-s3;1.12.500 in central\n",
      "\tfound com.amazonaws#aws-java-sdk-kms;1.12.500 in central\n",
      "\tfound com.amazonaws#aws-java-sdk-core;1.12.500 in central\n",
      "\tfound commons-logging#commons-logging;1.1.3 in central\n",
      "\tfound commons-codec#commons-codec;1.15 in central\n",
      "\tfound org.apache.httpcomponents#httpclient;4.5.13 in central\n",
      "\tfound org.apache.httpcomponents#httpcore;4.4.13 in central\n",
      "\tfound software.amazon.ion#ion-java;1.0.2 in central\n",
      "\tfound joda-time#joda-time;2.8.1 in central\n",
      "\tfound com.amazonaws#jmespath-java;1.12.500 in central\n",
      "\tfound com.github.universal-automata#liblevenshtein;3.0.0 in central\n",
      "\tfound com.google.protobuf#protobuf-java-util;3.0.0-beta-3 in central\n",
      "\tfound com.google.protobuf#protobuf-java;3.0.0-beta-3 in central\n",
      "\tfound com.google.code.gson#gson;2.3 in central\n",
      "\tfound it.unimi.dsi#fastutil;7.0.12 in central\n",
      "\tfound org.projectlombok#lombok;1.16.8 in central\n",
      "\tfound com.google.cloud#google-cloud-storage;2.20.1 in central\n",
      "\tfound com.google.guava#guava;31.1-jre in central\n",
      "\tfound com.google.guava#failureaccess;1.0.1 in central\n",
      "\tfound com.google.guava#listenablefuture;9999.0-empty-to-avoid-conflict-with-guava in central\n",
      "\tfound com.google.errorprone#error_prone_annotations;2.18.0 in central\n",
      "\tfound com.google.j2objc#j2objc-annotations;1.3 in central\n",
      "\tfound com.google.http-client#google-http-client;1.43.0 in central\n",
      "\tfound io.opencensus#opencensus-contrib-http-util;0.31.1 in central\n",
      "\tfound com.google.http-client#google-http-client-jackson2;1.43.0 in central\n",
      "\tfound com.google.http-client#google-http-client-gson;1.43.0 in central\n",
      "\tfound com.google.api-client#google-api-client;2.2.0 in central\n",
      "\tfound com.google.oauth-client#google-oauth-client;1.34.1 in central\n",
      "\tfound com.google.http-client#google-http-client-apache-v2;1.43.0 in central\n",
      "\tfound com.google.apis#google-api-services-storage;v1-rev20220705-2.0.0 in central\n",
      "\tfound com.google.code.gson#gson;2.10.1 in central\n",
      "\tfound com.google.cloud#google-cloud-core;2.12.0 in central\n",
      "\tfound io.grpc#grpc-context;1.53.0 in central\n",
      "\tfound com.google.auto.value#auto-value-annotations;1.10.1 in central\n",
      "\tfound com.google.auto.value#auto-value;1.10.1 in central\n",
      "\tfound javax.annotation#javax.annotation-api;1.3.2 in central\n",
      "\tfound com.google.cloud#google-cloud-core-http;2.12.0 in central\n",
      "\tfound com.google.http-client#google-http-client-appengine;1.43.0 in central\n",
      "\tfound com.google.api#gax-httpjson;0.108.2 in central\n",
      "\tfound com.google.cloud#google-cloud-core-grpc;2.12.0 in central\n",
      "\tfound io.grpc#grpc-alts;1.53.0 in central\n",
      "\tfound io.grpc#grpc-grpclb;1.53.0 in central\n",
      "\tfound org.conscrypt#conscrypt-openjdk-uber;2.5.2 in central\n",
      "\tfound io.grpc#grpc-auth;1.53.0 in central\n",
      "\tfound io.grpc#grpc-protobuf;1.53.0 in central\n",
      "\tfound io.grpc#grpc-protobuf-lite;1.53.0 in central\n",
      "\tfound io.grpc#grpc-core;1.53.0 in central\n",
      "\tfound com.google.api#gax;2.23.2 in central\n",
      "\tfound com.google.api#gax-grpc;2.23.2 in central\n",
      "\tfound com.google.auth#google-auth-library-credentials;1.16.0 in central\n",
      "\tfound com.google.auth#google-auth-library-oauth2-http;1.16.0 in central\n",
      "\tfound com.google.api#api-common;2.6.2 in central\n",
      "\tfound io.opencensus#opencensus-api;0.31.1 in central\n",
      "\tfound com.google.api.grpc#proto-google-iam-v1;1.9.2 in central\n",
      "\tfound com.google.protobuf#protobuf-java;3.21.12 in central\n",
      "\tfound com.google.protobuf#protobuf-java-util;3.21.12 in central\n",
      "\tfound com.google.api.grpc#proto-google-common-protos;2.14.2 in central\n",
      "\tfound org.threeten#threetenbp;1.6.5 in central\n",
      "\tfound com.google.api.grpc#proto-google-cloud-storage-v2;2.20.1-alpha in central\n",
      "\tfound com.google.api.grpc#grpc-google-cloud-storage-v2;2.20.1-alpha in central\n",
      "\tfound com.google.api.grpc#gapic-google-cloud-storage-v2;2.20.1-alpha in central\n",
      "\tfound com.google.code.findbugs#jsr305;3.0.2 in central\n",
      "\tfound io.grpc#grpc-api;1.53.0 in central\n",
      "\tfound io.grpc#grpc-stub;1.53.0 in central\n",
      "\tfound org.checkerframework#checker-qual;3.31.0 in central\n",
      "\tfound io.perfmark#perfmark-api;0.26.0 in central\n",
      "\tfound com.google.android#annotations;4.1.1.4 in central\n",
      "\tfound org.codehaus.mojo#animal-sniffer-annotations;1.22 in central\n",
      "\tfound io.opencensus#opencensus-proto;0.2.0 in central\n",
      "\tfound io.grpc#grpc-services;1.53.0 in central\n",
      "\tfound com.google.re2j#re2j;1.6 in central\n",
      "\tfound io.grpc#grpc-netty-shaded;1.53.0 in central\n",
      "\tfound io.grpc#grpc-googleapis;1.53.0 in central\n",
      "\tfound io.grpc#grpc-xds;1.53.0 in central\n",
      "\tfound com.navigamez#greex;1.0 in central\n",
      "\tfound dk.brics.automaton#automaton;1.11-8 in central\n",
      "\tfound com.johnsnowlabs.nlp#tensorflow-cpu_2.12;0.4.4 in central\n",
      "\tfound com.microsoft.onnxruntime#onnxruntime;1.19.2 in central\n",
      "\tfound com.johnsnowlabs.nlp#jsl-llamacpp-cpu_2.12;0.1.4 in central\n",
      "\tfound org.jetbrains#annotations;24.1.0 in central\n",
      "\tfound com.johnsnowlabs.nlp#jsl-openvino-cpu_2.12;0.1.0 in central\n",
      ":: resolution report :: resolve 1644ms :: artifacts dl 54ms\n",
      "\t:: modules in use:\n",
      "\tcom.amazonaws#aws-java-sdk-core;1.12.500 from central in [default]\n",
      "\tcom.amazonaws#aws-java-sdk-kms;1.12.500 from central in [default]\n",
      "\tcom.amazonaws#aws-java-sdk-s3;1.12.500 from central in [default]\n",
      "\tcom.amazonaws#jmespath-java;1.12.500 from central in [default]\n",
      "\tcom.github.universal-automata#liblevenshtein;3.0.0 from central in [default]\n",
      "\tcom.google.android#annotations;4.1.1.4 from central in [default]\n",
      "\tcom.google.api#api-common;2.6.2 from central in [default]\n",
      "\tcom.google.api#gax;2.23.2 from central in [default]\n",
      "\tcom.google.api#gax-grpc;2.23.2 from central in [default]\n",
      "\tcom.google.api#gax-httpjson;0.108.2 from central in [default]\n",
      "\tcom.google.api-client#google-api-client;2.2.0 from central in [default]\n",
      "\tcom.google.api.grpc#gapic-google-cloud-storage-v2;2.20.1-alpha from central in [default]\n",
      "\tcom.google.api.grpc#grpc-google-cloud-storage-v2;2.20.1-alpha from central in [default]\n",
      "\tcom.google.api.grpc#proto-google-cloud-storage-v2;2.20.1-alpha from central in [default]\n",
      "\tcom.google.api.grpc#proto-google-common-protos;2.14.2 from central in [default]\n",
      "\tcom.google.api.grpc#proto-google-iam-v1;1.9.2 from central in [default]\n",
      "\tcom.google.apis#google-api-services-storage;v1-rev20220705-2.0.0 from central in [default]\n",
      "\tcom.google.auth#google-auth-library-credentials;1.16.0 from central in [default]\n",
      "\tcom.google.auth#google-auth-library-oauth2-http;1.16.0 from central in [default]\n",
      "\tcom.google.auto.value#auto-value;1.10.1 from central in [default]\n",
      "\tcom.google.auto.value#auto-value-annotations;1.10.1 from central in [default]\n",
      "\tcom.google.cloud#google-cloud-core;2.12.0 from central in [default]\n",
      "\tcom.google.cloud#google-cloud-core-grpc;2.12.0 from central in [default]\n",
      "\tcom.google.cloud#google-cloud-core-http;2.12.0 from central in [default]\n",
      "\tcom.google.cloud#google-cloud-storage;2.20.1 from central in [default]\n",
      "\tcom.google.code.findbugs#jsr305;3.0.2 from central in [default]\n",
      "\tcom.google.code.gson#gson;2.10.1 from central in [default]\n",
      "\tcom.google.errorprone#error_prone_annotations;2.18.0 from central in [default]\n",
      "\tcom.google.guava#failureaccess;1.0.1 from central in [default]\n",
      "\tcom.google.guava#guava;31.1-jre from central in [default]\n",
      "\tcom.google.guava#listenablefuture;9999.0-empty-to-avoid-conflict-with-guava from central in [default]\n",
      "\tcom.google.http-client#google-http-client;1.43.0 from central in [default]\n",
      "\tcom.google.http-client#google-http-client-apache-v2;1.43.0 from central in [default]\n",
      "\tcom.google.http-client#google-http-client-appengine;1.43.0 from central in [default]\n",
      "\tcom.google.http-client#google-http-client-gson;1.43.0 from central in [default]\n",
      "\tcom.google.http-client#google-http-client-jackson2;1.43.0 from central in [default]\n",
      "\tcom.google.j2objc#j2objc-annotations;1.3 from central in [default]\n",
      "\tcom.google.oauth-client#google-oauth-client;1.34.1 from central in [default]\n",
      "\tcom.google.protobuf#protobuf-java;3.21.12 from central in [default]\n",
      "\tcom.google.protobuf#protobuf-java-util;3.21.12 from central in [default]\n",
      "\tcom.google.re2j#re2j;1.6 from central in [default]\n",
      "\tcom.johnsnowlabs.nlp#jsl-llamacpp-cpu_2.12;0.1.4 from central in [default]\n",
      "\tcom.johnsnowlabs.nlp#jsl-openvino-cpu_2.12;0.1.0 from central in [default]\n",
      "\tcom.johnsnowlabs.nlp#spark-nlp_2.12;5.5.1 from central in [default]\n",
      "\tcom.johnsnowlabs.nlp#tensorflow-cpu_2.12;0.4.4 from central in [default]\n",
      "\tcom.microsoft.onnxruntime#onnxruntime;1.19.2 from central in [default]\n",
      "\tcom.navigamez#greex;1.0 from central in [default]\n",
      "\tcom.typesafe#config;1.4.2 from central in [default]\n",
      "\tcommons-codec#commons-codec;1.15 from central in [default]\n",
      "\tcommons-logging#commons-logging;1.1.3 from central in [default]\n",
      "\tdk.brics.automaton#automaton;1.11-8 from central in [default]\n",
      "\tio.grpc#grpc-alts;1.53.0 from central in [default]\n",
      "\tio.grpc#grpc-api;1.53.0 from central in [default]\n",
      "\tio.grpc#grpc-auth;1.53.0 from central in [default]\n",
      "\tio.grpc#grpc-context;1.53.0 from central in [default]\n",
      "\tio.grpc#grpc-core;1.53.0 from central in [default]\n",
      "\tio.grpc#grpc-googleapis;1.53.0 from central in [default]\n",
      "\tio.grpc#grpc-grpclb;1.53.0 from central in [default]\n",
      "\tio.grpc#grpc-netty-shaded;1.53.0 from central in [default]\n",
      "\tio.grpc#grpc-protobuf;1.53.0 from central in [default]\n",
      "\tio.grpc#grpc-protobuf-lite;1.53.0 from central in [default]\n",
      "\tio.grpc#grpc-services;1.53.0 from central in [default]\n",
      "\tio.grpc#grpc-stub;1.53.0 from central in [default]\n",
      "\tio.grpc#grpc-xds;1.53.0 from central in [default]\n",
      "\tio.opencensus#opencensus-api;0.31.1 from central in [default]\n",
      "\tio.opencensus#opencensus-contrib-http-util;0.31.1 from central in [default]\n",
      "\tio.opencensus#opencensus-proto;0.2.0 from central in [default]\n",
      "\tio.perfmark#perfmark-api;0.26.0 from central in [default]\n",
      "\tit.unimi.dsi#fastutil;7.0.12 from central in [default]\n",
      "\tjavax.annotation#javax.annotation-api;1.3.2 from central in [default]\n",
      "\tjoda-time#joda-time;2.8.1 from central in [default]\n",
      "\torg.apache.httpcomponents#httpclient;4.5.13 from central in [default]\n",
      "\torg.apache.httpcomponents#httpcore;4.4.13 from central in [default]\n",
      "\torg.checkerframework#checker-qual;3.31.0 from central in [default]\n",
      "\torg.codehaus.mojo#animal-sniffer-annotations;1.22 from central in [default]\n",
      "\torg.conscrypt#conscrypt-openjdk-uber;2.5.2 from central in [default]\n",
      "\torg.jetbrains#annotations;24.1.0 from central in [default]\n",
      "\torg.projectlombok#lombok;1.16.8 from central in [default]\n",
      "\torg.rocksdb#rocksdbjni;6.29.5 from central in [default]\n",
      "\torg.threeten#threetenbp;1.6.5 from central in [default]\n",
      "\tsoftware.amazon.ion#ion-java;1.0.2 from central in [default]\n",
      "\t:: evicted modules:\n",
      "\tcommons-logging#commons-logging;1.2 by [commons-logging#commons-logging;1.1.3] in [default]\n",
      "\tcommons-codec#commons-codec;1.11 by [commons-codec#commons-codec;1.15] in [default]\n",
      "\tcom.google.protobuf#protobuf-java-util;3.0.0-beta-3 by [com.google.protobuf#protobuf-java-util;3.21.12] in [default]\n",
      "\tcom.google.protobuf#protobuf-java;3.0.0-beta-3 by [com.google.protobuf#protobuf-java;3.21.12] in [default]\n",
      "\tcom.google.code.gson#gson;2.3 by [com.google.code.gson#gson;2.10.1] in [default]\n",
      "\t---------------------------------------------------------------------\n",
      "\t|                  |            modules            ||   artifacts   |\n",
      "\t|       conf       | number| search|dwnlded|evicted|| number|dwnlded|\n",
      "\t---------------------------------------------------------------------\n",
      "\t|      default     |   86  |   0   |   0   |   5   ||   81  |   0   |\n",
      "\t---------------------------------------------------------------------\n",
      ":: retrieving :: org.apache.spark#spark-submit-parent-7c4e7c6c-4586-42ff-8fda-cab5a10dcecf\n",
      "\tconfs: [default]\n",
      "\t0 artifacts copied, 81 already retrieved (0kB/21ms)\n",
      "24/12/07 08:51:20 WARN NativeCodeLoader: Unable to load native-hadoop library for your platform... using builtin-java classes where applicable\n",
      "Setting default log level to \"WARN\".\n",
      "To adjust logging level use sc.setLogLevel(newLevel). For SparkR, use setLogLevel(newLevel).\n",
      "24/12/07 08:51:21 WARN Utils: Service 'SparkUI' could not bind on port 4040. Attempting port 4041.\n",
      "24/12/07 08:51:29 WARN DataSource: [COLUMN_ALREADY_EXISTS] The column `region` already exists. Consider to choose another name or rename the existing column.\n"
     ]
    }
   ],
   "source": [
    "import pyspark\n",
    "from utils import create_spark_session\n",
    "spark = create_spark_session()\n",
    "\n",
    "df = spark.read.parquet('./avg_embeddingi_by_region')\n"
   ]
  },
  {
   "cell_type": "markdown",
   "id": "e78ef948-4293-4094-b200-ce251f48f0f8",
   "metadata": {},
   "source": [
    "Here we create automatic pipeline that:\n",
    "1. prepares data to the format that can be handled by PySpark clustering transformers (vectorizing embedding and changing it's name to veatures)\n",
    "2. creates pipeline with StandardScaler, PCA and clustering method of choice with adjustable number of clusters\n",
    "3. let us keep track of performance of different clustering methods with different number of clusters, with Sillhouette Coefficient\n",
    "4. plots the best result with scatterplot to vizualize objects, colored by clusters\n",
    "5. plots the bar plot of clustering methods with respect to achieved Sillhouette Coefficients"
   ]
  },
  {
   "cell_type": "code",
   "execution_count": 2,
   "id": "18c9f451-598a-4fa9-8617-c8e32ae02f37",
   "metadata": {},
   "outputs": [
    {
     "name": "stdout",
     "output_type": "stream",
     "text": [
      "\n",
      "Evaluating KMEANS...\n"
     ]
    },
    {
     "name": "stderr",
     "output_type": "stream",
     "text": [
      "                                                                                \r"
     ]
    },
    {
     "name": "stdout",
     "output_type": "stream",
     "text": [
      "KMEANS (k=2), silhouette=0.6009498548398112\n"
     ]
    },
    {
     "name": "stderr",
     "output_type": "stream",
     "text": [
      "                                                                                \r"
     ]
    },
    {
     "name": "stdout",
     "output_type": "stream",
     "text": [
      "KMEANS (k=3), silhouette=0.4700891210157568\n"
     ]
    },
    {
     "name": "stderr",
     "output_type": "stream",
     "text": [
      "                                                                                \r"
     ]
    },
    {
     "name": "stdout",
     "output_type": "stream",
     "text": [
      "KMEANS (k=4), silhouette=0.7665866800608199\n"
     ]
    },
    {
     "name": "stderr",
     "output_type": "stream",
     "text": [
      "                                                                                \r"
     ]
    },
    {
     "name": "stdout",
     "output_type": "stream",
     "text": [
      "KMEANS (k=5), silhouette=0.7334449802128528\n"
     ]
    },
    {
     "name": "stderr",
     "output_type": "stream",
     "text": [
      "                                                                                \r"
     ]
    },
    {
     "name": "stdout",
     "output_type": "stream",
     "text": [
      "KMEANS (k=6), silhouette=0.7843204150798381\n"
     ]
    },
    {
     "name": "stderr",
     "output_type": "stream",
     "text": [
      "                                                                                \r"
     ]
    },
    {
     "name": "stdout",
     "output_type": "stream",
     "text": [
      "KMEANS (k=7), silhouette=0.7704417839886747\n"
     ]
    },
    {
     "name": "stderr",
     "output_type": "stream",
     "text": [
      "                                                                                \r"
     ]
    },
    {
     "name": "stdout",
     "output_type": "stream",
     "text": [
      "KMEANS (k=8), silhouette=0.7435520096211964\n",
      "\n",
      "Evaluating BISECTING...\n"
     ]
    },
    {
     "name": "stderr",
     "output_type": "stream",
     "text": [
      "                                                                                \r"
     ]
    },
    {
     "name": "stdout",
     "output_type": "stream",
     "text": [
      "bisecting - k=3 produced only one cluster, skipping\n"
     ]
    },
    {
     "name": "stderr",
     "output_type": "stream",
     "text": [
      "                                                                                \r"
     ]
    },
    {
     "name": "stdout",
     "output_type": "stream",
     "text": [
      "bisecting - k=4 produced only one cluster, skipping\n"
     ]
    },
    {
     "name": "stderr",
     "output_type": "stream",
     "text": [
      "                                                                                \r"
     ]
    },
    {
     "name": "stdout",
     "output_type": "stream",
     "text": [
      "bisecting - k=5 produced only one cluster, skipping\n"
     ]
    },
    {
     "name": "stderr",
     "output_type": "stream",
     "text": [
      "                                                                                \r"
     ]
    },
    {
     "name": "stdout",
     "output_type": "stream",
     "text": [
      "bisecting - k=6 produced only one cluster, skipping\n"
     ]
    },
    {
     "name": "stderr",
     "output_type": "stream",
     "text": [
      "                                                                                \r"
     ]
    },
    {
     "name": "stdout",
     "output_type": "stream",
     "text": [
      "bisecting - k=7 produced only one cluster, skipping\n"
     ]
    },
    {
     "name": "stderr",
     "output_type": "stream",
     "text": [
      "                                                                                \r"
     ]
    },
    {
     "name": "stdout",
     "output_type": "stream",
     "text": [
      "bisecting - k=8 produced only one cluster, skipping\n",
      "\n",
      "Evaluating GMM...\n"
     ]
    },
    {
     "name": "stderr",
     "output_type": "stream",
     "text": [
      "                                                                                \r"
     ]
    },
    {
     "name": "stdout",
     "output_type": "stream",
     "text": [
      "GMM (k=2), silhouette=0.266490545450572\n"
     ]
    },
    {
     "name": "stderr",
     "output_type": "stream",
     "text": [
      "                                                                                \r"
     ]
    },
    {
     "name": "stdout",
     "output_type": "stream",
     "text": [
      "GMM (k=3), silhouette=0.3854865212299286\n"
     ]
    },
    {
     "name": "stderr",
     "output_type": "stream",
     "text": [
      "                                                                                \r"
     ]
    },
    {
     "name": "stdout",
     "output_type": "stream",
     "text": [
      "GMM (k=4), silhouette=0.2717679271997916\n"
     ]
    },
    {
     "name": "stderr",
     "output_type": "stream",
     "text": [
      "                                                                                \r"
     ]
    },
    {
     "name": "stdout",
     "output_type": "stream",
     "text": [
      "GMM (k=5), silhouette=0.06907378806515382\n"
     ]
    },
    {
     "name": "stderr",
     "output_type": "stream",
     "text": [
      "                                                                                \r"
     ]
    },
    {
     "name": "stdout",
     "output_type": "stream",
     "text": [
      "GMM (k=6), silhouette=0.6100003739621589\n"
     ]
    },
    {
     "name": "stderr",
     "output_type": "stream",
     "text": [
      "                                                                                \r"
     ]
    },
    {
     "name": "stdout",
     "output_type": "stream",
     "text": [
      "GMM (k=7), silhouette=0.5750232701478922\n"
     ]
    },
    {
     "name": "stderr",
     "output_type": "stream",
     "text": [
      "                                                                                \r"
     ]
    },
    {
     "name": "stdout",
     "output_type": "stream",
     "text": [
      "GMM (k=8), silhouette=0.5644248459661297\n",
      "\n",
      "All methods sorted by silhouette score:\n",
      "KMEANS (k=6): 0.7843\n",
      "KMEANS (k=7): 0.7704\n",
      "KMEANS (k=4): 0.7666\n",
      "KMEANS (k=8): 0.7436\n",
      "KMEANS (k=5): 0.7334\n",
      "GMM (k=6): 0.6100\n",
      "KMEANS (k=2): 0.6009\n",
      "GMM (k=7): 0.5750\n",
      "GMM (k=8): 0.5644\n",
      "KMEANS (k=3): 0.4701\n",
      "GMM (k=3): 0.3855\n",
      "GMM (k=4): 0.2718\n",
      "GMM (k=2): 0.2665\n",
      "GMM (k=5): 0.0691\n"
     ]
    },
    {
     "data": {
      "image/png": "[encoded data removed]",
      "text/plain": [
       "<Figure size 1000x600 with 1 Axes>"
      ]
     },
     "metadata": {},
     "output_type": "display_data"
    },
    {
     "name": "stdout",
     "output_type": "stream",
     "text": [
      "\n",
      "Best method: KMEANS (k=6)\n",
      "Silhouette Score: 0.7843\n"
     ]
    },
    {
     "data": {
      "image/png": "[encoded data removed]",
      "text/plain": [
       "<Figure size 1500x1000 with 2 Axes>"
      ]
     },
     "metadata": {},
     "output_type": "display_data"
    }
   ],
   "source": [
    "from pyspark.ml.feature import StandardScaler, PCA\n",
    "from pyspark.ml.clustering import KMeans, BisectingKMeans, GaussianMixture\n",
    "from pyspark.ml import Pipeline\n",
    "from pyspark.sql.functions import udf\n",
    "from pyspark.ml.linalg import Vectors, VectorUDT\n",
    "from pyspark.ml.evaluation import ClusteringEvaluator\n",
    "import matplotlib.pyplot as plt\n",
    "import numpy as np\n",
    "\n",
    "def prepare_data(spark_df):\n",
    "    array_to_vector = udf(lambda arr: Vectors.dense(arr), VectorUDT())\n",
    "    return spark_df.select(\n",
    "        \"region\",\n",
    "        array_to_vector(\"avg_description_embedding\").alias(\"features\")\n",
    "    )\n",
    "\n",
    "def create_pipeline(method='kmeans', k=3, pca_k=2):\n",
    "    standardizer = StandardScaler(\n",
    "        inputCol=\"features\",\n",
    "        outputCol=\"scaled_features\",\n",
    "        withStd=True,\n",
    "        withMean=True\n",
    "    )\n",
    "    \n",
    "    pca = PCA(\n",
    "        k=pca_k,\n",
    "        inputCol=\"scaled_features\",\n",
    "        outputCol=\"pca_features\"\n",
    "    )\n",
    "    \n",
    "    if method == 'kmeans':\n",
    "        clustering = KMeans(\n",
    "            k=k,\n",
    "            featuresCol=\"pca_features\",\n",
    "            predictionCol=\"cluster\",\n",
    "            seed=42\n",
    "        )\n",
    "    elif method == 'bisecting':\n",
    "        clustering = BisectingKMeans(\n",
    "            k=k,\n",
    "            featuresCol=\"pca_features\",\n",
    "            predictionCol=\"cluster\",\n",
    "            seed=42,\n",
    "            minDivisibleClusterSize=2\n",
    "        )\n",
    "    else:  # GMM\n",
    "        clustering = GaussianMixture(\n",
    "            k=k,\n",
    "            featuresCol=\"pca_features\",\n",
    "            predictionCol=\"cluster\",\n",
    "            seed=42\n",
    "        )\n",
    "        \n",
    "    return Pipeline(stages=[standardizer, pca, clustering])\n",
    "\n",
    "def evaluate_method(df, method, max_k=8):\n",
    "    all_results = []  # List to store (method_name, k, silhouette) tuples\n",
    "    evaluator = ClusteringEvaluator(\n",
    "        predictionCol=\"cluster\", \n",
    "        featuresCol=\"pca_features\", \n",
    "        metricName=\"silhouette\"\n",
    "    )\n",
    "    \n",
    "    start_k = 3 if method == 'bisecting' else 2\n",
    "    \n",
    "    for k in range(start_k, max_k + 1):\n",
    "        try:\n",
    "            pipeline = create_pipeline(method=method, k=k)\n",
    "            model = pipeline.fit(df)\n",
    "            transformed_df = model.transform(df)\n",
    "            \n",
    "            n_clusters = transformed_df.select(\"cluster\").distinct().count()\n",
    "            if n_clusters > 1:\n",
    "                silhouette = evaluator.evaluate(transformed_df)\n",
    "                # Store method name with k and silhouette score\n",
    "                method_name = f\"{method.upper()} (k={k})\"\n",
    "                all_results.append((method_name, k, silhouette, model))\n",
    "                print(f\"{method_name}, silhouette={silhouette}\")\n",
    "            else:\n",
    "                print(f\"{method} - k={k} produced only one cluster, skipping\")\n",
    "                \n",
    "        except Exception as e:\n",
    "            print(f\"Error with {method}, k={k}: {str(e)}\")\n",
    "            continue\n",
    "            \n",
    "    return all_results\n",
    "\n",
    "def plot_clusters(df, model, title):\n",
    "    # Country code to name and flag mapping\n",
    "    country_mapping = {\n",
    "        \"ar\": \"Argentina\",\n",
    "        \"au\": \"Australia\",\n",
    "        \"at\": \"Austria\",\n",
    "        \"br\": \"Brazil\",\n",
    "        \"ca\": \"Canada\",\n",
    "        \"cl\": \"Chile\",\n",
    "        \"co\": \"Colombia\",\n",
    "        \"fr\": \"France\",\n",
    "        \"de\": \"Germany\",\n",
    "        \"in\": \"India\",\n",
    "        \"id\": \"Indonesia\",\n",
    "        \"ie\": \"Ireland\",\n",
    "        \"it\": \"Italy\",\n",
    "        \"jp\": \"Japan\",\n",
    "        \"mx\": \"Mexico\",\n",
    "        \"nz\": \"New Zealand\",\n",
    "        \"ph\": \"Philippines\",\n",
    "        \"pl\": \"Poland\",\n",
    "        \"es\": \"Spain\",\n",
    "        \"nl\": \"Netherlands\",\n",
    "        \"gb\": \"United Kingdom\",\n",
    "        \"us\": \"United States\"\n",
    "    }\n",
    "    \n",
    "    # Get PCA features and clusters\n",
    "    result_df = model.transform(df)\n",
    "    \n",
    "    # Convert to numpy for plotting\n",
    "    pca_features = np.array([row.pca_features.toArray() for row in result_df.select(\"pca_features\").collect()])\n",
    "    clusters = [row.cluster for row in result_df.select(\"cluster\").collect()]\n",
    "    regions = [row.region for row in result_df.select(\"region\").collect()]\n",
    "    \n",
    "    # Create plot\n",
    "    plt.figure(figsize=(15, 10))  # Increased figure size for better label visibility\n",
    "    scatter = plt.scatter(pca_features[:, 0], pca_features[:, 1], c=clusters, cmap='viridis')\n",
    "    \n",
    "    # Add region labels with full names and flags\n",
    "    for i, region in enumerate(regions):\n",
    "        label = country_mapping.get(region, region)  # Use original code if not in mapping\n",
    "        plt.annotate(label, \n",
    "                    (pca_features[i, 0], pca_features[i, 1]),\n",
    "                    xytext=(5, 5), \n",
    "                    textcoords='offset points',\n",
    "                    fontsize=10)\n",
    "    \n",
    "    plt.title(f'Clustering Results using {title}', fontsize=14, pad=20)\n",
    "    plt.colorbar(scatter, label='Cluster')\n",
    "    \n",
    "    # Add explained variance\n",
    "    pca_model = model.stages[1]\n",
    "    var1, var2 = pca_model.explainedVariance\n",
    "    plt.xlabel(f'First Principal Component (variance: {var1:.2%})', fontsize=12)\n",
    "    plt.ylabel(f'Second Principal Component (variance: {var2:.2%})', fontsize=12)\n",
    "    \n",
    "    plt.tight_layout()\n",
    "    return plt.gcf()\n",
    "\n",
    "# Main execution\n",
    "input_df = spark.read.parquet(\"avg_embeddingi.parquet\")\n",
    "prepared_df = prepare_data(input_df)\n",
    "\n",
    "methods = ['kmeans', 'bisecting', 'gmm']\n",
    "all_results = []\n",
    "\n",
    "# Collect all results\n",
    "for method in methods:\n",
    "    print(f\"\\nEvaluating {method.upper()}...\")\n",
    "    method_results = evaluate_method(prepared_df, method)\n",
    "    all_results.extend(method_results)\n",
    "\n",
    "# Sort results by silhouette score in descending order\n",
    "sorted_results = sorted(all_results, key=lambda x: x[2], reverse=True)\n",
    "\n",
    "# Print sorted results\n",
    "print(\"\\nAll methods sorted by silhouette score:\")\n",
    "for method_name, k, silhouette, _ in sorted_results:\n",
    "    print(f\"{method_name}: {silhouette:.4f}\")\n",
    "\n",
    "# Plot silhouette scores\n",
    "plt.figure(figsize=(10, 6))\n",
    "methods = [r[0] for r in sorted_results]\n",
    "scores = [r[2] for r in sorted_results]\n",
    "\n",
    "plt.bar(range(len(methods)), scores)\n",
    "plt.xticks(range(len(methods)), methods, rotation=45, ha='right')  # Rotated labels for better readability\n",
    "plt.ylabel('Silhouette Score')\n",
    "plt.xlabel('Clustering Methods')\n",
    "plt.title('Clustering Methods Comparison')\n",
    "plt.grid(axis='y', linestyle='--', alpha=0.7)  # Added grid for better readability\n",
    "plt.tight_layout()  # Adjust layout to prevent label cutoff\n",
    "plt.show()\n",
    "\n",
    "# Get best result\n",
    "best_method_name, best_k, best_score, best_model = sorted_results[0]\n",
    "print(f\"\\nBest method: {best_method_name}\")\n",
    "print(f\"Silhouette Score: {best_score:.4f}\")\n",
    "\n",
    "# Plot clusters for best model\n",
    "plot_clusters(prepared_df, best_model, best_method_name)\n",
    "plt.show()"
   ]
  },
  {
   "cell_type": "markdown",
   "id": "44e7896e-5aa4-4e91-949d-70e6a6792ca5",
   "metadata": {},
   "source": [
    "This result concludes this task. We managed to obtain the sensible clustering for regions based on descriptions of podcast episodes. The question remains if the clustering is based on language or on the semantic content. The clusters that got created are in many cases mono-lingual but for example Indonesia got close with German countries, so it may constitute a counter-example to that allegation."
   ]
  }
 ],
 "metadata": {
  "kernelspec": {
   "display_name": "Python 3 (ipykernel)",
   "language": "python",
   "name": "python3"
  },
  "language_info": {
   "codemirror_mode": {
    "name": "ipython",
    "version": 3
   },
   "file_extension": ".py",
   "mimetype": "text/x-python",
   "name": "python",
   "nbconvert_exporter": "python",
   "pygments_lexer": "ipython3",
   "version": "3.12.7"
  }
 },
 "nbformat": 4,
 "nbformat_minor": 5
}
