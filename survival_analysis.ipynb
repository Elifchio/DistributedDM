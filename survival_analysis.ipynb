{
  "nbformat": 4,
  "nbformat_minor": 0,
  "metadata": {
    "colab": {
      "provenance": []
    },
    "kernelspec": {
      "name": "python3",
      "display_name": "Python 3"
    },
    "language_info": {
      "name": "python"
    }
  },
  "cells": [
    {
      "cell_type": "markdown",
      "source": [
        "# Imports, creating SparkSession, reading .csv file\n",
        "\n"
      ],
      "metadata": {
        "id": "RdInsSG770D9"
      }
    },
    {
      "cell_type": "code",
      "execution_count": 152,
      "metadata": {
        "colab": {
          "base_uri": "https://localhost:8080/"
        },
        "id": "nKH6zJkP7fuM",
        "outputId": "3128d704-e206-4177-85a2-0ebd37aa5a28"
      },
      "outputs": [
        {
          "output_type": "stream",
          "name": "stdout",
          "text": [
            "Requirement already satisfied: pyspark in /usr/local/lib/python3.10/dist-packages (3.5.3)\n",
            "Requirement already satisfied: py4j==0.10.9.7 in /usr/local/lib/python3.10/dist-packages (from pyspark) (0.10.9.7)\n"
          ]
        }
      ],
      "source": [
        "pip install pyspark"
      ]
    },
    {
      "cell_type": "code",
      "source": [
        "from pyspark.sql import SparkSession, Row\n",
        "from pyspark.sql.functions import col, sum, lit,regexp_replace, when, sqrt,log, log, exp, isnan, count, min, max, countDistinct, first, row_number, datediff, avg, round, upper, to_date, desc, round\n",
        "from pyspark.sql.window import Window\n",
        "from pyspark.sql.types import DateType, StringType, IntegerType, DoubleType, FloatType, NumericType, BooleanType\n",
        "import matplotlib.pyplot as plt\n",
        "from pyspark.ml.regression import AFTSurvivalRegression\n",
        "from pyspark.ml.feature import VectorAssembler, OneHotEncoder, StringIndexer\n",
        "from pyspark.ml.evaluation import RegressionEvaluator\n",
        "from pyspark.ml import Pipeline\n",
        "import kagglehub\n",
        "import numpy as np"
      ],
      "metadata": {
        "id": "0bFU6VYV7zEI"
      },
      "execution_count": 153,
      "outputs": []
    },
    {
      "cell_type": "code",
      "source": [
        "# imports for geopandas\n",
        "import matplotlib.patches as mpatches\n",
        "import matplotlib.pyplot as plt\n",
        "import pandas as pd\n",
        "import seaborn as sns\n",
        "import geopandas as gpd\n",
        "import matplotlib.colors as mcolors\n",
        "from matplotlib.cm import ScalarMappable\n",
        "world = gpd.read_file(\"/content/ne_110m_admin_0_countries.shp\")"
      ],
      "metadata": {
        "id": "g2a4QfCKWQje"
      },
      "execution_count": 154,
      "outputs": []
    },
    {
      "cell_type": "code",
      "source": [
        "spark = SparkSession.builder \\\n",
        "   .master(\"local\") \\\n",
        "   .appName(\"survival_analysis\") \\\n",
        "   .getOrCreate()"
      ],
      "metadata": {
        "id": "UvZ0bsco76kn"
      },
      "execution_count": 155,
      "outputs": []
    },
    {
      "cell_type": "code",
      "source": [
        "file_path = kagglehub.dataset_download(\"daniilmiheev/top-spotify-podcasts-daily-updated\")\n",
        "df= spark.read.format(\"csv\").load(file_path, header=True, inferSchema=True, quote='\"', escape = '\"')\n",
        "df.show()\n"
      ],
      "metadata": {
        "colab": {
          "base_uri": "https://localhost:8080/"
        },
        "id": "LjmdMcNH8EK0",
        "outputId": "37b7becf-f460-4363-875d-5f996f52eff7"
      },
      "execution_count": 156,
      "outputs": [
        {
          "output_type": "stream",
          "name": "stdout",
          "text": [
            "+----------+----+------+-------------+--------------------+--------------------+--------------------+--------------------+--------------------+--------------------+--------------------+-----------+--------+--------------------+-----------+--------+---------+------------+----------------------+---------------+-------------+--------------------+---------------------+-------------------------+--------------+---------------+-------------------+---------+--------------------+\n",
            "|      date|rank|region|chartRankMove|          episodeUri|             showUri|         episodeName|         description|           show.name|    show.description|      show.publisher|duration_ms|explicit|is_externally_hosted|is_playable|language|languages|release_date|release_date_precision|show.copyrights|show.explicit|           show.href|show.html_description|show.is_externally_hosted|show.languages|show.media_type|show.total_episodes|show.type|            show.uri|\n",
            "+----------+----+------+-------------+--------------------+--------------------+--------------------+--------------------+--------------------+--------------------+--------------------+-----------+--------+--------------------+-----------+--------+---------+------------+----------------------+---------------+-------------+--------------------+---------------------+-------------------------+--------------+---------------+-------------------+---------+--------------------+\n",
            "|2024-09-02|   1|    us|    UNCHANGED|37kBZRr3nqjltQXt8...|4rOoJ6Egrf8K2Iryw...|  #2197 - Mike Baker|Mike Baker is a f...|The Joe Rogan Exp...|The official podc...|           Joe Rogan|    9872105|    true|               false|       true|      en|   ['en']|  2024-08-29|                   day|             []|         true|https://api.spoti...| <p>The official p...|                    false|        ['en']|          mixed|               2366|     show|spotify:show:4rOo...|\n",
            "|2024-09-02|   2|    us|    UNCHANGED|293KKxbEKt2zrem6X...|4rOoJ6Egrf8K2Iryw...|#2195 - Andrew Hu...|Andrew Huberman, ...|The Joe Rogan Exp...|The official podc...|           Joe Rogan|   11250345|    true|               false|       true|      en|   ['en']|  2024-08-27|                   day|             []|         true|https://api.spoti...| <p>The official p...|                    false|        ['en']|          mixed|               2366|     show|spotify:show:4rOo...|\n",
            "|2024-09-02|   3|    us|    UNCHANGED|53z4LvgoGjjVkdiJk...|4rOoJ6Egrf8K2Iryw...|#2196 - Greg Fitz...|Greg Fitzsimmons ...|The Joe Rogan Exp...|The official podc...|           Joe Rogan|   10840020|    true|               false|       true|      en|   ['en']|  2024-08-28|                   day|             []|         true|https://api.spoti...| <p>The official p...|                    false|        ['en']|          mixed|               2366|     show|spotify:show:4rOo...|\n",
            "|2024-09-02|   4|    us|           UP|5rrRkpfKZUUR85WxM...|0KvuZJgXfOGanBRuq...|The Worst Creatur...|The Ice Age was n...|          ExtinctZoo|Your one stop sho...|          ExtinctZoo|    1073386|   false|               false|       true|      en|   ['en']|  2024-08-31|                   day|             []|        false|https://api.spoti...| Your one stop sho...|                    false|        ['en']|          mixed|                 30|     show|spotify:show:0Kvu...|\n",
            "|2024-09-02|   5|    us|         DOWN|2Qd2dJDDAocbTjGvX...|5L2ON33kXa2b7laBp...|Jeffrey Sachs: Tr...|Professor Jeffrey...|The Tucker Carlso...|The Tucker Carlso...|Tucker Carlson Ne...|    8896992|   false|               false|       true|      en|   ['en']|  2024-08-30|                   day|             []|        false|https://api.spoti...| <p>The Tucker Car...|                    false|        ['en']|          audio|                115|     show|spotify:show:5L2O...|\n",
            "|2024-09-02|   6|    us|           UP|6ftTzJq0DdTWSP1Xj...|23W0WKz1x1dbKXE0g...|The Most Unhinged...|Today on Mystery ...|        Austin Evans|Austin Evans is a...|        Austin Evans|    1096596|   false|               false|       true|   en-US|['en-US']|  2024-08-25|                   day|             []|        false|https://api.spoti...| Austin Evans is a...|                    false|     ['en-US']|          mixed|                 10|     show|spotify:show:23W0...|\n",
            "|2024-09-02|   7|    us|         DOWN|0c1jVbNQfDdYTLCxH...|5ss1pqMFqWjkOpt6A...|CFB Mega Preview ...|Football is back ...|      Pardon My Take|On \"Pardon My Tak...|     Barstool Sports|   10452192|    true|               false|       true|     und|  ['und']|  2024-08-30|                   day|             []|         true|https://api.spoti...| <p></p><p>On &#34...|                    false|       ['und']|          audio|                910|     show|spotify:show:5ss1...|\n",
            "|2024-09-02|   8|    us|           UP|0AzgFs8yyndibuZ7Z...|2gRd1woKiAazAKPWP...|407 - The Mushroo...|Tim examines Pave...| The Tim Dillon Show|Tim Dillon is a c...| The Tim Dillon Show|    4145606|   false|               false|       true|   en-US|['en-US']|  2024-08-31|                   day|             []|         true|https://api.spoti...| Tim Dillon is a c...|                    false|     ['en-US']|          audio|                265|     show|spotify:show:2gRd...|\n",
            "|2024-09-02|   9|    us|           UP|2p32tSSIJNmm0Ypg3...|65EpDFRLooaWLos5b...|Copying BRATS on ...|Am I a Brat for d...|        Duncanyounot|Watch as I Troll,...|        DuncanJoseph|     556308|   false|               false|       true|      en|   ['en']|  2024-08-27|                   day|             []|        false|https://api.spoti...| Watch as I Troll,...|                    false|        ['en']|          mixed|                  8|     show|spotify:show:65Ep...|\n",
            "|2024-09-02|  10|    us|           UP|62uIIt9mI32zR0L34...|122imavATqSE7eCyX...|The Trad Wife Par...|Trevor, Christian...|What Now? with Tr...|Trevor currently ...|     Spotify Studios|    3408533|   false|               false|       true|      en|   ['en']|  2024-08-29|                   day|             []|        false|https://api.spoti...| <p>Trevor current...|                    false|        ['en']|          mixed|                 44|     show|spotify:show:122i...|\n",
            "|2024-09-02|  11|    us|         DOWN|4JJzk9VGLlj0X6moB...|6kAsbP8pxwaU2kPib...|Armchair Anonymou...|Dax and Monica ta...|Armchair Expert w...|Hi, I’m Dax Shepa...|   Armchair Umbrella|    2983706|    true|               false|       true|      en|   ['en']|  2024-08-30|                   day|             []|         true|https://api.spoti...| <p>Hi, I’m Dax Sh...|                    false|        ['en']|          audio|                768|     show|spotify:show:6kAs...|\n",
            "|2024-09-02|  12|    us|           UP|5nhuVaxS2jaFd5M9w...|6YqWo32NbxiptWx2h...|Reddit Soup For T...|Finally happy sto...|Smosh Reads Reddi...|Shayne Topp and h...|               Smosh|    3761789|    true|               false|       true|      en|   ['en']|  2024-08-31|                   day|             []|         true|https://api.spoti...| <p>Shayne Topp an...|                    false|        ['en']|          audio|                 73|     show|spotify:show:6YqW...|\n",
            "|2024-09-02|  13|    us|           UP|0XwtQmrvvh0Rjrfso...|5XCAUaSHXZckoplHK...|The Only Way Germ...| I decided to tak...| AlternateHistoryHub|An entire channel...|       Althistoryhub|    1256853|   false|               false|       true|   en-US|['en-US']|  2024-08-29|                   day|             []|        false|https://api.spoti...| An entire channel...|                    false|     ['en-US']|          mixed|                  6|     show|spotify:show:5XCA...|\n",
            "|2024-09-02|  14|    us|           UP|2XyIJzm2SEEJQFmIC...|0KxdEdeY2Wb3zr28d...|For Kamala Harris...|Kamala Harris is ...|        The Journal.|The most importan...|The Wall Street J...|    1156231|   false|               false|       true|      en|   ['en']|  2024-08-30|                   day|             []|        false|https://api.spoti...| <p>The most impor...|                    false|        ['en']|          mixed|               1293|     show|spotify:show:0Kxd...|\n",
            "|2024-09-02|  15|    us|           UP|6BZwCnCASJJTvl1z5...|2IqXAVFR4e0Bmyjsd...|In conversation w...|(0:00) Bestie int...|All-In with Chama...|Industry veterans...| All-In Podcast, LLC|    7903765|   false|               false|       true|   en-US|['en-US']|  2024-08-30|                   day|             []|         true|https://api.spoti...| Industry veterans...|                    false|     ['en-US']|          mixed|                209|     show|spotify:show:2IqX...|\n",
            "|2024-09-02|  16|    us|         DOWN|6M2dbT7YsfZOkfx2F...|5JGorGvdwljJHTl6w...|Harris and Walz M...|Kamala Harris and...|    Pod Save America|Pod Save America ...|       Crooked Media|    3100029|   false|               false|       true|      en|   ['en']|  2024-08-30|                   day|             []|         true|https://api.spoti...| Pod Save America ...|                    false|        ['en']|          audio|                927|     show|spotify:show:5JGo...|\n",
            "|2024-09-02|  17|    us|           UP|2Ge3iFRemMSQ9B7Me...|1BHDdC0OVuHqZ706F...|  Session 41: Snooki|Jake makes a hous...|Therapuss with Ja...|Welcome to THERAP...|          Jake Shane|    4937685|    true|               false|       true|      en|   ['en']|  2024-08-29|                   day|             []|         true|https://api.spoti...| <p>Welcome to THE...|                    false|        ['en']|          mixed|                 41|     show|spotify:show:1BHD...|\n",
            "|2024-09-02|  18|    us|           UP|7kCA7GGrNaK04DqPY...|6BLrU81AujGNKRA6k...|Can this extremel...|Wham. Bam. Shamal...|Good Work with Da...|\"Fake business ne...|        Morning Brew|     697450|   false|               false|       true|      en|   ['en']|  2024-08-30|                   day|             []|        false|https://api.spoti...| <p>&#34;Fake busi...|                    false|        ['en']|          mixed|                 13|     show|spotify:show:6BLr...|\n",
            "|2024-09-02|  19|    us|         DOWN|4qwc3VHO2PCCRHzAG...|5RaNsb5sKEBleahQa...|The Fantasy MVP E...|Fantasy Football ...|Fantasy Footballe...|Fantasy Football ...|    Fantasy Football|    3661035|   false|               false|       true|      en|   ['en']|  2024-08-30|                   day|             []|        false|https://api.spoti...| <p>Fantasy Footba...|                    false|        ['en']|          audio|                250|     show|spotify:show:5RaN...|\n",
            "|2024-09-02|  20|    us|         DOWN|3jUQyx5WN6LBsdDG1...|1WErgoXiZwgctkHLz...|Ep. 2038 - Kamala...|Kamala Harris fin...|The Ben Shapiro Show|Tired of the lies...|      The Daily Wire|    4450794|   false|               false|       true|      en|   ['en']|  2024-08-30|                   day|             []|        false|https://api.spoti...| Tired of the lies...|                    false|        ['en']|          mixed|               2460|     show|spotify:show:1WEr...|\n",
            "+----------+----+------+-------------+--------------------+--------------------+--------------------+--------------------+--------------------+--------------------+--------------------+-----------+--------+--------------------+-----------+--------+---------+------------+----------------------+---------------+-------------+--------------------+---------------------+-------------------------+--------------+---------------+-------------------+---------+--------------------+\n",
            "only showing top 20 rows\n",
            "\n"
          ]
        }
      ]
    },
    {
      "cell_type": "markdown",
      "source": [
        "# Goal of survival analysis"
      ],
      "metadata": {
        "id": "m7Dsd2hb9B3A"
      }
    },
    {
      "cell_type": "markdown",
      "source": [
        "The main goal of survival analysis in general is to mesaure - how much time passes before the event occurs? It is mostly used in the medical data to check, for how long observed patient will stay alive or will stay healthy.\n",
        "\n",
        "In case of our dataset we would like to find the answers for 3 following questions:\n",
        "1. How much time passes from release date of podcast episode to enter top200?\n",
        "2. What is the probability that the podcast episode which entered to top200 will remain in that ranking for the 1st week, 2nd week and so on?\n",
        "3. What are the factors that influence this survival probability, what causes podcast episode to remain in the ranking for a longer period of time?\n",
        "\n",
        "To get answers to theses questions we need to perform some preprocessing of the data. At first, we delete all the columns that have only 1 unique values - they don't bring any new information to the data."
      ],
      "metadata": {
        "id": "nc-h7Yqv-T8H"
      }
    },
    {
      "cell_type": "code",
      "source": [
        "#changing column names because columns with . in the name raised the error\n",
        "new_column_names = [col.replace('.', '_') for col in df.columns]\n",
        "renamed_df = df.toDF(*new_column_names)\n",
        "renamed_df.show()\n"
      ],
      "metadata": {
        "colab": {
          "base_uri": "https://localhost:8080/"
        },
        "id": "CCj9oRhx_hU_",
        "outputId": "722bd6b1-548b-447f-8a7f-063668fad9fc"
      },
      "execution_count": 157,
      "outputs": [
        {
          "output_type": "stream",
          "name": "stdout",
          "text": [
            "+----------+----+------+-------------+--------------------+--------------------+--------------------+--------------------+--------------------+--------------------+--------------------+-----------+--------+--------------------+-----------+--------+---------+------------+----------------------+---------------+-------------+--------------------+---------------------+-------------------------+--------------+---------------+-------------------+---------+--------------------+\n",
            "|      date|rank|region|chartRankMove|          episodeUri|             showUri|         episodeName|         description|           show_name|    show_description|      show_publisher|duration_ms|explicit|is_externally_hosted|is_playable|language|languages|release_date|release_date_precision|show_copyrights|show_explicit|           show_href|show_html_description|show_is_externally_hosted|show_languages|show_media_type|show_total_episodes|show_type|            show_uri|\n",
            "+----------+----+------+-------------+--------------------+--------------------+--------------------+--------------------+--------------------+--------------------+--------------------+-----------+--------+--------------------+-----------+--------+---------+------------+----------------------+---------------+-------------+--------------------+---------------------+-------------------------+--------------+---------------+-------------------+---------+--------------------+\n",
            "|2024-09-02|   1|    us|    UNCHANGED|37kBZRr3nqjltQXt8...|4rOoJ6Egrf8K2Iryw...|  #2197 - Mike Baker|Mike Baker is a f...|The Joe Rogan Exp...|The official podc...|           Joe Rogan|    9872105|    true|               false|       true|      en|   ['en']|  2024-08-29|                   day|             []|         true|https://api.spoti...| <p>The official p...|                    false|        ['en']|          mixed|               2366|     show|spotify:show:4rOo...|\n",
            "|2024-09-02|   2|    us|    UNCHANGED|293KKxbEKt2zrem6X...|4rOoJ6Egrf8K2Iryw...|#2195 - Andrew Hu...|Andrew Huberman, ...|The Joe Rogan Exp...|The official podc...|           Joe Rogan|   11250345|    true|               false|       true|      en|   ['en']|  2024-08-27|                   day|             []|         true|https://api.spoti...| <p>The official p...|                    false|        ['en']|          mixed|               2366|     show|spotify:show:4rOo...|\n",
            "|2024-09-02|   3|    us|    UNCHANGED|53z4LvgoGjjVkdiJk...|4rOoJ6Egrf8K2Iryw...|#2196 - Greg Fitz...|Greg Fitzsimmons ...|The Joe Rogan Exp...|The official podc...|           Joe Rogan|   10840020|    true|               false|       true|      en|   ['en']|  2024-08-28|                   day|             []|         true|https://api.spoti...| <p>The official p...|                    false|        ['en']|          mixed|               2366|     show|spotify:show:4rOo...|\n",
            "|2024-09-02|   4|    us|           UP|5rrRkpfKZUUR85WxM...|0KvuZJgXfOGanBRuq...|The Worst Creatur...|The Ice Age was n...|          ExtinctZoo|Your one stop sho...|          ExtinctZoo|    1073386|   false|               false|       true|      en|   ['en']|  2024-08-31|                   day|             []|        false|https://api.spoti...| Your one stop sho...|                    false|        ['en']|          mixed|                 30|     show|spotify:show:0Kvu...|\n",
            "|2024-09-02|   5|    us|         DOWN|2Qd2dJDDAocbTjGvX...|5L2ON33kXa2b7laBp...|Jeffrey Sachs: Tr...|Professor Jeffrey...|The Tucker Carlso...|The Tucker Carlso...|Tucker Carlson Ne...|    8896992|   false|               false|       true|      en|   ['en']|  2024-08-30|                   day|             []|        false|https://api.spoti...| <p>The Tucker Car...|                    false|        ['en']|          audio|                115|     show|spotify:show:5L2O...|\n",
            "|2024-09-02|   6|    us|           UP|6ftTzJq0DdTWSP1Xj...|23W0WKz1x1dbKXE0g...|The Most Unhinged...|Today on Mystery ...|        Austin Evans|Austin Evans is a...|        Austin Evans|    1096596|   false|               false|       true|   en-US|['en-US']|  2024-08-25|                   day|             []|        false|https://api.spoti...| Austin Evans is a...|                    false|     ['en-US']|          mixed|                 10|     show|spotify:show:23W0...|\n",
            "|2024-09-02|   7|    us|         DOWN|0c1jVbNQfDdYTLCxH...|5ss1pqMFqWjkOpt6A...|CFB Mega Preview ...|Football is back ...|      Pardon My Take|On \"Pardon My Tak...|     Barstool Sports|   10452192|    true|               false|       true|     und|  ['und']|  2024-08-30|                   day|             []|         true|https://api.spoti...| <p></p><p>On &#34...|                    false|       ['und']|          audio|                910|     show|spotify:show:5ss1...|\n",
            "|2024-09-02|   8|    us|           UP|0AzgFs8yyndibuZ7Z...|2gRd1woKiAazAKPWP...|407 - The Mushroo...|Tim examines Pave...| The Tim Dillon Show|Tim Dillon is a c...| The Tim Dillon Show|    4145606|   false|               false|       true|   en-US|['en-US']|  2024-08-31|                   day|             []|         true|https://api.spoti...| Tim Dillon is a c...|                    false|     ['en-US']|          audio|                265|     show|spotify:show:2gRd...|\n",
            "|2024-09-02|   9|    us|           UP|2p32tSSIJNmm0Ypg3...|65EpDFRLooaWLos5b...|Copying BRATS on ...|Am I a Brat for d...|        Duncanyounot|Watch as I Troll,...|        DuncanJoseph|     556308|   false|               false|       true|      en|   ['en']|  2024-08-27|                   day|             []|        false|https://api.spoti...| Watch as I Troll,...|                    false|        ['en']|          mixed|                  8|     show|spotify:show:65Ep...|\n",
            "|2024-09-02|  10|    us|           UP|62uIIt9mI32zR0L34...|122imavATqSE7eCyX...|The Trad Wife Par...|Trevor, Christian...|What Now? with Tr...|Trevor currently ...|     Spotify Studios|    3408533|   false|               false|       true|      en|   ['en']|  2024-08-29|                   day|             []|        false|https://api.spoti...| <p>Trevor current...|                    false|        ['en']|          mixed|                 44|     show|spotify:show:122i...|\n",
            "|2024-09-02|  11|    us|         DOWN|4JJzk9VGLlj0X6moB...|6kAsbP8pxwaU2kPib...|Armchair Anonymou...|Dax and Monica ta...|Armchair Expert w...|Hi, I’m Dax Shepa...|   Armchair Umbrella|    2983706|    true|               false|       true|      en|   ['en']|  2024-08-30|                   day|             []|         true|https://api.spoti...| <p>Hi, I’m Dax Sh...|                    false|        ['en']|          audio|                768|     show|spotify:show:6kAs...|\n",
            "|2024-09-02|  12|    us|           UP|5nhuVaxS2jaFd5M9w...|6YqWo32NbxiptWx2h...|Reddit Soup For T...|Finally happy sto...|Smosh Reads Reddi...|Shayne Topp and h...|               Smosh|    3761789|    true|               false|       true|      en|   ['en']|  2024-08-31|                   day|             []|         true|https://api.spoti...| <p>Shayne Topp an...|                    false|        ['en']|          audio|                 73|     show|spotify:show:6YqW...|\n",
            "|2024-09-02|  13|    us|           UP|0XwtQmrvvh0Rjrfso...|5XCAUaSHXZckoplHK...|The Only Way Germ...| I decided to tak...| AlternateHistoryHub|An entire channel...|       Althistoryhub|    1256853|   false|               false|       true|   en-US|['en-US']|  2024-08-29|                   day|             []|        false|https://api.spoti...| An entire channel...|                    false|     ['en-US']|          mixed|                  6|     show|spotify:show:5XCA...|\n",
            "|2024-09-02|  14|    us|           UP|2XyIJzm2SEEJQFmIC...|0KxdEdeY2Wb3zr28d...|For Kamala Harris...|Kamala Harris is ...|        The Journal.|The most importan...|The Wall Street J...|    1156231|   false|               false|       true|      en|   ['en']|  2024-08-30|                   day|             []|        false|https://api.spoti...| <p>The most impor...|                    false|        ['en']|          mixed|               1293|     show|spotify:show:0Kxd...|\n",
            "|2024-09-02|  15|    us|           UP|6BZwCnCASJJTvl1z5...|2IqXAVFR4e0Bmyjsd...|In conversation w...|(0:00) Bestie int...|All-In with Chama...|Industry veterans...| All-In Podcast, LLC|    7903765|   false|               false|       true|   en-US|['en-US']|  2024-08-30|                   day|             []|         true|https://api.spoti...| Industry veterans...|                    false|     ['en-US']|          mixed|                209|     show|spotify:show:2IqX...|\n",
            "|2024-09-02|  16|    us|         DOWN|6M2dbT7YsfZOkfx2F...|5JGorGvdwljJHTl6w...|Harris and Walz M...|Kamala Harris and...|    Pod Save America|Pod Save America ...|       Crooked Media|    3100029|   false|               false|       true|      en|   ['en']|  2024-08-30|                   day|             []|         true|https://api.spoti...| Pod Save America ...|                    false|        ['en']|          audio|                927|     show|spotify:show:5JGo...|\n",
            "|2024-09-02|  17|    us|           UP|2Ge3iFRemMSQ9B7Me...|1BHDdC0OVuHqZ706F...|  Session 41: Snooki|Jake makes a hous...|Therapuss with Ja...|Welcome to THERAP...|          Jake Shane|    4937685|    true|               false|       true|      en|   ['en']|  2024-08-29|                   day|             []|         true|https://api.spoti...| <p>Welcome to THE...|                    false|        ['en']|          mixed|                 41|     show|spotify:show:1BHD...|\n",
            "|2024-09-02|  18|    us|           UP|7kCA7GGrNaK04DqPY...|6BLrU81AujGNKRA6k...|Can this extremel...|Wham. Bam. Shamal...|Good Work with Da...|\"Fake business ne...|        Morning Brew|     697450|   false|               false|       true|      en|   ['en']|  2024-08-30|                   day|             []|        false|https://api.spoti...| <p>&#34;Fake busi...|                    false|        ['en']|          mixed|                 13|     show|spotify:show:6BLr...|\n",
            "|2024-09-02|  19|    us|         DOWN|4qwc3VHO2PCCRHzAG...|5RaNsb5sKEBleahQa...|The Fantasy MVP E...|Fantasy Football ...|Fantasy Footballe...|Fantasy Football ...|    Fantasy Football|    3661035|   false|               false|       true|      en|   ['en']|  2024-08-30|                   day|             []|        false|https://api.spoti...| <p>Fantasy Footba...|                    false|        ['en']|          audio|                250|     show|spotify:show:5RaN...|\n",
            "|2024-09-02|  20|    us|         DOWN|3jUQyx5WN6LBsdDG1...|1WErgoXiZwgctkHLz...|Ep. 2038 - Kamala...|Kamala Harris fin...|The Ben Shapiro Show|Tired of the lies...|      The Daily Wire|    4450794|   false|               false|       true|      en|   ['en']|  2024-08-30|                   day|             []|        false|https://api.spoti...| Tired of the lies...|                    false|        ['en']|          mixed|               2460|     show|spotify:show:1WEr...|\n",
            "+----------+----+------+-------------+--------------------+--------------------+--------------------+--------------------+--------------------+--------------------+--------------------+-----------+--------+--------------------+-----------+--------+---------+------------+----------------------+---------------+-------------+--------------------+---------------------+-------------------------+--------------+---------------+-------------------+---------+--------------------+\n",
            "only showing top 20 rows\n",
            "\n"
          ]
        }
      ]
    },
    {
      "cell_type": "code",
      "source": [
        "df = renamed_df"
      ],
      "metadata": {
        "id": "PDnroiB4RBYy"
      },
      "execution_count": 158,
      "outputs": []
    },
    {
      "cell_type": "code",
      "source": [
        "agg_expr = {col: countDistinct(col).alias(col + \"_unique\") for col in df.columns}\n",
        "unique_counts = df.agg(*agg_expr.values()).collect()[0]\n",
        "for col, unique_count in zip(df.columns, unique_counts):\n",
        "      if(unique_count == 1):\n",
        "        print(col, unique_count)"
      ],
      "metadata": {
        "id": "-EmLYI9aMBgD",
        "colab": {
          "base_uri": "https://localhost:8080/"
        },
        "outputId": "31351e48-2be8-4d5a-9a57-aa6d42a2f0b0"
      },
      "execution_count": 159,
      "outputs": [
        {
          "output_type": "stream",
          "name": "stdout",
          "text": [
            "release_date_precision 1\n",
            "show_copyrights 1\n",
            "show_type 1\n"
          ]
        }
      ]
    },
    {
      "cell_type": "markdown",
      "source": [
        "We identified 3 columns that have only 1 unique value - they can be dropped."
      ],
      "metadata": {
        "id": "tqdDG1ElAjub"
      }
    },
    {
      "cell_type": "code",
      "source": [
        "df = df.drop(*['release_date_precision', 'show_copyrights', 'show_type'])\n"
      ],
      "metadata": {
        "id": "7gXXZG6fSE-V"
      },
      "execution_count": 160,
      "outputs": []
    },
    {
      "cell_type": "markdown",
      "source": [
        "Now, we will check the structure of the dataset - what are the types of the columns in the dataframe. Then we will take a look at the missing values and in case that we want to use those columns in survival analysis - how we are going to handle them."
      ],
      "metadata": {
        "id": "E4Vw8jWmAsMm"
      }
    },
    {
      "cell_type": "code",
      "source": [
        "df.printSchema()"
      ],
      "metadata": {
        "colab": {
          "base_uri": "https://localhost:8080/"
        },
        "id": "BbuEmT8PW_R3",
        "outputId": "dde7f30e-412a-46c3-c26f-7226ff2689ac"
      },
      "execution_count": 161,
      "outputs": [
        {
          "output_type": "stream",
          "name": "stdout",
          "text": [
            "root\n",
            " |-- date: date (nullable = true)\n",
            " |-- rank: integer (nullable = true)\n",
            " |-- region: string (nullable = true)\n",
            " |-- chartRankMove: string (nullable = true)\n",
            " |-- episodeUri: string (nullable = true)\n",
            " |-- showUri: string (nullable = true)\n",
            " |-- episodeName: string (nullable = true)\n",
            " |-- description: string (nullable = true)\n",
            " |-- show_name: string (nullable = true)\n",
            " |-- show_description: string (nullable = true)\n",
            " |-- show_publisher: string (nullable = true)\n",
            " |-- duration_ms: integer (nullable = true)\n",
            " |-- explicit: boolean (nullable = true)\n",
            " |-- is_externally_hosted: boolean (nullable = true)\n",
            " |-- is_playable: boolean (nullable = true)\n",
            " |-- language: string (nullable = true)\n",
            " |-- languages: string (nullable = true)\n",
            " |-- release_date: date (nullable = true)\n",
            " |-- show_explicit: boolean (nullable = true)\n",
            " |-- show_href: string (nullable = true)\n",
            " |-- show_html_description: string (nullable = true)\n",
            " |-- show_is_externally_hosted: boolean (nullable = true)\n",
            " |-- show_languages: string (nullable = true)\n",
            " |-- show_media_type: string (nullable = true)\n",
            " |-- show_total_episodes: integer (nullable = true)\n",
            " |-- show_uri: string (nullable = true)\n",
            "\n"
          ]
        }
      ]
    },
    {
      "cell_type": "code",
      "source": [
        "numerical_columns = [field.name for field in df.schema.fields if isinstance(field.dataType, NumericType)]\n",
        "boolean_columns = [field.name for field in df.schema.fields if isinstance(field.dataType, BooleanType)]\n",
        "string_columns = [field.name for field in df.schema.fields if isinstance(field.dataType, StringType)]\n",
        "date_columns = [field.name for field in df.schema.fields if isinstance(field.dataType, DateType)]\n"
      ],
      "metadata": {
        "id": "lffDaVCFV4p1"
      },
      "execution_count": 162,
      "outputs": []
    },
    {
      "cell_type": "code",
      "source": [
        "# for numerical columns\n",
        "df.select([count(when(isnan(c)| df[c].isNull(), c )).alias(c) for c in numerical_columns]\n",
        "   ).show()"
      ],
      "metadata": {
        "colab": {
          "base_uri": "https://localhost:8080/"
        },
        "id": "tekw2xJMWFNX",
        "outputId": "5f8c2b0d-25cb-4e5c-d1eb-8319fba742f2"
      },
      "execution_count": 163,
      "outputs": [
        {
          "output_type": "stream",
          "name": "stdout",
          "text": [
            "+----+-----------+-------------------+\n",
            "|rank|duration_ms|show_total_episodes|\n",
            "+----+-----------+-------------------+\n",
            "|   0|          0|                  0|\n",
            "+----+-----------+-------------------+\n",
            "\n"
          ]
        }
      ]
    },
    {
      "cell_type": "markdown",
      "source": [
        "Fortunately, all the numerical columns have no missing values. All of them will be used in the survival analysis (especially in the AFT model), so we are free to use them."
      ],
      "metadata": {
        "id": "E_f_36lPBNMv"
      }
    },
    {
      "cell_type": "code",
      "source": [
        "# for string columns\n",
        "df.select([count(when(df[c].contains('None') | \\\n",
        "                            df[c].contains('NULL') | \\\n",
        "                            (df[c] == '' ) | \\\n",
        "                            df[c].isNull() | \\\n",
        "                            isnan(c), c\n",
        "                           )).alias(c)\n",
        "                    for c in string_columns]).show()"
      ],
      "metadata": {
        "colab": {
          "base_uri": "https://localhost:8080/"
        },
        "id": "ffPsrPbzWbUO",
        "outputId": "7ec032d1-d0b6-44a3-ba18-3fef7b9bfa43"
      },
      "execution_count": 164,
      "outputs": [
        {
          "output_type": "stream",
          "name": "stdout",
          "text": [
            "+------+-------------+----------+-------+-----------+-----------+---------+----------------+--------------+--------+---------+---------+---------------------+--------------+---------------+--------+\n",
            "|region|chartRankMove|episodeUri|showUri|episodeName|description|show_name|show_description|show_publisher|language|languages|show_href|show_html_description|show_languages|show_media_type|show_uri|\n",
            "+------+-------------+----------+-------+-----------+-----------+---------+----------------+--------------+--------+---------+---------+---------------------+--------------+---------------+--------+\n",
            "|     0|            0|         0|      0|          1|       2732|        0|              54|             0|       0|        0|        0|                   82|             0|              0|       0|\n",
            "+------+-------------+----------+-------+-----------+-----------+---------+----------------+--------------+--------+---------+---------+---------------------+--------------+---------------+--------+\n",
            "\n"
          ]
        }
      ]
    },
    {
      "cell_type": "markdown",
      "source": [
        "For some string columns we have missing values. However, for purpose of the survival analysis we would like to use columns:\n",
        "\n",
        "region, chartRankMove, episodeUri, language, show_media_type\n",
        "\n",
        "For all these columns there are no missing values, so we can proceed. The reason for choosing these columns is that they are connected with the specific podcast episode - not with the show itself. We are omitting description of the episode, because descriptions are long strings in different languages and it wouldn't be so easy to work with this column.  "
      ],
      "metadata": {
        "id": "Y_34N17uBnKy"
      }
    },
    {
      "cell_type": "code",
      "source": [
        "# for dates\n",
        "df.select(\n",
        "    *[count(when(df[c].isNull() | (df[c] == '') | df[c].contains('None') | df[c].contains('NULL'), c)).alias(c)\n",
        "      for c in date_columns]).show()"
      ],
      "metadata": {
        "colab": {
          "base_uri": "https://localhost:8080/"
        },
        "id": "_M78-ev5YDp_",
        "outputId": "56090035-10ed-41a3-e65b-4ceb3d429f30"
      },
      "execution_count": 165,
      "outputs": [
        {
          "output_type": "stream",
          "name": "stdout",
          "text": [
            "+----+------------+\n",
            "|date|release_date|\n",
            "+----+------------+\n",
            "|   0|           0|\n",
            "+----+------------+\n",
            "\n"
          ]
        }
      ]
    },
    {
      "cell_type": "markdown",
      "source": [
        "All of date columns which are crucial for our analysis have no missing values."
      ],
      "metadata": {
        "id": "PKzyv3RSCNHd"
      }
    },
    {
      "cell_type": "code",
      "source": [
        "# for booleans\n",
        "df.select(\n",
        "    *[count(when(df[c].isNull() | (df[c] == '') | df[c].contains('None') | df[c].contains('NULL'), c)).alias(c)\n",
        "      for c in boolean_columns]).show()"
      ],
      "metadata": {
        "colab": {
          "base_uri": "https://localhost:8080/"
        },
        "id": "Pi4uIFDjYi3E",
        "outputId": "e7324f6b-25ec-41f1-b440-77fd8a7f994e"
      },
      "execution_count": 166,
      "outputs": [
        {
          "output_type": "stream",
          "name": "stdout",
          "text": [
            "+--------+--------------------+-----------+-------------+-------------------------+\n",
            "|explicit|is_externally_hosted|is_playable|show_explicit|show_is_externally_hosted|\n",
            "+--------+--------------------+-----------+-------------+-------------------------+\n",
            "|       0|                   0|          0|            0|                        0|\n",
            "+--------+--------------------+-----------+-------------+-------------------------+\n",
            "\n"
          ]
        }
      ]
    },
    {
      "cell_type": "markdown",
      "source": [
        "All of the booleans columns have no missing values as well, which is good. However, booleans column that we are planning to use is:\n",
        "\n",
        "explicit, is_externally_hosted, is_playable\n",
        "\n",
        "The reason for that is we are going to make survival analysis for podcast episode and we would like to gather the most information about this specific episode, not about the whole show."
      ],
      "metadata": {
        "id": "jeoMdFlcZF_o"
      }
    },
    {
      "cell_type": "code",
      "source": [
        "df_preprocessed = df.select('episodeUri', 'region', 'rank', 'chartRankMove', 'date', 'release_date', 'duration_ms', 'show_Total_episodes',  'language', 'show_media_type',  'explicit', 'is_externally_hosted', 'is_playable')"
      ],
      "metadata": {
        "id": "KgF-NqxrESww"
      },
      "execution_count": 167,
      "outputs": []
    },
    {
      "cell_type": "markdown",
      "source": [
        "# How long does it take from release date to reach top100 in each region for episode?"
      ],
      "metadata": {
        "id": "wuO44nbHZl1g"
      }
    },
    {
      "cell_type": "markdown",
      "source": [
        "Now we wil perform analysis on the first question that we would like to answer:\n",
        "\n",
        "from podcast episode release date - how much time has to pass to reach top200?\n",
        "\n",
        "To do that, we will use Window module to extract podcast episode within a region and then filter records to the first entries in the country - it is because some podcast episodes can 'go back' to the ranking in the later dates, but we are interested in the first success."
      ],
      "metadata": {
        "id": "rzcTiZm-cT07"
      }
    },
    {
      "cell_type": "code",
      "source": [
        "filtered_df = df_preprocessed.filter(df[\"chartRankMove\"]=='NEW')\n",
        "\n",
        "window_spec = Window.partitionBy(\"episodeUri\", \"region\").orderBy(\"date\")\n",
        "ranked_df = filtered_df.withColumn(\"row_number\", row_number().over(window_spec))\n",
        "first_records_df = ranked_df.filter(ranked_df[\"row_number\"] == 1).drop(\"row_number\")\n",
        "first_records_df.show()\n"
      ],
      "metadata": {
        "colab": {
          "base_uri": "https://localhost:8080/"
        },
        "id": "ia-4pkxkaGuX",
        "outputId": "cfbf6365-d7a3-4506-f974-e20e26693478"
      },
      "execution_count": 168,
      "outputs": [
        {
          "output_type": "stream",
          "name": "stdout",
          "text": [
            "+--------------------+------+----+-------------+----------+------------+-----------+-------------------+--------+---------------+--------+--------------------+-----------+\n",
            "|          episodeUri|region|rank|chartRankMove|      date|release_date|duration_ms|show_Total_episodes|language|show_media_type|explicit|is_externally_hosted|is_playable|\n",
            "+--------------------+------+----+-------------+----------+------------+-----------+-------------------+--------+---------------+--------+--------------------+-----------+\n",
            "|001TNHD7zZmbMjtf7...|    jp|  78|          NEW|2024-10-02|  2024-10-01|     494961|               1556|   en-US|          audio|    true|               false|       true|\n",
            "|001ddMpWj8X28okpf...|    jp| 169|          NEW|2024-10-14|  2024-10-13|    2363689|                152|      ja|          audio|   false|               false|       true|\n",
            "|0020reOQCvPoIzdwL...|    es| 125|          NEW|2024-09-04|  2024-09-03|    1007438|                300|   es-ES|          audio|   false|               false|       true|\n",
            "|002mMMa7ybvlpeVc3...|    br|   4|          NEW|2024-09-03|  2024-09-02|    2021250|               1466|      pt|          mixed|   false|               false|       true|\n",
            "|002xPNqTsNGG4YbPn...|    au| 152|          NEW|2024-09-13|  2024-09-12|    1273626|               1775|      en|          audio|   false|               false|       true|\n",
            "|00355zniSM3xgKCNx...|    ca| 172|          NEW|2024-10-09|  2024-10-08|    3800659|                240|   en-US|          audio|    true|               false|       true|\n",
            "|00355zniSM3xgKCNx...|    us| 121|          NEW|2024-10-09|  2024-10-08|    3800659|                240|   en-US|          audio|    true|               false|       true|\n",
            "|003CHuhB2GAZ3xQ6Z...|    ie| 127|          NEW|2024-09-10|  2024-09-08|    1349302|                451|      en|          audio|   false|               false|       true|\n",
            "|005CRjeFA7sBYq0DV...|    pl| 167|          NEW|2024-10-04|  2024-10-02|    5364250|                  3|      pl|          audio|   false|               false|       true|\n",
            "|005FLlJhpqoTLzpIj...|    gb|  83|          NEW|2024-09-24|  2024-09-23|    6622145|                 27|      en|          audio|    true|               false|       true|\n",
            "|005FLlJhpqoTLzpIj...|    ie| 101|          NEW|2024-09-24|  2024-09-23|    6622145|                 27|      en|          audio|    true|               false|       true|\n",
            "|006zc8Nq1y0FSm2yL...|    fr|  25|          NEW|2024-09-15|  2024-09-13|    3288046|                 36|      fr|          audio|   false|                true|       true|\n",
            "|00768f3gPiWPBd1rh...|    nl| 191|          NEW|2024-10-23|  2024-10-22|     731271|                100|      nl|          audio|   false|               false|       true|\n",
            "|007jD9dpxWyHCHouv...|    ie|  98|          NEW|2024-09-30|  2024-09-29|    3507017|                 23|      en|          audio|   false|               false|       true|\n",
            "|00908RFk6wceOEJ38...|    it|  63|          NEW|2024-09-18|  2024-09-17|     568868|                453|   it-IT|          audio|   false|               false|       true|\n",
            "|009piCdOqqgTYybS7...|    ph|  64|          NEW|2024-10-20|  2024-10-19|     223020|                 30|   en-US|          audio|   false|               false|       true|\n",
            "|009yEKPWpdx9rCpAr...|    de| 118|          NEW|2024-09-04|  2024-09-03|    1868878|                100|   de-DE|          audio|   false|               false|       true|\n",
            "|00AMctyqGNLw712Lx...|    br| 150|          NEW|2024-09-05|  2024-09-03|    1414791|                 50|      pt|          audio|   false|               false|       true|\n",
            "|00AZxoDFse9UjdNC2...|    jp| 118|          NEW|2024-10-18|  2024-10-17|     263183|                774|      ja|          audio|   false|               false|       true|\n",
            "|00B1KolV8f2iDtmcj...|    ca|  39|          NEW|2024-09-10|  2024-09-09|     638902|                  7|   en-CA|          audio|   false|               false|       true|\n",
            "+--------------------+------+----+-------------+----------+------------+-----------+-------------------+--------+---------------+--------+--------------------+-----------+\n",
            "only showing top 20 rows\n",
            "\n"
          ]
        }
      ]
    },
    {
      "cell_type": "markdown",
      "source": [
        "Now we will count the number of days passed from release date to the first date that the episode reached that top200."
      ],
      "metadata": {
        "id": "LN00DWxORsJO"
      }
    },
    {
      "cell_type": "code",
      "source": [
        "df = first_records_df\n",
        "df_added = df.withColumn(\"top200_from_release\", datediff(df[\"date\"], df[\"release_date\"]))\n",
        "df_added.show()\n",
        "df = df_added\n"
      ],
      "metadata": {
        "colab": {
          "base_uri": "https://localhost:8080/"
        },
        "id": "M9QUtVmERz3h",
        "outputId": "d6575392-39f2-4c51-975e-e38b463b4101"
      },
      "execution_count": 169,
      "outputs": [
        {
          "output_type": "stream",
          "name": "stdout",
          "text": [
            "+--------------------+------+----+-------------+----------+------------+-----------+-------------------+--------+---------------+--------+--------------------+-----------+-------------------+\n",
            "|          episodeUri|region|rank|chartRankMove|      date|release_date|duration_ms|show_Total_episodes|language|show_media_type|explicit|is_externally_hosted|is_playable|top200_from_release|\n",
            "+--------------------+------+----+-------------+----------+------------+-----------+-------------------+--------+---------------+--------+--------------------+-----------+-------------------+\n",
            "|001TNHD7zZmbMjtf7...|    jp|  78|          NEW|2024-10-02|  2024-10-01|     494961|               1556|   en-US|          audio|    true|               false|       true|                  1|\n",
            "|001ddMpWj8X28okpf...|    jp| 169|          NEW|2024-10-14|  2024-10-13|    2363689|                152|      ja|          audio|   false|               false|       true|                  1|\n",
            "|0020reOQCvPoIzdwL...|    es| 125|          NEW|2024-09-04|  2024-09-03|    1007438|                300|   es-ES|          audio|   false|               false|       true|                  1|\n",
            "|002mMMa7ybvlpeVc3...|    br|   4|          NEW|2024-09-03|  2024-09-02|    2021250|               1466|      pt|          mixed|   false|               false|       true|                  1|\n",
            "|002xPNqTsNGG4YbPn...|    au| 152|          NEW|2024-09-13|  2024-09-12|    1273626|               1775|      en|          audio|   false|               false|       true|                  1|\n",
            "|00355zniSM3xgKCNx...|    ca| 172|          NEW|2024-10-09|  2024-10-08|    3800659|                240|   en-US|          audio|    true|               false|       true|                  1|\n",
            "|00355zniSM3xgKCNx...|    us| 121|          NEW|2024-10-09|  2024-10-08|    3800659|                240|   en-US|          audio|    true|               false|       true|                  1|\n",
            "|003CHuhB2GAZ3xQ6Z...|    ie| 127|          NEW|2024-09-10|  2024-09-08|    1349302|                451|      en|          audio|   false|               false|       true|                  2|\n",
            "|005CRjeFA7sBYq0DV...|    pl| 167|          NEW|2024-10-04|  2024-10-02|    5364250|                  3|      pl|          audio|   false|               false|       true|                  2|\n",
            "|005FLlJhpqoTLzpIj...|    gb|  83|          NEW|2024-09-24|  2024-09-23|    6622145|                 27|      en|          audio|    true|               false|       true|                  1|\n",
            "|005FLlJhpqoTLzpIj...|    ie| 101|          NEW|2024-09-24|  2024-09-23|    6622145|                 27|      en|          audio|    true|               false|       true|                  1|\n",
            "|006zc8Nq1y0FSm2yL...|    fr|  25|          NEW|2024-09-15|  2024-09-13|    3288046|                 36|      fr|          audio|   false|                true|       true|                  2|\n",
            "|00768f3gPiWPBd1rh...|    nl| 191|          NEW|2024-10-23|  2024-10-22|     731271|                100|      nl|          audio|   false|               false|       true|                  1|\n",
            "|007jD9dpxWyHCHouv...|    ie|  98|          NEW|2024-09-30|  2024-09-29|    3507017|                 23|      en|          audio|   false|               false|       true|                  1|\n",
            "|00908RFk6wceOEJ38...|    it|  63|          NEW|2024-09-18|  2024-09-17|     568868|                453|   it-IT|          audio|   false|               false|       true|                  1|\n",
            "|009piCdOqqgTYybS7...|    ph|  64|          NEW|2024-10-20|  2024-10-19|     223020|                 30|   en-US|          audio|   false|               false|       true|                  1|\n",
            "|009yEKPWpdx9rCpAr...|    de| 118|          NEW|2024-09-04|  2024-09-03|    1868878|                100|   de-DE|          audio|   false|               false|       true|                  1|\n",
            "|00AMctyqGNLw712Lx...|    br| 150|          NEW|2024-09-05|  2024-09-03|    1414791|                 50|      pt|          audio|   false|               false|       true|                  2|\n",
            "|00AZxoDFse9UjdNC2...|    jp| 118|          NEW|2024-10-18|  2024-10-17|     263183|                774|      ja|          audio|   false|               false|       true|                  1|\n",
            "|00B1KolV8f2iDtmcj...|    ca|  39|          NEW|2024-09-10|  2024-09-09|     638902|                  7|   en-CA|          audio|   false|               false|       true|                  1|\n",
            "+--------------------+------+----+-------------+----------+------------+-----------+-------------------+--------+---------------+--------+--------------------+-----------+-------------------+\n",
            "only showing top 20 rows\n",
            "\n"
          ]
        }
      ]
    },
    {
      "cell_type": "markdown",
      "source": [
        "After that we will count the average number of days for each region for the episode to reach top200 in that region."
      ],
      "metadata": {
        "id": "smNFV2btT91O"
      }
    },
    {
      "cell_type": "code",
      "source": [
        "avg_difference_by_region = df.groupBy(\"region\").agg((round(avg(\"top200_from_release\") / 0.5, 0) * 0.5).alias(\"avg_top200_from_release\"))\n",
        "df_upper = avg_difference_by_region.withColumn(\"region\", upper(df[\"region\"]))\n",
        "df_upper.show()\n",
        "average_value = df.select(avg(\"top200_from_release\")).collect()[0][0]\n",
        "print(average_value)"
      ],
      "metadata": {
        "colab": {
          "base_uri": "https://localhost:8080/"
        },
        "id": "8oRpIzXcT9Pz",
        "outputId": "93ac427e-1cd7-4883-bbd6-b7114dc51b90"
      },
      "execution_count": 170,
      "outputs": [
        {
          "output_type": "stream",
          "name": "stdout",
          "text": [
            "+------+-----------------------+\n",
            "|region|avg_top200_from_release|\n",
            "+------+-----------------------+\n",
            "|    US|                    1.5|\n",
            "|    CL|                   16.5|\n",
            "|    JP|                    1.5|\n",
            "|    PL|                    6.5|\n",
            "|    IN|                   55.0|\n",
            "|    AU|                    2.5|\n",
            "|    GB|                    2.5|\n",
            "|    CO|                   25.0|\n",
            "|    DE|                    1.5|\n",
            "|    BR|                    6.5|\n",
            "|    ES|                    6.0|\n",
            "|    IT|                    9.5|\n",
            "|    AR|                   17.0|\n",
            "|    PH|                   24.0|\n",
            "|    NL|                    3.5|\n",
            "|    CA|                    2.5|\n",
            "|    NZ|                    2.5|\n",
            "|    AT|                    1.5|\n",
            "|    MX|                   12.0|\n",
            "|    FR|                    7.0|\n",
            "+------+-----------------------+\n",
            "only showing top 20 rows\n",
            "\n",
            "8.141002259842207\n"
          ]
        }
      ]
    },
    {
      "cell_type": "markdown",
      "source": [
        "# Geopandas visualization"
      ],
      "metadata": {
        "id": "AfnW5xFbVxlk"
      }
    },
    {
      "cell_type": "markdown",
      "source": [
        "In order to visualize the result we need to convert our PySpark dataframe to the pandas one."
      ],
      "metadata": {
        "id": "FWx_1Mke-bq5"
      }
    },
    {
      "cell_type": "code",
      "source": [
        "df_pandas = df_upper.toPandas()"
      ],
      "metadata": {
        "id": "wJ09uXlqeW-4"
      },
      "execution_count": 171,
      "outputs": []
    },
    {
      "cell_type": "code",
      "source": [
        "world_without_antarctica = world[world['NAME'] != 'Antarctica']\n",
        "world = world_without_antarctica"
      ],
      "metadata": {
        "id": "4EBxeulIrRVo"
      },
      "execution_count": 172,
      "outputs": []
    },
    {
      "cell_type": "code",
      "source": [
        "world = world.merge(df_pandas, how='left', left_on='ISO_A2', right_on='region')"
      ],
      "metadata": {
        "id": "fWsAKeZkcA7_"
      },
      "execution_count": 173,
      "outputs": []
    },
    {
      "cell_type": "code",
      "source": [
        "original_cmap = plt.cm.Oranges\n",
        "new_cmap = mcolors.ListedColormap([original_cmap(i) for i in range(40,200)])"
      ],
      "metadata": {
        "id": "liCMkeTRmWH6"
      },
      "execution_count": 174,
      "outputs": []
    },
    {
      "cell_type": "code",
      "source": [
        "fig, ax = plt.subplots(1, 1, figsize=(15, 10))\n",
        "for idx, row in world.iterrows():\n",
        "    if pd.notnull(row['avg_top200_from_release']):\n",
        "        x, y = row['geometry'].centroid.x, row['geometry'].centroid.y\n",
        "        ax.text(x, y, str(row['avg_top200_from_release']), fontsize=6, color='darkred', ha='center', va='center', fontweight='bold')\n",
        "ax.set_title('The number of days for podcast episode to reach top 200 from its release date', fontsize=16)\n",
        "ax.axis('off')\n",
        "world.plot(\n",
        "    column='avg_top200_from_release',\n",
        "    cmap= new_cmap,\n",
        "    legend=True,\n",
        "    linewidth=0.5,\n",
        "    legend_kwds={'label': \"Number of days\", 'orientation': \"horizontal\"},\n",
        "    missing_kwds={\"color\": \"lightgrey\", \"label\": \"No Data\"},\n",
        "    edgecolor ='grey',\n",
        "    alpha=0.7,\n",
        "    ax=ax\n",
        ")\n"
      ],
      "metadata": {
        "id": "DEsayJgYb5H3",
        "colab": {
          "base_uri": "https://localhost:8080/",
          "height": 614
        },
        "outputId": "11fffbf4-ff64-4628-b261-96075993b4d5"
      },
      "execution_count": 175,
      "outputs": [
        {
          "output_type": "execute_result",
          "data": {
            "text/plain": [
              "<Axes: title={'center': 'The number of days for podcast episode to reach top 200 from its release date'}>"
            ]
          },
          "metadata": {},
          "execution_count": 175
        },
        {
          "output_type": "display_data",
          "data": {
            "text/plain": [
              "<Figure size 1500x1000 with 2 Axes>"
            ],
            "image/png": "[encoded data removed]"
          },
          "metadata": {}
        }
      ]
    },
    {
      "cell_type": "markdown",
      "source": [
        "# Data preparation for Kaplan-Maier Curve\n",
        "\n",
        "---\n",
        "\n"
      ],
      "metadata": {
        "id": "VitoUQaHtO0Q"
      }
    },
    {
      "cell_type": "markdown",
      "source": [
        "\n",
        "A Kaplan-Meier curve is a statistical tool used to estimate the survival function from time-to-event data. It is commonly used in medical research and survival analysis to visualize the probability of survival over time.\n",
        "\n",
        "In case of our dataset we would like to know what is the survival probability for a podcast episode to remain in the following week - 1st, 2nd and so on."
      ],
      "metadata": {
        "id": "w5nqdupvJRrA"
      }
    },
    {
      "cell_type": "markdown",
      "source": [
        "To prepare data for creating a Kaplan Meier curve two basic columns are needed: the time column and the event column:\n",
        "\n",
        "\n",
        "*   time column indicates the time that has passed from starting observing the record and to the moment of occurence of event\n",
        "*   event column indicates wheter event occured or not - 1 if it occurred and 0 for absence of event.\n",
        "\n",
        "In our research as time column we will consider the number of days that the podcast episode was staying in the top200 of certain region. As an event column we will define whether the episode dropped out of top200 under observed period- if yes, the value will equal to 1, and 0 for the opposite.\n",
        "\n"
      ],
      "metadata": {
        "id": "bWuI5_4NS0qB"
      }
    },
    {
      "cell_type": "code",
      "source": [
        "sorted_df = df_preprocessed.orderBy(\"date\", ascending=True)\n",
        "last_date = sorted_df.tail(1)[0][\"date\"]\n",
        "print(last_date)"
      ],
      "metadata": {
        "colab": {
          "base_uri": "https://localhost:8080/"
        },
        "id": "astRMf9easD9",
        "outputId": "2f2b0e92-23ea-439b-fe6d-4c7294fa3b1e"
      },
      "execution_count": 176,
      "outputs": [
        {
          "output_type": "stream",
          "name": "stdout",
          "text": [
            "2024-10-24\n"
          ]
        }
      ]
    },
    {
      "cell_type": "code",
      "source": [
        "df_modified = df_preprocessed.withColumn(\n",
        "    \"censored\",\n",
        "    when(df_preprocessed[\"date\"] == last_date, 1).otherwise(0))"
      ],
      "metadata": {
        "id": "CxZ_2tcegNpG"
      },
      "execution_count": 177,
      "outputs": []
    },
    {
      "cell_type": "code",
      "source": [
        "df_modified = df_modified.withColumn(\n",
        "    \"event\",\n",
        "    when(df_modified[\"censored\"] == 1, 0).otherwise(1))"
      ],
      "metadata": {
        "id": "ATV-A2nAZvnK"
      },
      "execution_count": 178,
      "outputs": []
    },
    {
      "cell_type": "markdown",
      "source": [
        "Now we would like to compute the time in ranking for each podcast episode - how long did the podcast remain nonstop in the chart since entering it. Then we will compute the average time in ranking for the whole data and later on - within the regions."
      ],
      "metadata": {
        "id": "uNaPQWmCLmIG"
      }
    },
    {
      "cell_type": "code",
      "source": [
        "window_spec = Window.partitionBy(\"episodeUri\", \"region\")\n",
        "df_with_dates = df_modified.withColumn(\"first_date\", min(\"date\").over(window_spec)) \\\n",
        "                  .withColumn(\"last_date\", max(\"date\").over(window_spec))\n",
        "df_with_time = df_with_dates.withColumn(\"time_in_ranking\", (datediff(df_with_dates[\"last_date\"], df_with_dates[\"first_date\"])+1))\n",
        "episode_region_combinations = df_with_time.select(\"episodeUri\", \"region\").distinct()\n",
        "df_joined = df_with_time.join(episode_region_combinations, on=[\"episodeUri\", \"region\"], how=\"inner\")\n",
        "survival_analysis_data = df_joined.dropDuplicates([\"episodeUri\", \"region\"])\n",
        "\n",
        "average_value = survival_analysis_data.select(avg(\"time_in_ranking\")).collect()[0][0]\n",
        "print(\"Average number of days for a podcast episode to remain in ranking is: \")\n",
        "print(average_value)\n",
        "average_values_df = survival_analysis_data.groupBy(\"region\").agg(round(avg(\"time_in_ranking\"),2).alias(\"average_time_in_ranking\"))\n",
        "average_values_df.show()"
      ],
      "metadata": {
        "id": "WNTawejhvZxW",
        "colab": {
          "base_uri": "https://localhost:8080/"
        },
        "outputId": "be6695e0-daed-4646-e77a-7c2be3cbccfb"
      },
      "execution_count": 179,
      "outputs": [
        {
          "output_type": "stream",
          "name": "stdout",
          "text": [
            "Average number of days for a podcast episode to remain in ranking is: \n",
            "4.007834160809852\n",
            "+------+-----------------------+\n",
            "|region|average_time_in_ranking|\n",
            "+------+-----------------------+\n",
            "|    us|                   2.91|\n",
            "|    cl|                   4.86|\n",
            "|    jp|                   3.98|\n",
            "|    pl|                   5.72|\n",
            "|    in|                   8.13|\n",
            "|    au|                   3.17|\n",
            "|    gb|                    3.3|\n",
            "|    co|                    5.6|\n",
            "|    de|                   3.53|\n",
            "|    br|                    3.6|\n",
            "|    es|                   3.29|\n",
            "|    it|                   3.55|\n",
            "|    ar|                   4.77|\n",
            "|    ph|                   6.18|\n",
            "|    nl|                   3.74|\n",
            "|    ca|                   3.11|\n",
            "|    nz|                   3.08|\n",
            "|    at|                   3.75|\n",
            "|    mx|                   4.34|\n",
            "|    fr|                   3.09|\n",
            "+------+-----------------------+\n",
            "only showing top 20 rows\n",
            "\n"
          ]
        }
      ]
    },
    {
      "cell_type": "markdown",
      "source": [
        "Now, the proper Kaplan Meier dataframe preparation starts. We narrow down our dataset only to these podcast episodes, that entered the ranking at the beginning of observed period which is 02.09.2024 - so their first_date in ranking has to be like that and also their chartRankMove has to be NEW.\n",
        "\n",
        "We do that in order to make the results more reliable and interpretable - otherwise we would take into consideration episodes that were at 'the end' of their time in chart."
      ],
      "metadata": {
        "id": "OCuZPHEmML3K"
      }
    },
    {
      "cell_type": "code",
      "source": [
        "filtered_df = df_joined.filter((df_joined['first_date']=='2024-09-02') & (df_joined['chartRankMove']=='NEW'))\n",
        "distinct_episodes_df = filtered_df.dropDuplicates([\"episodeUri\", \"region\"])\n",
        "df_Kaplan = distinct_episodes_df.select(*['episodeUri', 'region','time_in_ranking', 'event', 'first_date', 'last_date'])\n",
        "print(df_Kaplan.count())\n",
        "df_Kaplan.show()"
      ],
      "metadata": {
        "colab": {
          "base_uri": "https://localhost:8080/"
        },
        "id": "CshFVTwyugke",
        "outputId": "ab0ec6d4-0792-44a5-f40e-494bca147ed8"
      },
      "execution_count": 180,
      "outputs": [
        {
          "output_type": "stream",
          "name": "stdout",
          "text": [
            "740\n",
            "+--------------------+------+---------------+-----+----------+----------+\n",
            "|          episodeUri|region|time_in_ranking|event|first_date| last_date|\n",
            "+--------------------+------+---------------+-----+----------+----------+\n",
            "|00gWKlCF85pxfPoVm...|    fr|              2|    1|2024-09-02|2024-09-03|\n",
            "|03QcjM7P4mdW7bbsJ...|    ph|              3|    1|2024-09-02|2024-09-04|\n",
            "|03oJYhzSTjLKHdYte...|    ar|              1|    1|2024-09-02|2024-09-02|\n",
            "|04wzuAwQhpuUZnrEP...|    cl|             10|    1|2024-09-02|2024-09-11|\n",
            "|04x9N3cnhbfeLwnxV...|    co|             53|    1|2024-09-02|2024-10-24|\n",
            "|06tEdaKqVaui7g2g6...|    mx|             19|    1|2024-09-02|2024-09-20|\n",
            "|07wZdWaZ2wl8gY2FH...|    pl|              1|    1|2024-09-02|2024-09-02|\n",
            "|08YvbR19U7Qvc1McI...|    gb|              2|    1|2024-09-02|2024-09-03|\n",
            "|09IJVMMGVAukAySkc...|    in|             20|    1|2024-09-02|2024-09-21|\n",
            "|09QmVmqkgYciFGMDu...|    au|              2|    1|2024-09-02|2024-09-03|\n",
            "|0AzgFs8yyndibuZ7Z...|    gb|              3|    1|2024-09-02|2024-09-04|\n",
            "|0BU1QRyaWJEPYmN1p...|    pl|             14|    1|2024-09-02|2024-09-15|\n",
            "|0CmeuPbuiPaDG4tMM...|    co|              3|    1|2024-09-02|2024-09-04|\n",
            "|0CmeuPbuiPaDG4tMM...|    mx|              1|    1|2024-09-02|2024-09-02|\n",
            "|0DVCChzp5HfeXJjBD...|    it|              1|    1|2024-09-02|2024-09-02|\n",
            "|0DzpXSAeLMw0dowup...|    id|              8|    1|2024-09-02|2024-09-09|\n",
            "|0EAoRpbN3ANiSNotq...|    id|             12|    1|2024-09-02|2024-09-13|\n",
            "|0EV6ykw8HJv6SKlZk...|    nz|              3|    1|2024-09-02|2024-09-04|\n",
            "|0FnrpBWofavaU3HSY...|    it|             29|    1|2024-09-02|2024-09-30|\n",
            "|0KHN0da1Xh89EgZpV...|    at|              5|    1|2024-09-02|2024-09-06|\n",
            "+--------------------+------+---------------+-----+----------+----------+\n",
            "only showing top 20 rows\n",
            "\n"
          ]
        }
      ]
    },
    {
      "cell_type": "code",
      "source": [
        "df = df_Kaplan.toPandas()\n",
        "T = df[\"time_in_ranking\"]\n",
        "E = df[\"event\"]\n",
        "plt.hist(T, bins = 6)\n",
        "plt.xlabel(\"Time in ranking in days\")\n",
        "plt.ylabel(\"Frequency\")\n",
        "plt.show()"
      ],
      "metadata": {
        "id": "iYFdk8UByb1j",
        "colab": {
          "base_uri": "https://localhost:8080/",
          "height": 449
        },
        "outputId": "1f739f38-9361-4a73-e0e2-9e2c8321aabb"
      },
      "execution_count": 181,
      "outputs": [
        {
          "output_type": "display_data",
          "data": {
            "text/plain": [
              "<Figure size 640x480 with 1 Axes>"
            ],
            "image/png": "[encoded data removed]"
          },
          "metadata": {}
        }
      ]
    },
    {
      "cell_type": "markdown",
      "source": [
        "As we can see at the plot above the distribution of the time in ranking for podcast episodes looks like gamma distribution with low shape parameter - the most of the podcast episodes drop out of the ranking under 10 days of their 'life' in it."
      ],
      "metadata": {
        "id": "gRAxOaFDNVzV"
      }
    },
    {
      "cell_type": "markdown",
      "source": [
        "## Preparing the life table"
      ],
      "metadata": {
        "id": "VTKIuU4DJuHn"
      }
    },
    {
      "cell_type": "markdown",
      "source": [
        "Now we will prepare a life table or actuarial table in order to estimate life expectancy. A life table in survival analysis is a statistical tool used to summarize the survival patterns of a population over time. It provides a structured way to estimate the probability of survival and related metrics at different time intervals. In case of our dataset it estimates the expected number of days that podcast's epsiode will remain in the top200 in the following weeks."
      ],
      "metadata": {
        "id": "BhIXGccIUtZT"
      }
    },
    {
      "cell_type": "code",
      "source": [
        "max_last_date = df_Kaplan.agg(max(df_Kaplan[\"last_date\"]).alias(\"max_last_date\"))\n",
        "max_last_date.show()"
      ],
      "metadata": {
        "id": "9hB2_PIcUtEG",
        "colab": {
          "base_uri": "https://localhost:8080/"
        },
        "outputId": "c799299f-2b93-4d82-ebc0-209873de8277"
      },
      "execution_count": 182,
      "outputs": [
        {
          "output_type": "stream",
          "name": "stdout",
          "text": [
            "+-------------+\n",
            "|max_last_date|\n",
            "+-------------+\n",
            "|   2024-10-24|\n",
            "+-------------+\n",
            "\n"
          ]
        }
      ]
    },
    {
      "cell_type": "markdown",
      "source": [
        "The maximum date that podcast episode from the beginning remained in the top200 is 24.10.2024 and therefore we will conduct the survival analysis for time period of 8 weeks. The life table will have a following structure:\n",
        "1. $t$ - *interval in weeks* - (0,1] weeks, (1,2] weeks, (2,3] weeks, (3,4], (4,5], (5,6], (6,7], (7,8] weeks\n",
        "2. $N_t$  - *number at risk for interval* - this is the number of episodes that remaind 'alive' at the beginning of the interval\n",
        "3. $D_t$ - *number of deaths during interval* - this is the number of podcast episode which simply dropped out of top200 in the specific interval\n",
        "4. $q_t$ - *proportion dying during interval* - which is simply $D_t/N_t$\n",
        "5. $p_t$ - *proportion surviving interval* - which is simply $1-q_t$\n",
        "6. $S_t$ - *cumulative survival probability* - represent the proportion of episodes remaining 'alive' over time intervals, in general $S_{t+1} =S_t\\cdot p_{t+1}$"
      ],
      "metadata": {
        "id": "VPrxMcnFbUkj"
      }
    },
    {
      "cell_type": "code",
      "source": [
        "week_1 = '2024-09-08'\n",
        "week_2 = '2024-09-15'\n",
        "week_3 = '2024-09-22'\n",
        "week_4 = '2024-09-29'\n",
        "week_5 = '2024-10-06'\n",
        "week_6 = '2024-10-13'\n",
        "week_7 = '2024-10-20'\n",
        "week_8 = '2024-10-27'\n",
        "weeks = [week_1, week_2, week_3, week_4, week_5, week_6, week_7, week_8]\n",
        "df_life_table = df_Kaplan.withColumn('died_week_1', when(df_Kaplan['last_date']<=week_1, 1).otherwise(0))\n",
        "for i in range(1, len(weeks)):\n",
        "    week_column = f\"died_week_{i + 1}\"\n",
        "    df_life_table = df_life_table.withColumn(\n",
        "        week_column,\n",
        "        when(\n",
        "            (df_Kaplan[\"last_date\"] <= weeks[i]) & (df_Kaplan[\"last_date\"] > weeks[i - 1]),\n",
        "            1\n",
        "        ).otherwise(0)\n",
        "    )\n",
        "df_life_table = df_life_table.withColumn(\"interval_1\", lit(1))\n",
        "for i in range(1, len(weeks)):\n",
        "    interval_col = f\"interval_{i + 1}\"\n",
        "    df_life_table = df_life_table.withColumn(\n",
        "        interval_col,\n",
        "        when(df_Kaplan[\"last_date\"] > weeks[i - 1], 1).otherwise(0)\n",
        "    )\n",
        "df_life_table.show()"
      ],
      "metadata": {
        "id": "RBfyTFice6km",
        "colab": {
          "base_uri": "https://localhost:8080/"
        },
        "outputId": "8f39926f-cbf8-49c3-ea45-98d4bdd0b264"
      },
      "execution_count": 183,
      "outputs": [
        {
          "output_type": "stream",
          "name": "stdout",
          "text": [
            "+--------------------+------+---------------+-----+----------+----------+-----------+-----------+-----------+-----------+-----------+-----------+-----------+-----------+----------+----------+----------+----------+----------+----------+----------+----------+\n",
            "|          episodeUri|region|time_in_ranking|event|first_date| last_date|died_week_1|died_week_2|died_week_3|died_week_4|died_week_5|died_week_6|died_week_7|died_week_8|interval_1|interval_2|interval_3|interval_4|interval_5|interval_6|interval_7|interval_8|\n",
            "+--------------------+------+---------------+-----+----------+----------+-----------+-----------+-----------+-----------+-----------+-----------+-----------+-----------+----------+----------+----------+----------+----------+----------+----------+----------+\n",
            "|00gWKlCF85pxfPoVm...|    fr|              2|    1|2024-09-02|2024-09-03|          1|          0|          0|          0|          0|          0|          0|          0|         1|         0|         0|         0|         0|         0|         0|         0|\n",
            "|03QcjM7P4mdW7bbsJ...|    ph|              3|    1|2024-09-02|2024-09-04|          1|          0|          0|          0|          0|          0|          0|          0|         1|         0|         0|         0|         0|         0|         0|         0|\n",
            "|03oJYhzSTjLKHdYte...|    ar|              1|    1|2024-09-02|2024-09-02|          1|          0|          0|          0|          0|          0|          0|          0|         1|         0|         0|         0|         0|         0|         0|         0|\n",
            "|04wzuAwQhpuUZnrEP...|    cl|             10|    1|2024-09-02|2024-09-11|          0|          1|          0|          0|          0|          0|          0|          0|         1|         1|         0|         0|         0|         0|         0|         0|\n",
            "|04x9N3cnhbfeLwnxV...|    co|             53|    1|2024-09-02|2024-10-24|          0|          0|          0|          0|          0|          0|          0|          1|         1|         1|         1|         1|         1|         1|         1|         1|\n",
            "|06tEdaKqVaui7g2g6...|    mx|             19|    1|2024-09-02|2024-09-20|          0|          0|          1|          0|          0|          0|          0|          0|         1|         1|         1|         0|         0|         0|         0|         0|\n",
            "|07wZdWaZ2wl8gY2FH...|    pl|              1|    1|2024-09-02|2024-09-02|          1|          0|          0|          0|          0|          0|          0|          0|         1|         0|         0|         0|         0|         0|         0|         0|\n",
            "|08YvbR19U7Qvc1McI...|    gb|              2|    1|2024-09-02|2024-09-03|          1|          0|          0|          0|          0|          0|          0|          0|         1|         0|         0|         0|         0|         0|         0|         0|\n",
            "|09IJVMMGVAukAySkc...|    in|             20|    1|2024-09-02|2024-09-21|          0|          0|          1|          0|          0|          0|          0|          0|         1|         1|         1|         0|         0|         0|         0|         0|\n",
            "|09QmVmqkgYciFGMDu...|    au|              2|    1|2024-09-02|2024-09-03|          1|          0|          0|          0|          0|          0|          0|          0|         1|         0|         0|         0|         0|         0|         0|         0|\n",
            "|0AzgFs8yyndibuZ7Z...|    gb|              3|    1|2024-09-02|2024-09-04|          1|          0|          0|          0|          0|          0|          0|          0|         1|         0|         0|         0|         0|         0|         0|         0|\n",
            "|0BU1QRyaWJEPYmN1p...|    pl|             14|    1|2024-09-02|2024-09-15|          0|          1|          0|          0|          0|          0|          0|          0|         1|         1|         0|         0|         0|         0|         0|         0|\n",
            "|0CmeuPbuiPaDG4tMM...|    co|              3|    1|2024-09-02|2024-09-04|          1|          0|          0|          0|          0|          0|          0|          0|         1|         0|         0|         0|         0|         0|         0|         0|\n",
            "|0CmeuPbuiPaDG4tMM...|    mx|              1|    1|2024-09-02|2024-09-02|          1|          0|          0|          0|          0|          0|          0|          0|         1|         0|         0|         0|         0|         0|         0|         0|\n",
            "|0DVCChzp5HfeXJjBD...|    it|              1|    1|2024-09-02|2024-09-02|          1|          0|          0|          0|          0|          0|          0|          0|         1|         0|         0|         0|         0|         0|         0|         0|\n",
            "|0DzpXSAeLMw0dowup...|    id|              8|    1|2024-09-02|2024-09-09|          0|          1|          0|          0|          0|          0|          0|          0|         1|         1|         0|         0|         0|         0|         0|         0|\n",
            "|0EAoRpbN3ANiSNotq...|    id|             12|    1|2024-09-02|2024-09-13|          0|          1|          0|          0|          0|          0|          0|          0|         1|         1|         0|         0|         0|         0|         0|         0|\n",
            "|0EV6ykw8HJv6SKlZk...|    nz|              3|    1|2024-09-02|2024-09-04|          1|          0|          0|          0|          0|          0|          0|          0|         1|         0|         0|         0|         0|         0|         0|         0|\n",
            "|0FnrpBWofavaU3HSY...|    it|             29|    1|2024-09-02|2024-09-30|          0|          0|          0|          0|          1|          0|          0|          0|         1|         1|         1|         1|         1|         0|         0|         0|\n",
            "|0KHN0da1Xh89EgZpV...|    at|              5|    1|2024-09-02|2024-09-06|          1|          0|          0|          0|          0|          0|          0|          0|         1|         0|         0|         0|         0|         0|         0|         0|\n",
            "+--------------------+------+---------------+-----+----------+----------+-----------+-----------+-----------+-----------+-----------+-----------+-----------+-----------+----------+----------+----------+----------+----------+----------+----------+----------+\n",
            "only showing top 20 rows\n",
            "\n"
          ]
        }
      ]
    },
    {
      "cell_type": "markdown",
      "source": [
        "Now we will create a proper life table in dataframe."
      ],
      "metadata": {
        "id": "Y2nh7n4uCwZs"
      }
    },
    {
      "cell_type": "code",
      "source": [
        "interval_columns = [f\"interval_{i}\" for i in range(1, 9)]\n",
        "died_columns = [f\"died_week_{i}\" for i in range(1, 9)]\n",
        "number_of_alive = [sum((col)).alias(col) for col in interval_columns]\n",
        "number_of_deaths = [sum(col).alias(col) for col in died_columns]\n",
        "alive_df = df_life_table.select(number_of_alive).collect()[0]\n",
        "death_df = df_life_table.select(number_of_deaths).collect()[0]"
      ],
      "metadata": {
        "id": "6P7ZrudU4GoJ"
      },
      "execution_count": 184,
      "outputs": []
    },
    {
      "cell_type": "code",
      "source": [
        "interval_data = []\n",
        "for i in range(7):\n",
        "    interval_data.append(\n",
        "        (f\"{i+1}\", alive_df[i], death_df[i])\n",
        "    )\n",
        "life_table = spark.createDataFrame(interval_data, [\"week\", \"N_t\", \"D_t\"])\n",
        "life_table = life_table.withColumn(\"q_t\", round(life_table[\"D_t\"] / life_table[\"N_t\"],2))\n",
        "life_table = life_table.withColumn(\"p_t\", round(1-life_table[\"q_t\"],2))\n"
      ],
      "metadata": {
        "id": "G64W892mErin"
      },
      "execution_count": 185,
      "outputs": []
    },
    {
      "cell_type": "code",
      "source": [
        "life_table = life_table.withColumn(\"S_t\", lit(1.0))\n",
        "first_row = life_table.first().asDict()\n",
        "first_row[\"S_t\"] = first_row[\"p_t\"]\n",
        "updated_first_row = Row(**first_row)\n",
        "remaining_rows = life_table.collect()[1:]\n",
        "updated_rows= [updated_first_row] + remaining_rows\n",
        "life_table = spark.createDataFrame(updated_rows)\n"
      ],
      "metadata": {
        "id": "nwrUdampEIkV"
      },
      "execution_count": 186,
      "outputs": []
    },
    {
      "cell_type": "code",
      "source": [
        "def calculate_survival_probability(life_table):\n",
        "    window_spec = Window.orderBy(life_table.columns[0]).rowsBetween(Window.unboundedPreceding, Window.currentRow)\n",
        "\n",
        "    life_table = life_table.withColumn(\"log_p_t\", log(life_table[\"p_t\"]))\n",
        "\n",
        "    life_table = life_table.withColumn(\"cum_log_p_t\", sum(\"log_p_t\").over(window_spec))\n",
        "\n",
        "    life_table = life_table.withColumn(\"S_t\", exp(life_table[\"cum_log_p_t\"]))\n",
        "    life_table = life_table.withColumn(\"S_t\", round(life_table[\"S_t\"], 2)) \\\n",
        "                          .drop(\"log_p_t\", \"cum_log_p_t\")\n",
        "\n",
        "    return life_table\n"
      ],
      "metadata": {
        "id": "cu8AnrXKUold"
      },
      "execution_count": 187,
      "outputs": []
    },
    {
      "cell_type": "code",
      "source": [
        "life_table = calculate_survival_probability(life_table)"
      ],
      "metadata": {
        "id": "JOr-31i2Uvkx"
      },
      "execution_count": 188,
      "outputs": []
    },
    {
      "cell_type": "code",
      "source": [
        "life_table.show()"
      ],
      "metadata": {
        "colab": {
          "base_uri": "https://localhost:8080/"
        },
        "id": "EEyVB9LgV6aZ",
        "outputId": "2bd15425-e311-46a1-96a9-2dff62594414"
      },
      "execution_count": 189,
      "outputs": [
        {
          "output_type": "stream",
          "name": "stdout",
          "text": [
            "+----+---+---+----+----+----+\n",
            "|week|N_t|D_t| q_t| p_t| S_t|\n",
            "+----+---+---+----+----+----+\n",
            "|   1|740|452|0.61|0.39|0.39|\n",
            "|   2|288|119|0.41|0.59|0.23|\n",
            "|   3|169| 47|0.28|0.72|0.17|\n",
            "|   4|122| 17|0.14|0.86|0.14|\n",
            "|   5|105| 17|0.16|0.84|0.12|\n",
            "|   6| 88| 10|0.11|0.89|0.11|\n",
            "|   7| 78| 18|0.23|0.77|0.08|\n",
            "+----+---+---+----+----+----+\n",
            "\n"
          ]
        }
      ]
    },
    {
      "cell_type": "markdown",
      "source": [
        "Now, the life table is ready. We have the attributes:\n",
        "\n",
        "*   $N_t$ which tells us about the number of episodes that remained in top200\n",
        "*   $D_t$ which is the number of podcast that dropped out of the top200 in this specific week\n",
        "*   $q_t$ which is simply proportion of \"dying\" in the week $t$\n",
        "*   $p_t$ which is the proportion of \"surviving\" in the week $t$\n",
        "\n",
        "As we can see the biggest proportion of \"dying\" is in the week 1 - it is very probable that the podcast episode will drop out of the ranking in the first week of its lifetime. With passing the time this proportion decrease drastically, so it means that episodes that survived this first week of their popularity will likely remain in the ranking.\n",
        "\n",
        "\n",
        "\n"
      ],
      "metadata": {
        "id": "1cgryJ6ZIIg-"
      }
    },
    {
      "cell_type": "markdown",
      "source": [
        "## Creating Kaplan - Meier curve"
      ],
      "metadata": {
        "id": "QCVRlWuDKEV-"
      }
    },
    {
      "cell_type": "markdown",
      "source": [
        "The life table approach estimates survival probabilities over fixed intervals, but results can vary depending on interval organization, especially in small samples. The Kaplan-Meier method (product-limit approach) addresses this by recalculating survival probabilities at each event time, allowing for more precise estimates.\n",
        "\n",
        "The table below applies the Kaplan-Meier approach to the same data as before. At Time=0, the survival probability is 1 (100%), as all participants are at risk. The Kaplan-Meier formula, $$S_{t+1} = S_t \\cdot \\frac{(N_{t+1}-D_{t+1})}{N_{t+1}} $$\n",
        " differs from the life table approach by using event instead of fixed intervals, as detailed in the first rows of the table."
      ],
      "metadata": {
        "id": "BT8fhOl-K1QK"
      }
    },
    {
      "cell_type": "code",
      "source": [
        "#for life table in Kaplan-Meier Approach we can drop columns p_t, q_t and just leave N_t, D_t, week, S_t\n",
        "Kaplan_life_table = life_table.drop(*['q_t', 'p_t'])\n",
        "schema_Kaplan = Kaplan_life_table.schema\n",
        "Kaplan_life_table_first_row = Kaplan_life_table.first().asDict()\n",
        "Kaplan_life_table_first_row[\"week\"] = 0\n",
        "Kaplan_life_table_first_row[\"S_t\"] = 1.0\n",
        "new_row = Row(**Kaplan_life_table_first_row)\n",
        "new_df = spark.createDataFrame([new_row])\n",
        "Kaplan_life_table = new_df.union(Kaplan_life_table)\n",
        "Kaplan_life_table.show()"
      ],
      "metadata": {
        "id": "jAWLqmOCMQt2",
        "colab": {
          "base_uri": "https://localhost:8080/"
        },
        "outputId": "79b803ee-b7bc-4e11-daa3-c7e44de43dd8"
      },
      "execution_count": 190,
      "outputs": [
        {
          "output_type": "stream",
          "name": "stdout",
          "text": [
            "+----+---+---+----+\n",
            "|week|N_t|D_t| S_t|\n",
            "+----+---+---+----+\n",
            "|   0|740|452| 1.0|\n",
            "|   1|740|452|0.39|\n",
            "|   2|288|119|0.23|\n",
            "|   3|169| 47|0.17|\n",
            "|   4|122| 17|0.14|\n",
            "|   5|105| 17|0.12|\n",
            "|   6| 88| 10|0.11|\n",
            "|   7| 78| 18|0.08|\n",
            "+----+---+---+----+\n",
            "\n"
          ]
        }
      ]
    },
    {
      "cell_type": "code",
      "source": [
        "#quickly switch to Pandas because Pyspark doesn't support inductive calculations\n",
        "Kaplan_pd =Kaplan_life_table.toPandas()\n",
        "for i in range(1, len(Kaplan_pd)):\n",
        "    Kaplan_pd.loc[i, 'S_t_dynamic'] = Kaplan_pd.loc[i-1, 'S_t'] * ((Kaplan_pd.loc[i, 'N_t'] - Kaplan_pd.loc[i, 'D_t']) / Kaplan_pd.loc[i, 'N_t'])\n",
        "Kaplan_life_table = spark.createDataFrame(Kaplan_pd)\n",
        "Kaplan_life_table.show()\n"
      ],
      "metadata": {
        "id": "CGIkNvfpNOV8",
        "colab": {
          "base_uri": "https://localhost:8080/"
        },
        "outputId": "fdca1141-b18c-40ae-da4a-5c8ec693ffd7"
      },
      "execution_count": 191,
      "outputs": [
        {
          "output_type": "stream",
          "name": "stdout",
          "text": [
            "+----+---+---+----+-------------------+\n",
            "|week|N_t|D_t| S_t|        S_t_dynamic|\n",
            "+----+---+---+----+-------------------+\n",
            "|   0|740|452| 1.0|                NaN|\n",
            "|   1|740|452|0.39| 0.3891891891891892|\n",
            "|   2|288|119|0.23| 0.2288541666666667|\n",
            "|   3|169| 47|0.17|0.16603550295857988|\n",
            "|   4|122| 17|0.14|0.14631147540983608|\n",
            "|   5|105| 17|0.12|0.11733333333333335|\n",
            "|   6| 88| 10|0.11|0.10636363636363635|\n",
            "|   7| 78| 18|0.08|0.08461538461538462|\n",
            "+----+---+---+----+-------------------+\n",
            "\n"
          ]
        }
      ]
    },
    {
      "cell_type": "code",
      "source": [
        "schema_Kaplan = Kaplan_life_table.schema\n",
        "df_columns = [\"week\", \"N_t\", \"S_t\", \"S_t_dynamic\"]\n",
        "Kaplan_life_table = Kaplan_life_table.rdd.zipWithIndex().filter(lambda x: x[1] != 0).map(lambda x: x[0]).toDF(df_columns)\n"
      ],
      "metadata": {
        "id": "pW_XMYucRhQk"
      },
      "execution_count": 192,
      "outputs": []
    },
    {
      "cell_type": "code",
      "source": [
        "new_row = spark.createDataFrame([(0, 740, 452, 1.0, 1.0)], schema = schema_Kaplan )\n",
        "Kaplan_life_table = new_row.union(Kaplan_life_table)\n",
        "Kaplan_life_table = Kaplan_life_table.select(['week', 'N_t', 'D_t', 'S_t_dynamic'])\n",
        "Kaplan_life_table.show()"
      ],
      "metadata": {
        "id": "6_EMvIPTfVH6",
        "colab": {
          "base_uri": "https://localhost:8080/"
        },
        "outputId": "2b2d0561-1fe9-41b6-f573-ae0b07d9a647"
      },
      "execution_count": 193,
      "outputs": [
        {
          "output_type": "stream",
          "name": "stdout",
          "text": [
            "+----+---+---+-------------------+\n",
            "|week|N_t|D_t|        S_t_dynamic|\n",
            "+----+---+---+-------------------+\n",
            "|   0|740|452|                1.0|\n",
            "|   1|740|452| 0.3891891891891892|\n",
            "|   2|288|119| 0.2288541666666667|\n",
            "|   3|169| 47|0.16603550295857988|\n",
            "|   4|122| 17|0.14631147540983608|\n",
            "|   5|105| 17|0.11733333333333335|\n",
            "|   6| 88| 10|0.10636363636363635|\n",
            "|   7| 78| 18|0.08461538461538462|\n",
            "+----+---+---+-------------------+\n",
            "\n"
          ]
        }
      ]
    },
    {
      "cell_type": "code",
      "source": [
        "Kaplan_life_table = Kaplan_life_table.withColumn(\"S_t_dynamic\", round(Kaplan_life_table[\"S_t_dynamic\"], 2))\n",
        "Kaplan_life_table.show()"
      ],
      "metadata": {
        "id": "sLeLY_rjfxLm",
        "colab": {
          "base_uri": "https://localhost:8080/"
        },
        "outputId": "63381e15-3f65-4edb-8aa7-1fee0dd2068c"
      },
      "execution_count": 194,
      "outputs": [
        {
          "output_type": "stream",
          "name": "stdout",
          "text": [
            "+----+---+---+-----------+\n",
            "|week|N_t|D_t|S_t_dynamic|\n",
            "+----+---+---+-----------+\n",
            "|   0|740|452|        1.0|\n",
            "|   1|740|452|       0.39|\n",
            "|   2|288|119|       0.23|\n",
            "|   3|169| 47|       0.17|\n",
            "|   4|122| 17|       0.15|\n",
            "|   5|105| 17|       0.12|\n",
            "|   6| 88| 10|       0.11|\n",
            "|   7| 78| 18|       0.08|\n",
            "+----+---+---+-----------+\n",
            "\n"
          ]
        }
      ]
    },
    {
      "cell_type": "markdown",
      "source": [
        "This is the final life table for Kaplan - Meier approach, which is suitable to draw a Kaplan - Meier curve."
      ],
      "metadata": {
        "id": "KW6itgeAgPaw"
      }
    },
    {
      "cell_type": "code",
      "source": [
        "Kaplan_df = Kaplan_life_table.toPandas()\n",
        "plt.figure(figsize=(10, 6))\n",
        "plt.plot(Kaplan_df['week'], Kaplan_df['S_t_dynamic'], drawstyle='steps-post', marker='o', linestyle='-', color='b')\n",
        "plt.title('Kaplan-Meier Survival Curve')\n",
        "plt.xlabel('Week')\n",
        "plt.ylabel('Survival probability')\n",
        "plt.grid(True)\n",
        "plt.show()"
      ],
      "metadata": {
        "id": "NEOAtdlwgcpD",
        "colab": {
          "base_uri": "https://localhost:8080/",
          "height": 564
        },
        "outputId": "2bee2dff-5441-4742-ceeb-7864e8548ce4"
      },
      "execution_count": 195,
      "outputs": [
        {
          "output_type": "display_data",
          "data": {
            "text/plain": [
              "<Figure size 1000x600 with 1 Axes>"
            ],
            "image/png": "[encoded data removed]"
          },
          "metadata": {}
        }
      ]
    },
    {
      "cell_type": "markdown",
      "source": [
        "Now, in order to add confidence intervals to this curve, we have to extend our Kaplan Meier life table and add standard errors for these survival estimates.\n",
        "We use Greenwoods formula for these calculations\n"
      ],
      "metadata": {
        "id": "OzQfgBDahNpZ"
      }
    },
    {
      "cell_type": "code",
      "source": [
        "Kaplan_SE = Kaplan_life_table.withColumn('quotient', Kaplan_life_table['D_t']/(Kaplan_life_table['N_t']*(Kaplan_life_table['N_t']-Kaplan_life_table['D_t'])))\n",
        "Kaplan_SE.show()"
      ],
      "metadata": {
        "id": "cFaPu2C9hXKn",
        "colab": {
          "base_uri": "https://localhost:8080/"
        },
        "outputId": "2a31a27e-97fe-44e3-a669-0cf5426cb751"
      },
      "execution_count": 196,
      "outputs": [
        {
          "output_type": "stream",
          "name": "stdout",
          "text": [
            "+----+---+---+-----------+--------------------+\n",
            "|week|N_t|D_t|S_t_dynamic|            quotient|\n",
            "+----+---+---+-----------+--------------------+\n",
            "|   0|740|452|        1.0|0.002120870870870871|\n",
            "|   1|740|452|       0.39|0.002120870870870871|\n",
            "|   2|288|119|       0.23|0.002444937541091...|\n",
            "|   3|169| 47|       0.17|0.002279561548161...|\n",
            "|   4|122| 17|       0.15|0.001327088212334114|\n",
            "|   5|105| 17|       0.12| 0.00183982683982684|\n",
            "|   6| 88| 10|       0.11|0.001456876456876457|\n",
            "|   7| 78| 18|       0.08|0.003846153846153...|\n",
            "+----+---+---+-----------+--------------------+\n",
            "\n"
          ]
        }
      ]
    },
    {
      "cell_type": "code",
      "source": [
        "window_spec = Window.orderBy(\"week\").rowsBetween(Window.unboundedPreceding, Window.currentRow)\n",
        "Kaplan_SE = Kaplan_SE.withColumn(\"quotient_cum\", sum(Kaplan_SE[\"quotient\"]).over(window_spec))\n",
        "Kaplan_SE = Kaplan_SE.withColumn(\"quotient_cum_root\", Kaplan_SE[\"S_t_dynamic\"]*sqrt(Kaplan_SE[\"quotient_cum\"]))\n",
        "Kaplan_SE = Kaplan_SE.withColumn(\"confidence_interval\", 1.96*Kaplan_SE[\"quotient_cum_root\"])\n",
        "Kaplan_SE = Kaplan_SE.withColumn(\"confidence_upper\", Kaplan_SE[\"S_t_dynamic\"]+Kaplan_SE[\"confidence_interval\"])\n",
        "Kaplan_SE = Kaplan_SE.withColumn(\"confidence_lower\", Kaplan_SE[\"S_t_dynamic\"]-Kaplan_SE[\"confidence_interval\"])\n",
        "Kaplan_SE.show()"
      ],
      "metadata": {
        "id": "cOaJiU54iklW",
        "colab": {
          "base_uri": "https://localhost:8080/"
        },
        "outputId": "fc30d5f7-3d49-4b13-9a2a-3bb26d97a747"
      },
      "execution_count": 197,
      "outputs": [
        {
          "output_type": "stream",
          "name": "stdout",
          "text": [
            "+----+---+---+-----------+--------------------+--------------------+--------------------+--------------------+-------------------+-------------------+\n",
            "|week|N_t|D_t|S_t_dynamic|            quotient|        quotient_cum|   quotient_cum_root| confidence_interval|   confidence_upper|   confidence_lower|\n",
            "+----+---+---+-----------+--------------------+--------------------+--------------------+--------------------+-------------------+-------------------+\n",
            "|   0|740|452|        1.0|0.002120870870870871|0.002120870870870871| 0.04605291381520686| 0.09026371107780545| 1.0902637110778055| 0.9097362889221945|\n",
            "|   1|740|452|       0.39|0.002120870870870871|0.004241741741741742| 0.02540017556866328| 0.04978434411458003|0.43978434411458006|0.34021565588541997|\n",
            "|   2|288|119|       0.23|0.002444937541091...|0.006686679282833129|0.018807587140882067| 0.03686287079612885|0.26686287079612886|0.19313712920387116|\n",
            "|   3|169| 47|       0.17|0.002279561548161...| 0.00896624083099493|0.016097340153446268| 0.03155078670075468|0.20155078670075469|0.13844921329924534|\n",
            "|   4|122| 17|       0.15|0.001327088212334114|0.010293329043329044|  0.0152184067324705|0.029828077195642178|0.17982807719564217|0.12017192280435782|\n",
            "|   5|105| 17|       0.12| 0.00183982683982684|0.012133155883155883|0.013218072655173474| 0.02590742240414001|   0.14590742240414|0.09409257759585998|\n",
            "|   6| 88| 10|       0.11|0.001456876456876457|0.013590032340032341|0.012823392348142176|0.025133849002358665|0.13513384900235867|0.08486615099764133|\n",
            "|   7| 78| 18|       0.08|0.003846153846153...|0.017436186186186187|0.010563692138243692|0.020704836590957638|0.10070483659095764|0.05929516340904237|\n",
            "+----+---+---+-----------+--------------------+--------------------+--------------------+--------------------+-------------------+-------------------+\n",
            "\n"
          ]
        }
      ]
    },
    {
      "cell_type": "code",
      "source": [
        "Kaplan_SE_pd = Kaplan_SE.toPandas()\n",
        "def create_stepwise_data(x, y):\n",
        "    x_steps = np.repeat(x, 2)[1:]\n",
        "    y_steps = np.repeat(y, 2)[:-1]\n",
        "    return x_steps, y_steps\n",
        "x_steps, y_steps = create_stepwise_data(Kaplan_SE_pd[\"week\"], Kaplan_SE_pd[\"S_t_dynamic\"])\n",
        "_, lower_steps = create_stepwise_data(Kaplan_SE_pd[\"week\"], Kaplan_SE_pd[\"confidence_lower\"])\n",
        "_, upper_steps = create_stepwise_data(Kaplan_SE_pd[\"week\"], Kaplan_SE_pd[\"confidence_upper\"])"
      ],
      "metadata": {
        "id": "OEKJcFZ1k6Qr"
      },
      "execution_count": 198,
      "outputs": []
    },
    {
      "cell_type": "code",
      "source": [
        "plt.figure(figsize=(10, 6))\n",
        "\n",
        "plt.plot(Kaplan_SE_pd[\"week\"], Kaplan_SE_pd[\"S_t_dynamic\"], drawstyle='steps-post', label=\"K-M estimate\", color=\"blue\", linewidth=2)\n",
        "plt.fill_between(\n",
        "    x_steps,\n",
        "    lower_steps,\n",
        "    upper_steps,\n",
        "    color=\"blue\",\n",
        "    alpha=0.2,\n",
        "    label=\"0.95 confidence interval\",\n",
        ")\n",
        "\n",
        "# Add labels, title, and legend\n",
        "plt.xlabel(\"Week\", fontsize=12)\n",
        "plt.ylabel(\" probability\", fontsize=12)\n",
        "plt.title(\"Kaplan Meier Curve with confidence intervals\", fontsize=14)\n",
        "plt.legend()"
      ],
      "metadata": {
        "id": "cTymKVZWlX9t",
        "colab": {
          "base_uri": "https://localhost:8080/",
          "height": 586
        },
        "outputId": "37be25df-54b8-4a85-9488-d2621f4ef0c6"
      },
      "execution_count": 199,
      "outputs": [
        {
          "output_type": "execute_result",
          "data": {
            "text/plain": [
              "<matplotlib.legend.Legend at 0x7900050f0640>"
            ]
          },
          "metadata": {},
          "execution_count": 199
        },
        {
          "output_type": "display_data",
          "data": {
            "text/plain": [
              "<Figure size 1000x600 with 1 Axes>"
            ],
            "image/png": "[encoded data removed]"
          },
          "metadata": {}
        }
      ]
    },
    {
      "cell_type": "markdown",
      "source": [
        "# Accelerated Failure Time Model"
      ],
      "metadata": {
        "id": "77jw2AoleYsv"
      }
    },
    {
      "cell_type": "markdown",
      "source": [
        "The Accelerated Failure Time (AFT) model is a survival analysis technique used to predict the time until an event occurs. Unlike proportional hazards models, which focus on the hazard ratio, the AFT model directly models the logarithm of survival time as a linear function of covariates. The model assumes that explanatory variables accelerate or decelerate the survival time multiplicatively.\n"
      ],
      "metadata": {
        "id": "okfiEgFlnixT"
      }
    },
    {
      "cell_type": "code",
      "source": [
        "AFT_data = survival_analysis_data.select(*['episodeUri', 'region', 'time_in_ranking', 'event', 'rank', 'language', 'censored', 'show_total_episodes', 'duration_ms', 'explicit', 'is_playable', 'is_externally_hosted', 'show_media_type'])\n",
        "AFT_data = AFT_data.withColumn(\"explicit\", when(AFT_data[\"explicit\"]==True, 1).otherwise(0))\n",
        "AFT_data = AFT_data.withColumn(\"is_playable\", when(AFT_data[\"is_playable\"]==True, 1).otherwise(0))\n",
        "AFT_data = AFT_data.withColumn(\"is_externally_hosted\", when(AFT_data[\"is_externally_hosted\"]==True, 1).otherwise(0))\n",
        "#for show_media_type for value 'audio' we will use 1\n",
        "AFT_data = AFT_data.withColumn(\"show_media_type\", when(AFT_data[\"show_media_type\"]=='audio', 1).otherwise(0))\n",
        "AFT_data = AFT_data.withColumn(\"language_cleaned\",regexp_replace(AFT_data['language'], \"-.*\", \"\") )\n",
        "#AFT_data.show()"
      ],
      "metadata": {
        "id": "JB8mHfKVyjXP"
      },
      "execution_count": 200,
      "outputs": []
    },
    {
      "cell_type": "code",
      "source": [
        "indexer = StringIndexer(inputCol=\"language_cleaned\", outputCol=\"language_index\")\n",
        "encoder = OneHotEncoder(inputCol=\"language_index\", outputCol=\"language_vec\")\n",
        "pipeline = Pipeline(stages=[indexer, encoder])\n",
        "model = pipeline.fit(AFT_data)\n",
        "encoded_data = model.transform(AFT_data)\n",
        "encoded_data.show()"
      ],
      "metadata": {
        "colab": {
          "base_uri": "https://localhost:8080/"
        },
        "id": "hWTd6N8VNagi",
        "outputId": "d815f4fc-7610-4416-9cdc-40ff195afe79"
      },
      "execution_count": 201,
      "outputs": [
        {
          "output_type": "stream",
          "name": "stdout",
          "text": [
            "+--------------------+------+---------------+-----+----+--------+--------+-------------------+-----------+--------+-----------+--------------------+---------------+----------------+--------------+--------------+\n",
            "|          episodeUri|region|time_in_ranking|event|rank|language|censored|show_total_episodes|duration_ms|explicit|is_playable|is_externally_hosted|show_media_type|language_cleaned|language_index|  language_vec|\n",
            "+--------------------+------+---------------+-----+----+--------+--------+-------------------+-----------+--------+-----------+--------------------+---------------+----------------+--------------+--------------+\n",
            "|001TNHD7zZmbMjtf7...|    jp|              3|    1|  78|   en-US|       0|               1556|     494961|       1|          1|                   0|              1|              en|           0.0|(27,[0],[1.0])|\n",
            "|001ddMpWj8X28okpf...|    jp|              3|    1| 169|      ja|       0|                152|    2363689|       0|          1|                   0|              1|              ja|           7.0|(27,[7],[1.0])|\n",
            "|0020reOQCvPoIzdwL...|    es|              1|    1| 125|   es-ES|       0|                300|    1007438|       0|          1|                   0|              1|              es|           1.0|(27,[1],[1.0])|\n",
            "|002mMMa7ybvlpeVc3...|    br|              5|    1|   4|      pt|       0|               1466|    2021250|       0|          1|                   0|              0|              pt|           4.0|(27,[4],[1.0])|\n",
            "|002xPNqTsNGG4YbPn...|    au|              1|    1| 152|      en|       0|               1775|    1273626|       0|          1|                   0|              1|              en|           0.0|(27,[0],[1.0])|\n",
            "|00355zniSM3xgKCNx...|    ca|              2|    1| 172|   en-US|       0|                240|    3800659|       1|          1|                   0|              1|              en|           0.0|(27,[0],[1.0])|\n",
            "|00355zniSM3xgKCNx...|    us|              2|    1| 121|   en-US|       0|                240|    3800659|       1|          1|                   0|              1|              en|           0.0|(27,[0],[1.0])|\n",
            "|003CHuhB2GAZ3xQ6Z...|    ie|              1|    1| 127|      en|       0|                451|    1349302|       0|          1|                   0|              1|              en|           0.0|(27,[0],[1.0])|\n",
            "|005CRjeFA7sBYq0DV...|    pl|              2|    1| 167|      pl|       0|                  3|    5364250|       0|          1|                   0|              1|              pl|           8.0|(27,[8],[1.0])|\n",
            "|005FLlJhpqoTLzpIj...|    gb|              2|    1|  83|      en|       0|                 27|    6622145|       1|          1|                   0|              1|              en|           0.0|(27,[0],[1.0])|\n",
            "|005FLlJhpqoTLzpIj...|    ie|              2|    1| 101|      en|       0|                 27|    6622145|       1|          1|                   0|              1|              en|           0.0|(27,[0],[1.0])|\n",
            "|006zc8Nq1y0FSm2yL...|    fr|              3|    1|  25|      fr|       0|                 36|    3288046|       0|          1|                   1|              1|              fr|           3.0|(27,[3],[1.0])|\n",
            "|00768f3gPiWPBd1rh...|    nl|              1|    1| 191|      nl|       0|                100|     731271|       0|          1|                   0|              1|              nl|           6.0|(27,[6],[1.0])|\n",
            "|007jD9dpxWyHCHouv...|    ie|              2|    1|  98|      en|       0|                 23|    3507017|       0|          1|                   0|              1|              en|           0.0|(27,[0],[1.0])|\n",
            "|00908RFk6wceOEJ38...|    it|              1|    1|  63|   it-IT|       0|                453|     568868|       0|          1|                   0|              1|              it|           5.0|(27,[5],[1.0])|\n",
            "|009piCdOqqgTYybS7...|    ph|              3|    1|  64|   en-US|       0|                 30|     223020|       0|          1|                   0|              1|              en|           0.0|(27,[0],[1.0])|\n",
            "|009yEKPWpdx9rCpAr...|    de|              2|    1| 118|   de-DE|       0|                100|    1868878|       0|          1|                   0|              1|              de|           2.0|(27,[2],[1.0])|\n",
            "|00AMctyqGNLw712Lx...|    br|              1|    1| 150|      pt|       0|                 50|    1414791|       0|          1|                   0|              1|              pt|           4.0|(27,[4],[1.0])|\n",
            "|00AZxoDFse9UjdNC2...|    jp|              1|    1| 118|      ja|       0|                774|     263183|       0|          1|                   0|              1|              ja|           7.0|(27,[7],[1.0])|\n",
            "|00B1KolV8f2iDtmcj...|    ca|              1|    1|  39|   en-CA|       0|                  7|     638902|       0|          1|                   0|              1|              en|           0.0|(27,[0],[1.0])|\n",
            "+--------------------+------+---------------+-----+----+--------+--------+-------------------+-----------+--------+-----------+--------------------+---------------+----------------+--------------+--------------+\n",
            "only showing top 20 rows\n",
            "\n"
          ]
        }
      ]
    },
    {
      "cell_type": "code",
      "source": [
        "data = encoded_data"
      ],
      "metadata": {
        "id": "gKbd5g-FOozQ"
      },
      "execution_count": 202,
      "outputs": []
    },
    {
      "cell_type": "code",
      "source": [
        "indexer = StringIndexer(inputCol=\"region\", outputCol=\"region_index\")\n",
        "encoder = OneHotEncoder(inputCol=\"region_index\", outputCol=\"region_vec\")\n",
        "pipeline = Pipeline(stages=[indexer, encoder])\n",
        "model = pipeline.fit(data)\n",
        "encoded_data = model.transform(data)\n",
        "encoded_data.show()"
      ],
      "metadata": {
        "colab": {
          "base_uri": "https://localhost:8080/"
        },
        "id": "LeBvs3ZsOaEZ",
        "outputId": "f7831900-11c1-466a-e5a1-feb010a36dcb"
      },
      "execution_count": 203,
      "outputs": [
        {
          "output_type": "stream",
          "name": "stdout",
          "text": [
            "+--------------------+------+---------------+-----+----+--------+--------+-------------------+-----------+--------+-----------+--------------------+---------------+----------------+--------------+--------------+------------+---------------+\n",
            "|          episodeUri|region|time_in_ranking|event|rank|language|censored|show_total_episodes|duration_ms|explicit|is_playable|is_externally_hosted|show_media_type|language_cleaned|language_index|  language_vec|region_index|     region_vec|\n",
            "+--------------------+------+---------------+-----+----+--------+--------+-------------------+-----------+--------+-----------+--------------------+---------------+----------------+--------------+--------------+------------+---------------+\n",
            "|001TNHD7zZmbMjtf7...|    jp|              3|    1|  78|   en-US|       0|               1556|     494961|       1|          1|                   0|              1|              en|           0.0|(27,[0],[1.0])|        13.0|(21,[13],[1.0])|\n",
            "|001ddMpWj8X28okpf...|    jp|              3|    1| 169|      ja|       0|                152|    2363689|       0|          1|                   0|              1|              ja|           7.0|(27,[7],[1.0])|        13.0|(21,[13],[1.0])|\n",
            "|0020reOQCvPoIzdwL...|    es|              1|    1| 125|   es-ES|       0|                300|    1007438|       0|          1|                   0|              1|              es|           1.0|(27,[1],[1.0])|         5.0| (21,[5],[1.0])|\n",
            "|002mMMa7ybvlpeVc3...|    br|              5|    1|   4|      pt|       0|               1466|    2021250|       0|          1|                   0|              0|              pt|           4.0|(27,[4],[1.0])|         7.0| (21,[7],[1.0])|\n",
            "|002xPNqTsNGG4YbPn...|    au|              1|    1| 152|      en|       0|               1775|    1273626|       0|          1|                   0|              1|              en|           0.0|(27,[0],[1.0])|         4.0| (21,[4],[1.0])|\n",
            "|00355zniSM3xgKCNx...|    ca|              2|    1| 172|   en-US|       0|                240|    3800659|       1|          1|                   0|              1|              en|           0.0|(27,[0],[1.0])|         3.0| (21,[3],[1.0])|\n",
            "|00355zniSM3xgKCNx...|    us|              2|    1| 121|   en-US|       0|                240|    3800659|       1|          1|                   0|              1|              en|           0.0|(27,[0],[1.0])|         0.0| (21,[0],[1.0])|\n",
            "|003CHuhB2GAZ3xQ6Z...|    ie|              1|    1| 127|      en|       0|                451|    1349302|       0|          1|                   0|              1|              en|           0.0|(27,[0],[1.0])|         9.0| (21,[9],[1.0])|\n",
            "|005CRjeFA7sBYq0DV...|    pl|              2|    1| 167|      pl|       0|                  3|    5364250|       0|          1|                   0|              1|              pl|           8.0|(27,[8],[1.0])|        18.0|(21,[18],[1.0])|\n",
            "|005FLlJhpqoTLzpIj...|    gb|              2|    1|  83|      en|       0|                 27|    6622145|       1|          1|                   0|              1|              en|           0.0|(27,[0],[1.0])|         6.0| (21,[6],[1.0])|\n",
            "|005FLlJhpqoTLzpIj...|    ie|              2|    1| 101|      en|       0|                 27|    6622145|       1|          1|                   0|              1|              en|           0.0|(27,[0],[1.0])|         9.0| (21,[9],[1.0])|\n",
            "|006zc8Nq1y0FSm2yL...|    fr|              3|    1|  25|      fr|       0|                 36|    3288046|       0|          1|                   1|              1|              fr|           3.0|(27,[3],[1.0])|         1.0| (21,[1],[1.0])|\n",
            "|00768f3gPiWPBd1rh...|    nl|              1|    1| 191|      nl|       0|                100|     731271|       0|          1|                   0|              1|              nl|           6.0|(27,[6],[1.0])|        11.0|(21,[11],[1.0])|\n",
            "|007jD9dpxWyHCHouv...|    ie|              2|    1|  98|      en|       0|                 23|    3507017|       0|          1|                   0|              1|              en|           0.0|(27,[0],[1.0])|         9.0| (21,[9],[1.0])|\n",
            "|00908RFk6wceOEJ38...|    it|              1|    1|  63|   it-IT|       0|                453|     568868|       0|          1|                   0|              1|              it|           5.0|(27,[5],[1.0])|         8.0| (21,[8],[1.0])|\n",
            "|009piCdOqqgTYybS7...|    ph|              3|    1|  64|   en-US|       0|                 30|     223020|       0|          1|                   0|              1|              en|           0.0|(27,[0],[1.0])|        19.0|(21,[19],[1.0])|\n",
            "|009yEKPWpdx9rCpAr...|    de|              2|    1| 118|   de-DE|       0|                100|    1868878|       0|          1|                   0|              1|              de|           2.0|(27,[2],[1.0])|        10.0|(21,[10],[1.0])|\n",
            "|00AMctyqGNLw712Lx...|    br|              1|    1| 150|      pt|       0|                 50|    1414791|       0|          1|                   0|              1|              pt|           4.0|(27,[4],[1.0])|         7.0| (21,[7],[1.0])|\n",
            "|00AZxoDFse9UjdNC2...|    jp|              1|    1| 118|      ja|       0|                774|     263183|       0|          1|                   0|              1|              ja|           7.0|(27,[7],[1.0])|        13.0|(21,[13],[1.0])|\n",
            "|00B1KolV8f2iDtmcj...|    ca|              1|    1|  39|   en-CA|       0|                  7|     638902|       0|          1|                   0|              1|              en|           0.0|(27,[0],[1.0])|         3.0| (21,[3],[1.0])|\n",
            "+--------------------+------+---------------+-----+----+--------+--------+-------------------+-----------+--------+-----------+--------------------+---------------+----------------+--------------+--------------+------------+---------------+\n",
            "only showing top 20 rows\n",
            "\n"
          ]
        }
      ]
    },
    {
      "cell_type": "code",
      "source": [
        "AFT_features = encoded_data.select(*['time_in_ranking', 'event', 'rank', 'show_total_episodes', 'duration_ms', 'explicit','is_playable', 'is_externally_hosted', 'show_media_type', 'language_vec', 'region_vec'])\n",
        "AFT_features.show()\n",
        "columns = AFT_features.columns\n",
        "del columns[0]\n",
        "del columns[0]\n",
        "assembler = VectorAssembler(inputCols=columns, outputCol=\"assembledfeatures\")\n",
        "AFT_features = assembler.transform(AFT_features)\n",
        "AFT_model_data = AFT_features.select(*['time_in_ranking', 'event', 'assembledfeatures'])\n",
        "AFT_model_data.show()"
      ],
      "metadata": {
        "id": "giJN0TA_PCKO",
        "colab": {
          "base_uri": "https://localhost:8080/"
        },
        "outputId": "2ae829a0-6287-48d1-8f69-f4f5f5191e9a"
      },
      "execution_count": 204,
      "outputs": [
        {
          "output_type": "stream",
          "name": "stdout",
          "text": [
            "+---------------+-----+----+-------------------+-----------+--------+-----------+--------------------+---------------+--------------+---------------+\n",
            "|time_in_ranking|event|rank|show_total_episodes|duration_ms|explicit|is_playable|is_externally_hosted|show_media_type|  language_vec|     region_vec|\n",
            "+---------------+-----+----+-------------------+-----------+--------+-----------+--------------------+---------------+--------------+---------------+\n",
            "|              3|    1|  78|               1556|     494961|       1|          1|                   0|              1|(27,[0],[1.0])|(21,[13],[1.0])|\n",
            "|              3|    1| 169|                152|    2363689|       0|          1|                   0|              1|(27,[7],[1.0])|(21,[13],[1.0])|\n",
            "|              1|    1| 125|                300|    1007438|       0|          1|                   0|              1|(27,[1],[1.0])| (21,[5],[1.0])|\n",
            "|              5|    1|   4|               1466|    2021250|       0|          1|                   0|              0|(27,[4],[1.0])| (21,[7],[1.0])|\n",
            "|              1|    1| 152|               1775|    1273626|       0|          1|                   0|              1|(27,[0],[1.0])| (21,[4],[1.0])|\n",
            "|              2|    1| 172|                240|    3800659|       1|          1|                   0|              1|(27,[0],[1.0])| (21,[3],[1.0])|\n",
            "|              2|    1| 121|                240|    3800659|       1|          1|                   0|              1|(27,[0],[1.0])| (21,[0],[1.0])|\n",
            "|              1|    1| 127|                451|    1349302|       0|          1|                   0|              1|(27,[0],[1.0])| (21,[9],[1.0])|\n",
            "|              2|    1| 167|                  3|    5364250|       0|          1|                   0|              1|(27,[8],[1.0])|(21,[18],[1.0])|\n",
            "|              2|    1|  83|                 27|    6622145|       1|          1|                   0|              1|(27,[0],[1.0])| (21,[6],[1.0])|\n",
            "|              2|    1| 101|                 27|    6622145|       1|          1|                   0|              1|(27,[0],[1.0])| (21,[9],[1.0])|\n",
            "|              3|    1|  25|                 36|    3288046|       0|          1|                   1|              1|(27,[3],[1.0])| (21,[1],[1.0])|\n",
            "|              1|    1| 191|                100|     731271|       0|          1|                   0|              1|(27,[6],[1.0])|(21,[11],[1.0])|\n",
            "|              2|    1|  98|                 23|    3507017|       0|          1|                   0|              1|(27,[0],[1.0])| (21,[9],[1.0])|\n",
            "|              1|    1|  63|                453|     568868|       0|          1|                   0|              1|(27,[5],[1.0])| (21,[8],[1.0])|\n",
            "|              3|    1|  64|                 30|     223020|       0|          1|                   0|              1|(27,[0],[1.0])|(21,[19],[1.0])|\n",
            "|              2|    1| 118|                100|    1868878|       0|          1|                   0|              1|(27,[2],[1.0])|(21,[10],[1.0])|\n",
            "|              1|    1| 150|                 50|    1414791|       0|          1|                   0|              1|(27,[4],[1.0])| (21,[7],[1.0])|\n",
            "|              1|    1| 118|                774|     263183|       0|          1|                   0|              1|(27,[7],[1.0])|(21,[13],[1.0])|\n",
            "|              1|    1|  39|                  7|     638902|       0|          1|                   0|              1|(27,[0],[1.0])| (21,[3],[1.0])|\n",
            "+---------------+-----+----+-------------------+-----------+--------+-----------+--------------------+---------------+--------------+---------------+\n",
            "only showing top 20 rows\n",
            "\n",
            "+---------------+-----+--------------------+\n",
            "|time_in_ranking|event|   assembledfeatures|\n",
            "+---------------+-----+--------------------+\n",
            "|              3|    1|(55,[0,1,2,3,4,6,...|\n",
            "|              3|    1|(55,[0,1,2,4,6,14...|\n",
            "|              1|    1|(55,[0,1,2,4,6,8,...|\n",
            "|              5|    1|(55,[0,1,2,4,11,4...|\n",
            "|              1|    1|(55,[0,1,2,4,6,7,...|\n",
            "|              2|    1|(55,[0,1,2,3,4,6,...|\n",
            "|              2|    1|(55,[0,1,2,3,4,6,...|\n",
            "|              1|    1|(55,[0,1,2,4,6,7,...|\n",
            "|              2|    1|(55,[0,1,2,4,6,15...|\n",
            "|              2|    1|(55,[0,1,2,3,4,6,...|\n",
            "|              2|    1|(55,[0,1,2,3,4,6,...|\n",
            "|              3|    1|(55,[0,1,2,4,5,6,...|\n",
            "|              1|    1|(55,[0,1,2,4,6,13...|\n",
            "|              2|    1|(55,[0,1,2,4,6,7,...|\n",
            "|              1|    1|(55,[0,1,2,4,6,12...|\n",
            "|              3|    1|(55,[0,1,2,4,6,7,...|\n",
            "|              2|    1|(55,[0,1,2,4,6,9,...|\n",
            "|              1|    1|(55,[0,1,2,4,6,11...|\n",
            "|              1|    1|(55,[0,1,2,4,6,14...|\n",
            "|              1|    1|(55,[0,1,2,4,6,7,...|\n",
            "+---------------+-----+--------------------+\n",
            "only showing top 20 rows\n",
            "\n"
          ]
        }
      ]
    },
    {
      "cell_type": "code",
      "source": [
        "aft = AFTSurvivalRegression(\n",
        "    quantileProbabilities=[0.3, 0.6],\n",
        "    quantilesCol=\"quantiles\",\n",
        "    featuresCol = 'assembledfeatures',\n",
        "    labelCol='time_in_ranking',\n",
        "    censorCol='event'\n",
        ")\n",
        "model = aft.fit(AFT_model_data)\n",
        "predictions = model.transform(AFT_model_data)\n",
        "predictions.show()\n"
      ],
      "metadata": {
        "colab": {
          "base_uri": "https://localhost:8080/"
        },
        "id": "WtqU1uASZ1yj",
        "outputId": "7c2b93de-e409-4836-f8df-0e2ef45287e2"
      },
      "execution_count": 205,
      "outputs": [
        {
          "output_type": "stream",
          "name": "stdout",
          "text": [
            "+---------------+-----+--------------------+------------------+--------------------+\n",
            "|time_in_ranking|event|   assembledfeatures|        prediction|           quantiles|\n",
            "+---------------+-----+--------------------+------------------+--------------------+\n",
            "|              3|    1|(55,[0,1,2,3,4,6,...|3.1590108904162024|[1.30526908072493...|\n",
            "|              3|    1|(55,[0,1,2,4,6,14...| 3.670463355434935|[1.51659569908982...|\n",
            "|              1|    1|(55,[0,1,2,4,6,8,...|2.7047366421211816|[1.11756788214156...|\n",
            "|              5|    1|(55,[0,1,2,4,11,4...| 4.688388284883485|[1.93719125352086...|\n",
            "|              1|    1|(55,[0,1,2,4,6,7,...|1.5407780271238523|[0.63663279071512...|\n",
            "|              2|    1|(55,[0,1,2,3,4,6,...|2.5462344805661163|[1.05207650592201...|\n",
            "|              2|    1|(55,[0,1,2,3,4,6,...|3.1838120069619134|[1.31551663342973...|\n",
            "|              1|    1|(55,[0,1,2,4,6,7,...| 2.606641348439227|[1.07703596938490...|\n",
            "|              2|    1|(55,[0,1,2,4,6,15...| 5.414355876900505|[2.23715319868001...|\n",
            "|              2|    1|(55,[0,1,2,3,4,6,...| 5.505037182318833|[2.27462173179631...|\n",
            "|              2|    1|(55,[0,1,2,3,4,6,...| 5.114789209552108|[2.11337549671262...|\n",
            "|              3|    1|(55,[0,1,2,4,5,6,...|  3.36775820775668|[1.39152121104694...|\n",
            "|              1|    1|(55,[0,1,2,4,6,13...|2.1529705371855035|[0.88958410445041...|\n",
            "|              2|    1|(55,[0,1,2,4,6,7,...| 3.974339460991162|[1.64215401424378...|\n",
            "|              1|    1|(55,[0,1,2,4,6,12...|3.8882007211052456|[1.60656241999926...|\n",
            "|              3|    1|(55,[0,1,2,4,6,7,...| 7.195733308586298|[2.97319905712728...|\n",
            "|              2|    1|(55,[0,1,2,4,6,9,...|3.2361701254823036|[1.33715044084614...|\n",
            "|              1|    1|(55,[0,1,2,4,6,11...|3.0025939643688555|[1.24063930122938...|\n",
            "|              1|    1|(55,[0,1,2,4,6,14...| 3.464621599545357|[1.43154411528556...|\n",
            "|              1|    1|(55,[0,1,2,4,6,7,...| 4.167209781768994|[1.72184594156969...|\n",
            "+---------------+-----+--------------------+------------------+--------------------+\n",
            "only showing top 20 rows\n",
            "\n"
          ]
        }
      ]
    },
    {
      "cell_type": "code",
      "source": [
        "print(\"Coefficients: \" + str(model.coefficients))\n",
        "print(len(model.coefficients))\n",
        "print(\"Intercept: \" + str(model.intercept))\n",
        "print(\"Scale: \" + str(model.scale))"
      ],
      "metadata": {
        "colab": {
          "base_uri": "https://localhost:8080/"
        },
        "id": "IS5_u0UKbXaS",
        "outputId": "1c471a52-6472-4566-d74d-10a520e30df6"
      },
      "execution_count": 206,
      "outputs": [
        {
          "output_type": "stream",
          "name": "stdout",
          "text": [
            "Coefficients: [-0.005227821454609564,-0.00029855636459705215,6.599901366224987e-08,0.06355994172882197,0.41792170367366943,-0.5431662485134019,-0.06508048832938754,-2.0847518014317914,-2.042060896759582,-1.9477650896916063,-2.1008273071511177,-1.9755016039497104,-1.9980830595908081,-2.244651086243929,-1.937908508286089,-1.5229944695898283,-1.574681125032227,-1.0103894896793792,-1.8879284944436157,-2.3471172796603996,-1.693887199358385,-1.5754303190699153,-2.0552593314217837,-2.3344846284296414,-0.6502138199100389,0.19558570149712595,-2.706711608571536,0.20630594019470333,-3.0966090702548037,-2.298849301717377,-2.1033474695670087,-0.09330360785795662,-3.476553643954968,-2.9205412162269795,-0.8605039585395109,-0.7104785886503951,-0.7565952775819587,-0.817348694029309,-0.7356075685019916,-0.7795350981481485,-0.7613846713019379,-0.7124508199945194,-0.7100715911324452,-0.740811221251467,-0.8476050959623351,-0.5015492301235016,-0.8289562718691271,-0.4820475517729527,-0.4916063626013879,-0.3248655011973107,-0.39896166326723953,-0.21668015257623938,-0.7612001853773209,-0.1060969999107417,-0.26748319765326395]\n",
            "55\n",
            "Intercept: 4.140314004342123\n",
            "Scale: 0.8573321042475749\n"
          ]
        }
      ]
    },
    {
      "cell_type": "code",
      "source": [
        "evaluator = RegressionEvaluator(\n",
        "    labelCol=\"time_in_ranking\",\n",
        "    predictionCol=\"prediction\",\n",
        "    metricName=\"rmse\"\n",
        ")\n",
        "\n",
        "rmse = evaluator.evaluate(predictions)"
      ],
      "metadata": {
        "id": "NFi7t3s3J3q6"
      },
      "execution_count": 207,
      "outputs": []
    },
    {
      "cell_type": "code",
      "source": [
        "print(rmse)"
      ],
      "metadata": {
        "colab": {
          "base_uri": "https://localhost:8080/"
        },
        "id": "VVqniB7cKFqB",
        "outputId": "8bd28c01-97f4-4e01-fbe6-a69e26145c55"
      },
      "execution_count": 208,
      "outputs": [
        {
          "output_type": "stream",
          "name": "stdout",
          "text": [
            "5.40418149629434\n"
          ]
        }
      ]
    },
    {
      "cell_type": "code",
      "source": [
        "predictions_pd = predictions.select(\"prediction\").toPandas()\n",
        "plt.hist(predictions_pd[\"prediction\"], bins=200, alpha=0.7, color=\"blue\")\n",
        "plt.title(\"Predicted Survival Time in days\")\n",
        "plt.xlabel(\"Survival Time in days\")\n",
        "plt.ylabel(\"Frequency\")\n",
        "plt.xlim(0, 30)\n",
        "plt.show()"
      ],
      "metadata": {
        "colab": {
          "base_uri": "https://localhost:8080/",
          "height": 472
        },
        "id": "mWStT9DGdqu8",
        "outputId": "44a3046f-b683-4502-c1bf-f38fbf17a6fc"
      },
      "execution_count": 209,
      "outputs": [
        {
          "output_type": "display_data",
          "data": {
            "text/plain": [
              "<Figure size 640x480 with 1 Axes>"
            ],
            "image/png": "[encoded data removed]"
          },
          "metadata": {}
        }
      ]
    }
  ]
}