{
 "cells": [
  {
   "cell_type": "markdown",
   "id": "2241b90f-6f26-402d-92c5-550416b22817",
   "metadata": {},
   "source": [
    "### Setting up"
   ]
  },
  {
   "cell_type": "code",
   "execution_count": 2,
   "id": "11733e6c-1de4-4f2d-b4a7-e2359665a1ac",
   "metadata": {},
   "outputs": [
    {
     "name": "stderr",
     "output_type": "stream",
     "text": [
      "24/12/07 16:30:12 WARN Utils: Your hostname, Elif-MacBook-Air.local resolves to a loopback address: 127.0.0.1; using 192.168.43.117 instead (on interface en0)\n",
      "24/12/07 16:30:12 WARN Utils: Set SPARK_LOCAL_IP if you need to bind to another address\n",
      "Setting default log level to \"WARN\".\n",
      "To adjust logging level use sc.setLogLevel(newLevel). For SparkR, use setLogLevel(newLevel).\n",
      "24/12/07 16:30:13 WARN NativeCodeLoader: Unable to load native-hadoop library for your platform... using builtin-java classes where applicable\n",
      "24/12/07 16:30:14 WARN Utils: Service 'SparkUI' could not bind on port 4040. Attempting port 4041.\n",
      "24/12/07 16:30:14 WARN Utils: Service 'SparkUI' could not bind on port 4041. Attempting port 4042.\n",
      "24/12/07 16:30:14 WARN Utils: Service 'SparkUI' could not bind on port 4042. Attempting port 4043.\n",
      "24/12/07 16:30:14 WARN Utils: Service 'SparkUI' could not bind on port 4043. Attempting port 4044.\n"
     ]
    }
   ],
   "source": [
    "from pyspark.sql import SparkSession\n",
    "\n",
    "\n",
    "spark = SparkSession.builder \\\n",
    "    .appName(\"Spotify\") \\\n",
    "    .config(\"spark.driver.memory\", \"4g\") \\\n",
    "    .config(\"spark.executor.memory\", \"8g\") \\\n",
    "    .config(\"spark.executor.cores\", \"4\") \\\n",
    "    .config(\"spark.memory.fraction\", \"0.8\") \\\n",
    "    .config(\"spark.memory.storageFraction\", \"0.2\") \\\n",
    "    .getOrCreate()"
   ]
  },
  {
   "cell_type": "code",
   "execution_count": null,
   "id": "a19ce932-24a7-4ae9-8e80-1586987cb18d",
   "metadata": {},
   "outputs": [],
   "source": []
  },
  {
   "cell_type": "code",
   "execution_count": null,
   "id": "e1aa97d5-4ede-4bff-bd66-b326dd3c5395",
   "metadata": {},
   "outputs": [],
   "source": []
  },
  {
   "cell_type": "code",
   "execution_count": null,
   "id": "7df5493d-35b9-447d-87de-1b6b708eb7a7",
   "metadata": {},
   "outputs": [],
   "source": []
  },
  {
   "cell_type": "code",
   "execution_count": 3,
   "id": "5421dc41-d6c4-4d59-8a75-95c886d98371",
   "metadata": {},
   "outputs": [
    {
     "name": "stderr",
     "output_type": "stream",
     "text": [
      "                                                                                \r"
     ]
    }
   ],
   "source": [
    "df= spark.read.format(\"csv\").load(\"top_podcasts.csv\", header=True, inferSchema=True, quote='\"', escape = '\"')"
   ]
  },
  {
   "cell_type": "code",
   "execution_count": 4,
   "id": "65699b84-6f2b-4bfa-b789-64c71f1b435b",
   "metadata": {},
   "outputs": [
    {
     "name": "stdout",
     "output_type": "stream",
     "text": [
      "root\n",
      " |-- date: date (nullable = true)\n",
      " |-- rank: integer (nullable = true)\n",
      " |-- region: string (nullable = true)\n",
      " |-- chartRankMove: string (nullable = true)\n",
      " |-- episodeUri: string (nullable = true)\n",
      " |-- showUri: string (nullable = true)\n",
      " |-- episodeName: string (nullable = true)\n",
      " |-- description: string (nullable = true)\n",
      " |-- show.name: string (nullable = true)\n",
      " |-- show.description: string (nullable = true)\n",
      " |-- show.publisher: string (nullable = true)\n",
      " |-- duration_ms: integer (nullable = true)\n",
      " |-- explicit: boolean (nullable = true)\n",
      " |-- is_externally_hosted: boolean (nullable = true)\n",
      " |-- is_playable: boolean (nullable = true)\n",
      " |-- language: string (nullable = true)\n",
      " |-- languages: string (nullable = true)\n",
      " |-- release_date: date (nullable = true)\n",
      " |-- release_date_precision: string (nullable = true)\n",
      " |-- show.copyrights: string (nullable = true)\n",
      " |-- show.explicit: boolean (nullable = true)\n",
      " |-- show.href: string (nullable = true)\n",
      " |-- show.html_description: string (nullable = true)\n",
      " |-- show.is_externally_hosted: boolean (nullable = true)\n",
      " |-- show.languages: string (nullable = true)\n",
      " |-- show.media_type: string (nullable = true)\n",
      " |-- show.total_episodes: integer (nullable = true)\n",
      " |-- show.type: string (nullable = true)\n",
      " |-- show.uri: string (nullable = true)\n",
      "\n"
     ]
    }
   ],
   "source": [
    "df.printSchema()\n"
   ]
  },
  {
   "cell_type": "code",
   "execution_count": 5,
   "id": "606d79b3-3cc4-44da-a559-0c352b79e8cd",
   "metadata": {},
   "outputs": [
    {
     "name": "stdout",
     "output_type": "stream",
     "text": [
      "+----------+----+------+--------------------+-----------+\n",
      "|      date|rank|region|         episodeName|duration_ms|\n",
      "+----------+----+------+--------------------+-----------+\n",
      "|2024-09-02|   1|    us|  #2197 - Mike Baker|    9872105|\n",
      "|2024-09-02|   2|    us|#2195 - Andrew Hu...|   11250345|\n",
      "|2024-09-02|   3|    us|#2196 - Greg Fitz...|   10840020|\n",
      "|2024-09-02|   4|    us|The Worst Creatur...|    1073386|\n",
      "|2024-09-02|   5|    us|Jeffrey Sachs: Tr...|    8896992|\n",
      "|2024-09-02|   6|    us|The Most Unhinged...|    1096596|\n",
      "|2024-09-02|   7|    us|CFB Mega Preview ...|   10452192|\n",
      "|2024-09-02|   8|    us|407 - The Mushroo...|    4145606|\n",
      "|2024-09-02|   9|    us|Copying BRATS on ...|     556308|\n",
      "|2024-09-02|  10|    us|The Trad Wife Par...|    3408533|\n",
      "|2024-09-02|  11|    us|Armchair Anonymou...|    2983706|\n",
      "|2024-09-02|  12|    us|Reddit Soup For T...|    3761789|\n",
      "|2024-09-02|  13|    us|The Only Way Germ...|    1256853|\n",
      "|2024-09-02|  14|    us|For Kamala Harris...|    1156231|\n",
      "|2024-09-02|  15|    us|In conversation w...|    7903765|\n",
      "|2024-09-02|  16|    us|Harris and Walz M...|    3100029|\n",
      "|2024-09-02|  17|    us|  Session 41: Snooki|    4937685|\n",
      "|2024-09-02|  18|    us|Can this extremel...|     697450|\n",
      "|2024-09-02|  19|    us|The Fantasy MVP E...|    3661035|\n",
      "|2024-09-02|  20|    us|Ep. 2038 - Kamala...|    4450794|\n",
      "+----------+----+------+--------------------+-----------+\n",
      "only showing top 20 rows\n",
      "\n"
     ]
    }
   ],
   "source": [
    "df.select(\"date\", \"rank\", \"region\", \"episodeName\", \"duration_ms\").show(truncate=True)\n"
   ]
  },
  {
   "cell_type": "markdown",
   "id": "3e55a88d-7226-44ac-9e57-d5035a05d3cb",
   "metadata": {},
   "source": [
    "#### Problem with dots\n",
    "The error arises because PySpark treats column names containing dots (.) as nested structures, which need to be accessed differently. \n",
    "In your dataset, show.name is not treated as a simple column name;\n",
    "instead, it’s considered a field in a structure or a column with a literal dot in its name."
   ]
  },
  {
   "cell_type": "code",
   "execution_count": 7,
   "id": "77c9eef9-b382-423a-8a4d-647f5bbbce33",
   "metadata": {},
   "outputs": [
    {
     "name": "stdout",
     "output_type": "stream",
     "text": [
      "root\n",
      " |-- date: date (nullable = true)\n",
      " |-- rank: integer (nullable = true)\n",
      " |-- region: string (nullable = true)\n",
      " |-- chartRankMove: string (nullable = true)\n",
      " |-- episodeUri: string (nullable = true)\n",
      " |-- showUri: string (nullable = true)\n",
      " |-- episodeName: string (nullable = true)\n",
      " |-- description: string (nullable = true)\n",
      " |-- show_name: string (nullable = true)\n",
      " |-- show_description: string (nullable = true)\n",
      " |-- show_publisher: string (nullable = true)\n",
      " |-- duration_ms: integer (nullable = true)\n",
      " |-- explicit: boolean (nullable = true)\n",
      " |-- is_externally_hosted: boolean (nullable = true)\n",
      " |-- is_playable: boolean (nullable = true)\n",
      " |-- language: string (nullable = true)\n",
      " |-- languages: string (nullable = true)\n",
      " |-- release_date: date (nullable = true)\n",
      " |-- release_date_precision: string (nullable = true)\n",
      " |-- show_copyrights: string (nullable = true)\n",
      " |-- show_explicit: boolean (nullable = true)\n",
      " |-- show_href: string (nullable = true)\n",
      " |-- show_html_description: string (nullable = true)\n",
      " |-- show_is_externally_hosted: boolean (nullable = true)\n",
      " |-- show_languages: string (nullable = true)\n",
      " |-- show_media_type: string (nullable = true)\n",
      " |-- show_total_episodes: integer (nullable = true)\n",
      " |-- show_type: string (nullable = true)\n",
      " |-- show_uri: string (nullable = true)\n",
      "\n"
     ]
    }
   ],
   "source": [
    "from pyspark.sql.functions import col\n",
    "\n",
    "# replacing column names\n",
    "renamed_columns = {col_name: col_name.replace(\".\", \"_\") for col_name in df.columns}\n",
    "for old_name, new_name in renamed_columns.items():\n",
    "    df = df.withColumnRenamed(old_name, new_name)\n",
    "\n",
    "df.printSchema()\n",
    "\n",
    "\n"
   ]
  },
  {
   "cell_type": "code",
   "execution_count": null,
   "id": "eeebf3f8-b966-41d4-96ca-bc92c541c6bb",
   "metadata": {},
   "outputs": [],
   "source": []
  },
  {
   "cell_type": "code",
   "execution_count": 8,
   "id": "623ecf8e-fc94-4029-a6e4-990f9368188e",
   "metadata": {},
   "outputs": [
    {
     "name": "stderr",
     "output_type": "stream",
     "text": [
      "24/12/07 16:30:29 WARN SparkStringUtils: Truncated the string representation of a plan since it was too large. This behavior can be adjusted by setting 'spark.sql.debug.maxToStringFields'.\n",
      "[Stage 3:>                                                          (0 + 8) / 8]\r"
     ]
    },
    {
     "name": "stdout",
     "output_type": "stream",
     "text": [
      "                       Column  Null_Count\n",
      "0                        date           0\n",
      "1                        rank           0\n",
      "2                      region           0\n",
      "3               chartRankMove           0\n",
      "4                  episodeUri           0\n",
      "5                     showUri           0\n",
      "6                 episodeName           0\n",
      "7                 description        2621\n",
      "8                   show_name           0\n",
      "9            show_description           0\n",
      "10             show_publisher           0\n",
      "11                duration_ms           0\n",
      "12                   explicit           0\n",
      "13       is_externally_hosted           0\n",
      "14                is_playable           0\n",
      "15                   language           0\n",
      "16                  languages           0\n",
      "17               release_date           0\n",
      "18     release_date_precision           0\n",
      "19            show_copyrights           0\n",
      "20              show_explicit           0\n",
      "21                  show_href           0\n",
      "22      show_html_description          28\n",
      "23  show_is_externally_hosted           0\n",
      "24             show_languages           0\n",
      "25            show_media_type           0\n",
      "26        show_total_episodes           0\n",
      "27                  show_type           0\n",
      "28                   show_uri           0\n"
     ]
    },
    {
     "name": "stderr",
     "output_type": "stream",
     "text": [
      "                                                                                \r"
     ]
    }
   ],
   "source": [
    "# nulls check\n",
    "# not expected since api but still\n",
    "\n",
    "from pyspark.sql.functions import col, isnan, when, count\n",
    "from pyspark.sql.types import DoubleType, FloatType\n",
    "import pandas as pd\n",
    "\n",
    "# numeric vs non\n",
    "numeric_columns = [field.name for field in df.schema.fields if isinstance(field.dataType, (DoubleType, FloatType))]\n",
    "non_numeric_columns = [field.name for field in df.schema.fields if field.name not in numeric_columns]\n",
    "\n",
    "# nan in numeric\n",
    "numeric_nulls = [\n",
    "    count(when(col(c).isNull() | isnan(col(c)), c)).alias(c) for c in numeric_columns\n",
    "]\n",
    "\n",
    "# nan in non numeric\n",
    "non_numeric_nulls = [\n",
    "    count(when(col(c).isNull(), c)).alias(c) for c in non_numeric_columns\n",
    "]\n",
    "\n",
    "null_counts_df = df.select(numeric_nulls + non_numeric_nulls)\n",
    "null_counts = null_counts_df.toPandas().transpose().reset_index()\n",
    "null_counts.columns = [\"Column\", \"Null_Count\"]\n",
    "\n",
    "print(null_counts)\n",
    "\n",
    "#nulls only in description and show_html_desc which is unrelated to my analysis so no action needed"
   ]
  },
  {
   "cell_type": "code",
   "execution_count": null,
   "id": "309f1482-211c-4051-b8dd-25ed6c1b5774",
   "metadata": {},
   "outputs": [],
   "source": []
  },
  {
   "cell_type": "markdown",
   "id": "15591838-3b34-4255-82ce-b78a692c5c00",
   "metadata": {},
   "source": [
    "### Data Prep"
   ]
  },
  {
   "cell_type": "raw",
   "id": "73e181eb-ab23-4587-b2d3-884ef7bf1d70",
   "metadata": {},
   "source": [
    "Dropping Unnecessary columns"
   ]
  },
  {
   "cell_type": "code",
   "execution_count": 10,
   "id": "b9239451-3bc3-4259-bff2-f6cf69b11692",
   "metadata": {},
   "outputs": [
    {
     "name": "stdout",
     "output_type": "stream",
     "text": [
      "root\n",
      " |-- date: date (nullable = true)\n",
      " |-- rank: integer (nullable = true)\n",
      " |-- region: string (nullable = true)\n",
      " |-- chartRankMove: string (nullable = true)\n",
      " |-- episodeName: string (nullable = true)\n",
      " |-- show_name: string (nullable = true)\n",
      " |-- show_publisher: string (nullable = true)\n",
      " |-- duration_ms: integer (nullable = true)\n",
      " |-- explicit: boolean (nullable = true)\n",
      " |-- language: string (nullable = true)\n",
      " |-- languages: string (nullable = true)\n",
      " |-- release_date: date (nullable = true)\n",
      " |-- show_explicit: boolean (nullable = true)\n",
      " |-- show_languages: string (nullable = true)\n",
      " |-- show_media_type: string (nullable = true)\n",
      " |-- show_total_episodes: integer (nullable = true)\n",
      "\n"
     ]
    }
   ],
   "source": [
    "\n",
    "columns_to_drop = [\n",
    "    \"episodeUri\", \"showUri\",\"show_uri\", \"description\", \"show_description\",\n",
    "    \"show_html_description\", \"show_href\", \"show_copyrights\",\n",
    "    \"show_is_externally_hosted\",\n",
    "    \"is_externally_hosted\", \"is_playable\", \"release_date_precision\", \n",
    "    \"show_type\"\n",
    "]\n",
    "\n",
    "df = df.drop(*columns_to_drop)\n",
    "\n",
    "\n",
    "df.printSchema()\n"
   ]
  },
  {
   "cell_type": "markdown",
   "id": "dcbabecb-d525-4198-b60f-e6e73638ffd6",
   "metadata": {},
   "source": [
    "#### Handling Languages"
   ]
  },
  {
   "cell_type": "code",
   "execution_count": 12,
   "id": "32bc2024-69d1-44e6-bf7f-1f064dbfcc1f",
   "metadata": {},
   "outputs": [
    {
     "name": "stderr",
     "output_type": "stream",
     "text": [
      "                                                                                \r"
     ]
    }
   ],
   "source": [
    "# correlation check for languages columns\n",
    "from pyspark.ml.feature import StringIndexer\n",
    "\n",
    "indexer_show_languages = StringIndexer(inputCol=\"show_languages\", outputCol=\"show_languages_index\")\n",
    "indexer_language = StringIndexer(inputCol=\"language\", outputCol=\"language_index\")\n",
    "indexer_languages = StringIndexer(inputCol=\"languages\", outputCol=\"languages_index\")\n",
    "\n",
    "df = indexer_show_languages.fit(df).transform(df)\n",
    "df = indexer_language.fit(df).transform(df)\n",
    "df = indexer_languages.fit(df).transform(df)\n"
   ]
  },
  {
   "cell_type": "code",
   "execution_count": 13,
   "id": "e51c454d-cb59-45da-b728-58ee7e894753",
   "metadata": {},
   "outputs": [
    {
     "name": "stderr",
     "output_type": "stream",
     "text": [
      "[Stage 15:>                                                         (0 + 8) / 8]\r"
     ]
    },
    {
     "name": "stdout",
     "output_type": "stream",
     "text": [
      "Correlation between language and languages: 1.0\n"
     ]
    },
    {
     "name": "stderr",
     "output_type": "stream",
     "text": [
      "                                                                                \r"
     ]
    }
   ],
   "source": [
    "correlation = df.stat.corr(\"language_index\", \"languages_index\")\n",
    "print(f\"Correlation between language and languages: {correlation}\")\n"
   ]
  },
  {
   "cell_type": "code",
   "execution_count": 14,
   "id": "63f50b08-0481-4867-b250-f2f1461f7533",
   "metadata": {},
   "outputs": [
    {
     "name": "stderr",
     "output_type": "stream",
     "text": [
      "[Stage 18:>                                                         (0 + 8) / 8]\r"
     ]
    },
    {
     "name": "stdout",
     "output_type": "stream",
     "text": [
      "Correlation between language and show languages: 0.9997772079125222\n"
     ]
    },
    {
     "name": "stderr",
     "output_type": "stream",
     "text": [
      "                                                                                \r"
     ]
    }
   ],
   "source": [
    "correlation = df.stat.corr(\"language_index\", \"show_languages_index\")\n",
    "print(f\"Correlation between language and show languages: {correlation}\")"
   ]
  },
  {
   "cell_type": "code",
   "execution_count": 15,
   "id": "13d8fba0-3ef9-4dd6-b595-82d512d4883d",
   "metadata": {},
   "outputs": [],
   "source": [
    "from pyspark.sql.functions import split\n",
    "\n",
    "# new column with the base language\n",
    "df = df.withColumn(\"base_language\", split(df[\"language\"], \"-\")[0])\n"
   ]
  },
  {
   "cell_type": "code",
   "execution_count": 16,
   "id": "df66c478-55b7-4e65-9012-8fdb56ff53c7",
   "metadata": {},
   "outputs": [
    {
     "name": "stderr",
     "output_type": "stream",
     "text": [
      "[Stage 21:>                                                         (0 + 8) / 8]\r"
     ]
    },
    {
     "name": "stdout",
     "output_type": "stream",
     "text": [
      "+-------------+-----+\n",
      "|base_language|count|\n",
      "+-------------+-----+\n",
      "|           en|76841|\n",
      "|          und|  355|\n",
      "|           ur|   91|\n",
      "|           pl|10010|\n",
      "|           pt|10187|\n",
      "|           tl| 1951|\n",
      "|           jv|    5|\n",
      "|           mr|    3|\n",
      "|           de|20259|\n",
      "|           es|49955|\n",
      "|           it| 9697|\n",
      "|           te|  152|\n",
      "|           ar|  277|\n",
      "|           nl| 9905|\n",
      "|           bn|  314|\n",
      "|           ca|  772|\n",
      "|          fil| 1225|\n",
      "|           ml|   21|\n",
      "|           pa|  338|\n",
      "|           hi| 5032|\n",
      "+-------------+-----+\n",
      "only showing top 20 rows\n",
      "\n"
     ]
    },
    {
     "name": "stderr",
     "output_type": "stream",
     "text": [
      "                                                                                \r"
     ]
    }
   ],
   "source": [
    "# checking counts\n",
    "language_groups = df.groupBy(\"base_language\").count()\n",
    "\n",
    "language_groups.show()\n"
   ]
  },
  {
   "cell_type": "code",
   "execution_count": 17,
   "id": "ece5d533-90d0-4854-838d-272b4c1f003f",
   "metadata": {},
   "outputs": [],
   "source": [
    "df = df.drop(\"language\", \"languages\", \"show_languages\", \"languages_index\", \"show_languages_index\",\"language_index\" )"
   ]
  },
  {
   "cell_type": "code",
   "execution_count": 18,
   "id": "2ccf75c3-f6fd-443d-9929-57ffc7e99106",
   "metadata": {},
   "outputs": [],
   "source": [
    "# now we have base_language only"
   ]
  },
  {
   "cell_type": "markdown",
   "id": "a43f9337-5c44-4aca-bf4d-7e6bc380ee46",
   "metadata": {},
   "source": [
    "#### Handling date"
   ]
  },
  {
   "cell_type": "code",
   "execution_count": null,
   "id": "4f543d08-85ff-4d76-b8af-e009988815e1",
   "metadata": {},
   "outputs": [],
   "source": []
  },
  {
   "cell_type": "code",
   "execution_count": 20,
   "id": "bcdfea55-dda9-45ab-9b23-37d5dd9467f2",
   "metadata": {},
   "outputs": [],
   "source": [
    "# turn date & release_date into days since release (int) and drop the previous columns\n",
    "# will drop date and release_date at the end of setting up new columns because we still need them for now\n",
    "from pyspark.sql.functions import datediff\n",
    "\n",
    "df = df.withColumn(\"released_since_days\", datediff(\"date\", \"release_date\"))\n"
   ]
  },
  {
   "cell_type": "markdown",
   "id": "89a07926-8da5-466b-8558-5098e17f22e0",
   "metadata": {},
   "source": [
    "### Setting up new columns"
   ]
  },
  {
   "cell_type": "markdown",
   "id": "24a9f407-d34b-41de-88f9-90776e1a817c",
   "metadata": {},
   "source": [
    "#### Prev_rank, rank_movement"
   ]
  },
  {
   "cell_type": "code",
   "execution_count": null,
   "id": "1e7a21a0-526f-4025-8ef9-a225fb4bab71",
   "metadata": {},
   "outputs": [],
   "source": []
  },
  {
   "cell_type": "code",
   "execution_count": 23,
   "id": "9d3d4bef-b9ed-4cf4-9bb7-462de9883c18",
   "metadata": {},
   "outputs": [],
   "source": [
    "from pyspark.sql.window import Window\n",
    "from pyspark.sql.functions import col, lag, when\n",
    "\n",
    "# window partitioned by region and show, ordered by date\n",
    "window_spec = Window.partitionBy(\"region\", \"show_name\").orderBy(\"date\")\n",
    "\n",
    "# previous day's rank\n",
    "df = df.withColumn(\"prev_rank\", lag(\"rank\").over(window_spec))\n",
    "\n",
    "# new target column: 1= up 0= down or sam\n",
    "df = df.withColumn(\"rank_movement\", when(col(\"rank\") < col(\"prev_rank\"), 1).otherwise(0))\n",
    "\n",
    "#replacing nulls with 201 -to mark them correctly as up when the podcast is new to the list \n",
    "df = df.withColumn(\"prev_rank\", when(col(\"prev_rank\").isNull(), 201).otherwise(col(\"prev_rank\")))\n",
    "\n"
   ]
  },
  {
   "cell_type": "code",
   "execution_count": 24,
   "id": "f675e3e8-d90f-4db1-a6a0-615359c9b26f",
   "metadata": {},
   "outputs": [
    {
     "name": "stderr",
     "output_type": "stream",
     "text": [
      "[Stage 24:>                                                         (0 + 8) / 8]\r"
     ]
    },
    {
     "name": "stdout",
     "output_type": "stream",
     "text": [
      "+----------+------+-------------------+----+---------+-------------+\n",
      "|      date|region|          show_name|rank|prev_rank|rank_movement|\n",
      "+----------+------+-------------------+----+---------+-------------+\n",
      "|2024-09-04|    ar|Aprender de Grandes| 197|      201|            0|\n",
      "|2024-09-05|    ar|Aprender de Grandes| 184|      197|            1|\n",
      "|2024-09-06|    ar|Aprender de Grandes| 180|      184|            1|\n",
      "|2024-09-08|    ar|Aprender de Grandes| 197|      180|            0|\n",
      "|2024-09-12|    ar|Aprender de Grandes| 158|      197|            1|\n",
      "|2024-09-13|    ar|Aprender de Grandes| 168|      158|            0|\n",
      "|2024-09-14|    ar|Aprender de Grandes| 179|      168|            0|\n",
      "|2024-09-15|    ar|Aprender de Grandes| 170|      179|            1|\n",
      "|2024-09-16|    ar|Aprender de Grandes| 166|      170|            1|\n",
      "|2024-09-20|    ar|Aprender de Grandes| 136|      166|            1|\n",
      "+----------+------+-------------------+----+---------+-------------+\n",
      "only showing top 10 rows\n",
      "\n"
     ]
    },
    {
     "name": "stderr",
     "output_type": "stream",
     "text": [
      "                                                                                \r"
     ]
    }
   ],
   "source": [
    "df.select(\"date\", \"region\", \"show_name\", \"rank\", \"prev_rank\", \"rank_movement\").show(10)\n"
   ]
  },
  {
   "cell_type": "code",
   "execution_count": null,
   "id": "e809abad-b7bf-4915-992f-4bb204b4ea85",
   "metadata": {},
   "outputs": [],
   "source": []
  },
  {
   "cell_type": "markdown",
   "id": "dace84a8-1e3e-4c45-acda-cf93c4e2b6bb",
   "metadata": {},
   "source": [
    "#### Average Time in the ranks"
   ]
  },
  {
   "cell_type": "code",
   "execution_count": null,
   "id": "06b24775-189f-4660-af8c-507024ef5de9",
   "metadata": {},
   "outputs": [],
   "source": []
  },
  {
   "cell_type": "code",
   "execution_count": 26,
   "id": "2f029885-3f32-4d4d-a837-abdf1d9278cb",
   "metadata": {},
   "outputs": [
    {
     "name": "stderr",
     "output_type": "stream",
     "text": [
      "                                                                                \r"
     ]
    },
    {
     "name": "stdout",
     "output_type": "stream",
     "text": [
      "+--------------------+--------------------+------------------------+-----------------------+-----------------------------+\n",
      "|           show_name|         episodeName|times_in_top_200_episode|total_episodes_per_show|avg_times_in_top_200_per_show|\n",
      "+--------------------+--------------------+------------------------+-----------------------+-----------------------------+\n",
      "|Better Me (Hopefu...|I’ve fallen off t...|                       1|                      3|                          2.0|\n",
      "|Between Two Beers...|Lessons from Seri...|                       9|                     14|                        72.43|\n",
      "|Between Two Beers...|Rachel Hunter Sto...|                       5|                     14|                        72.43|\n",
      "|Call Me Back - wi...|NASRALLAH DEAD, H...|                       2|                      1|                          4.0|\n",
      "|Dan Snow's Histor...|Operation Market ...|                       3|                     23|                         14.0|\n",
      "|Dan Snow's Histor...|Scotland & Englan...|                       2|                     23|                         14.0|\n",
      "|Dan Snow's Histor...|Sir Walter Raleig...|                       2|                     23|                         14.0|\n",
      "|Dan Snow's Histor...|The Battle of Arn...|                       4|                     23|                         14.0|\n",
      "|    Dimes y Billetes|275. Aprende a in...|                       3|                      6|                         9.17|\n",
      "|GloryDaze - With ...|       GloryDaze 144|                       1|                      2|                          1.0|\n",
      "+--------------------+--------------------+------------------------+-----------------------+-----------------------------+\n",
      "only showing top 10 rows\n",
      "\n"
     ]
    }
   ],
   "source": [
    "from pyspark.sql import functions as F\n",
    "from pyspark.sql.window import Window\n",
    "\n",
    "\n",
    "# times_in_top_200_episode for each episode\n",
    "episode_window = Window.partitionBy(\"show_name\", \"episodeName\")\n",
    "df = df.withColumn(\"times_in_top_200_episode\", F.count(\"*\").over(episode_window))\n",
    "\n",
    "# total distinct episodes per show\n",
    "distinct_episodes = df.select(\"show_name\", \"episodeName\") \\\n",
    "    .distinct() \\\n",
    "    .groupBy(\"show_name\") \\\n",
    "    .agg(F.count(\"episodeName\").alias(\"total_episodes_per_show\"))\n",
    "\n",
    "# total times in top 200 per show\n",
    "show_times = df.groupBy(\"show_name\").agg(\n",
    "    F.sum(\"times_in_top_200_episode\").alias(\"total_times_in_top_200\")\n",
    ")\n",
    "\n",
    "# join both totals back into the DataFrame\n",
    "df = df.join(distinct_episodes, on=\"show_name\", how=\"left\") \\\n",
    "       .join(show_times, on=\"show_name\", how=\"left\")\n",
    "\n",
    "# calculate avg_times_in_top_200_per_show, round to 2 decimals\n",
    "\n",
    "df = df.withColumn(\n",
    "    \"avg_times_in_top_200_per_show\",\n",
    "    F.round(F.col(\"total_times_in_top_200\") / F.col(\"total_episodes_per_show\"), 2)  )\n",
    "\n",
    "# remove duplicates for final display\n",
    "df = df.dropDuplicates([\"show_name\", \"episodeName\"])\n",
    "\n",
    "df.select(\"show_name\", \"episodeName\", \"times_in_top_200_episode\",\n",
    "          \"total_episodes_per_show\", \"avg_times_in_top_200_per_show\").show(10)\n"
   ]
  },
  {
   "cell_type": "code",
   "execution_count": null,
   "id": "d5b32be1-3503-46d0-ad19-e077c4fb5052",
   "metadata": {},
   "outputs": [],
   "source": []
  },
  {
   "cell_type": "code",
   "execution_count": 27,
   "id": "7cb7b774-9489-4cf4-9f44-752d0155a26b",
   "metadata": {},
   "outputs": [
    {
     "name": "stdout",
     "output_type": "stream",
     "text": [
      "root\n",
      " |-- show_name: string (nullable = true)\n",
      " |-- date: date (nullable = true)\n",
      " |-- rank: integer (nullable = true)\n",
      " |-- region: string (nullable = true)\n",
      " |-- chartRankMove: string (nullable = true)\n",
      " |-- episodeName: string (nullable = true)\n",
      " |-- show_publisher: string (nullable = true)\n",
      " |-- duration_ms: integer (nullable = true)\n",
      " |-- explicit: boolean (nullable = true)\n",
      " |-- release_date: date (nullable = true)\n",
      " |-- show_explicit: boolean (nullable = true)\n",
      " |-- show_media_type: string (nullable = true)\n",
      " |-- show_total_episodes: integer (nullable = true)\n",
      " |-- base_language: string (nullable = true)\n",
      " |-- released_since_days: integer (nullable = true)\n",
      " |-- prev_rank: integer (nullable = true)\n",
      " |-- rank_movement: integer (nullable = false)\n",
      " |-- times_in_top_200_episode: long (nullable = false)\n",
      " |-- total_episodes_per_show: long (nullable = true)\n",
      " |-- total_times_in_top_200: long (nullable = true)\n",
      " |-- avg_times_in_top_200_per_show: double (nullable = true)\n",
      "\n"
     ]
    }
   ],
   "source": [
    "df.printSchema()"
   ]
  },
  {
   "cell_type": "code",
   "execution_count": 28,
   "id": "7e6e8507-714c-4fa2-8f32-30e41bb9b0be",
   "metadata": {},
   "outputs": [
    {
     "name": "stderr",
     "output_type": "stream",
     "text": [
      "                                                                                \r"
     ]
    }
   ],
   "source": [
    "#checking correlation between target column and show_name and publisher, to see if either is worth keeping\n",
    "indexer_show_name = StringIndexer(inputCol=\"show_name\", outputCol=\"show_name_index\")\n",
    "indexer_show_publisher = StringIndexer(inputCol=\"show_publisher\", outputCol=\"show_publisher_index\")\n",
    "\n",
    "df = indexer_show_name.fit(df).transform(df)\n",
    "df = indexer_show_publisher.fit(df).transform(df)\n",
    "\n"
   ]
  },
  {
   "cell_type": "code",
   "execution_count": null,
   "id": "9b14136f-32d9-420e-877c-7e157a571b76",
   "metadata": {},
   "outputs": [],
   "source": []
  },
  {
   "cell_type": "code",
   "execution_count": 29,
   "id": "06369328-bfa8-4580-8bb8-0876f2758b85",
   "metadata": {},
   "outputs": [
    {
     "name": "stderr",
     "output_type": "stream",
     "text": [
      "[Stage 59:>                                                         (0 + 8) / 8]\r"
     ]
    },
    {
     "name": "stdout",
     "output_type": "stream",
     "text": [
      "Correlation between show_name and target: -0.05828857550169572\n"
     ]
    },
    {
     "name": "stderr",
     "output_type": "stream",
     "text": [
      "                                                                                \r"
     ]
    }
   ],
   "source": [
    "correlation = df.stat.corr(\"show_name_index\", \"rank_movement\")\n",
    "print(f\"Correlation between show_name and target: {correlation}\")"
   ]
  },
  {
   "cell_type": "code",
   "execution_count": null,
   "id": "4c25833f-78f2-400c-8880-33ce09076200",
   "metadata": {},
   "outputs": [],
   "source": []
  },
  {
   "cell_type": "code",
   "execution_count": 30,
   "id": "818a495e-eebf-4b82-9b7e-fe9ef08e3a4f",
   "metadata": {},
   "outputs": [
    {
     "name": "stderr",
     "output_type": "stream",
     "text": [
      "[Stage 69:>                                                         (0 + 8) / 8]\r"
     ]
    },
    {
     "name": "stdout",
     "output_type": "stream",
     "text": [
      "Correlation between show_publisher and target: -0.06479356734958078\n"
     ]
    },
    {
     "name": "stderr",
     "output_type": "stream",
     "text": [
      "                                                                                \r"
     ]
    }
   ],
   "source": [
    "correlation = df.stat.corr(\"show_publisher_index\", \"rank_movement\")\n",
    "print(f\"Correlation between show_publisher and target: {correlation}\")"
   ]
  },
  {
   "cell_type": "code",
   "execution_count": 31,
   "id": "34d5d86e-c350-4c4f-bc2e-206dde7ebca4",
   "metadata": {},
   "outputs": [],
   "source": [
    "#before proceeding, we drop the last batch of unnecessary columns \n",
    "df = df.drop(\"date\", \"release_date\", \"show_publisher\", \"show_publisher_index\", \"episodeName\", \"show_name_index\", \"show_name\")"
   ]
  },
  {
   "cell_type": "code",
   "execution_count": 32,
   "id": "3cf99309-2000-4381-b801-7847fca9d60b",
   "metadata": {},
   "outputs": [
    {
     "name": "stdout",
     "output_type": "stream",
     "text": [
      "root\n",
      " |-- rank: integer (nullable = true)\n",
      " |-- region: string (nullable = true)\n",
      " |-- chartRankMove: string (nullable = true)\n",
      " |-- duration_ms: integer (nullable = true)\n",
      " |-- explicit: boolean (nullable = true)\n",
      " |-- show_explicit: boolean (nullable = true)\n",
      " |-- show_media_type: string (nullable = true)\n",
      " |-- show_total_episodes: integer (nullable = true)\n",
      " |-- base_language: string (nullable = true)\n",
      " |-- released_since_days: integer (nullable = true)\n",
      " |-- prev_rank: integer (nullable = true)\n",
      " |-- rank_movement: integer (nullable = false)\n",
      " |-- times_in_top_200_episode: long (nullable = false)\n",
      " |-- total_episodes_per_show: long (nullable = true)\n",
      " |-- total_times_in_top_200: long (nullable = true)\n",
      " |-- avg_times_in_top_200_per_show: double (nullable = true)\n",
      "\n"
     ]
    }
   ],
   "source": [
    "df.printSchema()"
   ]
  },
  {
   "cell_type": "code",
   "execution_count": null,
   "id": "92083d14-1c29-425c-8092-9277d3fefe48",
   "metadata": {},
   "outputs": [],
   "source": []
  },
  {
   "cell_type": "markdown",
   "id": "92ec04ca-dd89-4258-8ffd-54a5a33a78b0",
   "metadata": {},
   "source": [
    "#### StringIndexing"
   ]
  },
  {
   "cell_type": "code",
   "execution_count": 34,
   "id": "46549de5-b2de-4302-9d70-4f4a0b0633aa",
   "metadata": {},
   "outputs": [],
   "source": [
    "# as a part of preprocessing because we will use it directly for decision trees and for logistic regression \n",
    "# we need this as a pre step of one hot encoding"
   ]
  },
  {
   "cell_type": "code",
   "execution_count": 35,
   "id": "958f98cd-1d92-4b75-bea3-d2e7d7fb69d0",
   "metadata": {},
   "outputs": [
    {
     "name": "stdout",
     "output_type": "stream",
     "text": [
      "String columns: ['region', 'chartRankMove', 'show_media_type', 'base_language']\n"
     ]
    }
   ],
   "source": [
    "\n",
    "from pyspark.sql.types import StringType\n",
    "\n",
    "string_columns = [field.name for field in df.schema.fields if isinstance(field.dataType, StringType)]\n",
    "\n",
    "print(\"String columns:\", string_columns)\n",
    "\n"
   ]
  },
  {
   "cell_type": "code",
   "execution_count": null,
   "id": "ec1b2938-b394-4cbe-9b96-c85dd10a5484",
   "metadata": {},
   "outputs": [],
   "source": []
  },
  {
   "cell_type": "code",
   "execution_count": 36,
   "id": "5b25a101-6b51-45ef-9b3c-8d6bb352ffed",
   "metadata": {},
   "outputs": [
    {
     "name": "stderr",
     "output_type": "stream",
     "text": [
      "[Stage 95:>                                                         (0 + 8) / 8]\r"
     ]
    },
    {
     "name": "stdout",
     "output_type": "stream",
     "text": [
      "root\n",
      " |-- rank: integer (nullable = true)\n",
      " |-- region: string (nullable = true)\n",
      " |-- chartRankMove: string (nullable = true)\n",
      " |-- duration_ms: integer (nullable = true)\n",
      " |-- explicit: boolean (nullable = true)\n",
      " |-- show_explicit: boolean (nullable = true)\n",
      " |-- show_media_type: string (nullable = true)\n",
      " |-- show_total_episodes: integer (nullable = true)\n",
      " |-- base_language: string (nullable = true)\n",
      " |-- released_since_days: integer (nullable = true)\n",
      " |-- prev_rank: integer (nullable = true)\n",
      " |-- rank_movement: integer (nullable = false)\n",
      " |-- times_in_top_200_episode: long (nullable = false)\n",
      " |-- total_episodes_per_show: long (nullable = true)\n",
      " |-- total_times_in_top_200: long (nullable = true)\n",
      " |-- avg_times_in_top_200_per_show: double (nullable = true)\n",
      " |-- region_index: double (nullable = false)\n",
      " |-- chartRankMove_index: double (nullable = false)\n",
      " |-- show_media_type_index: double (nullable = false)\n",
      " |-- base_language_index: double (nullable = false)\n",
      "\n"
     ]
    },
    {
     "name": "stderr",
     "output_type": "stream",
     "text": [
      "                                                                                \r"
     ]
    }
   ],
   "source": [
    "from pyspark.ml.feature import StringIndexer\n",
    "\n",
    "# stringindexer for string columns\n",
    "for col in string_columns:\n",
    "    indexer = StringIndexer(inputCol=col, outputCol=f\"{col}_index\")\n",
    "    df = indexer.fit(df).transform(df)\n",
    "\n",
    "df.printSchema()\n"
   ]
  },
  {
   "cell_type": "code",
   "execution_count": 37,
   "id": "07ccd781-02db-4bac-a4bd-fb40b7d0696c",
   "metadata": {},
   "outputs": [],
   "source": [
    "#dropping string columns before proceeding\n",
    "df = df.drop(*string_columns)\n",
    "\n"
   ]
  },
  {
   "cell_type": "code",
   "execution_count": 38,
   "id": "837dce08-798d-4919-a090-3d2884eb6c75",
   "metadata": {},
   "outputs": [
    {
     "name": "stdout",
     "output_type": "stream",
     "text": [
      "root\n",
      " |-- rank: integer (nullable = true)\n",
      " |-- duration_ms: integer (nullable = true)\n",
      " |-- explicit: boolean (nullable = true)\n",
      " |-- show_explicit: boolean (nullable = true)\n",
      " |-- show_total_episodes: integer (nullable = true)\n",
      " |-- released_since_days: integer (nullable = true)\n",
      " |-- prev_rank: integer (nullable = true)\n",
      " |-- rank_movement: integer (nullable = false)\n",
      " |-- times_in_top_200_episode: long (nullable = false)\n",
      " |-- total_episodes_per_show: long (nullable = true)\n",
      " |-- total_times_in_top_200: long (nullable = true)\n",
      " |-- avg_times_in_top_200_per_show: double (nullable = true)\n",
      " |-- region_index: double (nullable = false)\n",
      " |-- chartRankMove_index: double (nullable = false)\n",
      " |-- show_media_type_index: double (nullable = false)\n",
      " |-- base_language_index: double (nullable = false)\n",
      "\n"
     ]
    }
   ],
   "source": [
    "df.printSchema()\n"
   ]
  },
  {
   "cell_type": "code",
   "execution_count": 39,
   "id": "e8c7d8fb-ca4d-4bba-9766-9e7af32fb29c",
   "metadata": {},
   "outputs": [],
   "source": [
    "df = df.drop(\"chartRankMove\", \"rank\") # because these are directly correlated with our target column"
   ]
  },
  {
   "cell_type": "code",
   "execution_count": 40,
   "id": "0833f6df-bd7a-4d9d-b890-0589d37d8d93",
   "metadata": {},
   "outputs": [],
   "source": [
    "# saving the preprocessed file for future use for reference\n",
    " #df.write.mode(\"overwrite\").parquet(\"preprocessed_data3.parquet\")"
   ]
  },
  {
   "cell_type": "code",
   "execution_count": 41,
   "id": "36214a97-44f2-4022-8343-a8ee58d5166d",
   "metadata": {},
   "outputs": [],
   "source": [
    "df2 = df.select(\"*\")\n",
    "# a copy because for logistic regression will go under scaling and one hot encoding"
   ]
  },
  {
   "cell_type": "code",
   "execution_count": null,
   "id": "981c0ff1-4816-4343-964b-957846265eb7",
   "metadata": {},
   "outputs": [],
   "source": []
  },
  {
   "cell_type": "code",
   "execution_count": null,
   "id": "5b7122c4-8711-4689-8b82-ce1376b88c93",
   "metadata": {},
   "outputs": [],
   "source": []
  },
  {
   "cell_type": "markdown",
   "id": "48a15227-f2fa-40f6-bd0b-5175cec26e44",
   "metadata": {},
   "source": [
    "#### Logistic regression"
   ]
  },
  {
   "cell_type": "code",
   "execution_count": 43,
   "id": "6ed96c5c-562c-4591-a58e-d9f873629386",
   "metadata": {},
   "outputs": [
    {
     "name": "stdout",
     "output_type": "stream",
     "text": [
      "root\n",
      " |-- duration_ms: integer (nullable = true)\n",
      " |-- explicit: boolean (nullable = true)\n",
      " |-- show_explicit: boolean (nullable = true)\n",
      " |-- show_total_episodes: integer (nullable = true)\n",
      " |-- released_since_days: integer (nullable = true)\n",
      " |-- prev_rank: integer (nullable = true)\n",
      " |-- rank_movement: integer (nullable = false)\n",
      " |-- times_in_top_200_episode: long (nullable = false)\n",
      " |-- total_episodes_per_show: long (nullable = true)\n",
      " |-- total_times_in_top_200: long (nullable = true)\n",
      " |-- avg_times_in_top_200_per_show: double (nullable = true)\n",
      " |-- region_index: double (nullable = false)\n",
      " |-- chartRankMove_index: double (nullable = false)\n",
      " |-- show_media_type_index: double (nullable = false)\n",
      " |-- base_language_index: double (nullable = false)\n",
      " |-- base_language_index_vector: vector (nullable = true)\n",
      " |-- show_media_type_index_vector: vector (nullable = true)\n",
      " |-- region_index_vector: vector (nullable = true)\n",
      "\n"
     ]
    }
   ],
   "source": [
    "# One hot encoding string indexed data\n",
    "from pyspark.ml.feature import OneHotEncoder\n",
    "\n",
    "index_cols = [\"base_language_index\", \"show_media_type_index\", \"region_index\"]\n",
    "output_cols = [f\"{col}_vector\" for col in index_cols]\n",
    "\n",
    "encoder = OneHotEncoder(inputCols=index_cols, outputCols=output_cols)\n",
    "df2 = encoder.fit(df2).transform(df2)\n",
    "\n",
    "df2.printSchema()\n"
   ]
  },
  {
   "cell_type": "code",
   "execution_count": null,
   "id": "3dba3966-85f0-4a3c-a3ec-8fe7a76bf4ee",
   "metadata": {},
   "outputs": [],
   "source": []
  },
  {
   "cell_type": "code",
   "execution_count": 44,
   "id": "5dddee23-f689-4e25-8b3c-3851d28d37b3",
   "metadata": {},
   "outputs": [],
   "source": [
    "df2 = df2.drop(*index_cols)\n"
   ]
  },
  {
   "cell_type": "code",
   "execution_count": null,
   "id": "8a3fcae3-a821-462e-a3ca-4b24c4f4f83c",
   "metadata": {},
   "outputs": [],
   "source": []
  },
  {
   "cell_type": "code",
   "execution_count": 45,
   "id": "2cb5328f-5326-4611-9f90-ca02a4dfc61f",
   "metadata": {},
   "outputs": [],
   "source": [
    "# scaling"
   ]
  },
  {
   "cell_type": "code",
   "execution_count": 46,
   "id": "7753a7c6-41a4-4e39-852a-7c2d38ec4071",
   "metadata": {},
   "outputs": [],
   "source": [
    "from pyspark.ml.feature import VectorAssembler, StandardScaler\n",
    "\n",
    "#long and double types\n",
    "columns_to_scale = [\n",
    "    \"duration_ms\",\n",
    "    \"show_total_episodes\",\n",
    "    \"released_since_days\",\n",
    "    \"times_in_top_200_episode\",\n",
    "    \"total_episodes_per_show\",\n",
    "    \"total_times_in_top_200\",\n",
    "    \"avg_times_in_top_200_per_show\"\n",
    "]\n"
   ]
  },
  {
   "cell_type": "code",
   "execution_count": null,
   "id": "28c00dba-1d56-47d2-92fc-2a0fd16b8f5b",
   "metadata": {},
   "outputs": [],
   "source": []
  },
  {
   "cell_type": "code",
   "execution_count": 47,
   "id": "38f0dfab-602b-439d-92fe-e6c89c569fe4",
   "metadata": {},
   "outputs": [],
   "source": [
    "# vector of features to scale\n",
    "assembler = VectorAssembler(inputCols=columns_to_scale, outputCol=\"features_to_scale\")\n",
    "df2 = assembler.transform(df2)\n"
   ]
  },
  {
   "cell_type": "code",
   "execution_count": null,
   "id": "a30a9afe-0b63-49a6-9c5f-b3c078acffd3",
   "metadata": {},
   "outputs": [],
   "source": []
  },
  {
   "cell_type": "code",
   "execution_count": 48,
   "id": "467064ec-6168-44e4-ba4d-9d98428c3952",
   "metadata": {},
   "outputs": [
    {
     "name": "stderr",
     "output_type": "stream",
     "text": [
      "                                                                                \r"
     ]
    }
   ],
   "source": [
    "# standardScaler\n",
    "scaler = StandardScaler(inputCol=\"features_to_scale\", outputCol=\"scaled_features\", withMean=True, withStd=True)\n",
    "scaler_model = scaler.fit(df2)\n",
    "df2 = scaler_model.transform(df2)\n",
    "\n",
    "\n"
   ]
  },
  {
   "cell_type": "code",
   "execution_count": null,
   "id": "8363c599-7ca8-4fc8-af3d-ff3d3e5d9935",
   "metadata": {},
   "outputs": [],
   "source": []
  },
  {
   "cell_type": "code",
   "execution_count": 49,
   "id": "db607c5b-5186-4500-8a99-7ec335211040",
   "metadata": {},
   "outputs": [],
   "source": [
    "#vector assembler\n"
   ]
  },
  {
   "cell_type": "code",
   "execution_count": 50,
   "id": "a7ec8104-8144-4c80-a14f-4f46f0cf9025",
   "metadata": {},
   "outputs": [
    {
     "name": "stdout",
     "output_type": "stream",
     "text": [
      "root\n",
      " |-- duration_ms: integer (nullable = true)\n",
      " |-- explicit: boolean (nullable = true)\n",
      " |-- show_explicit: boolean (nullable = true)\n",
      " |-- show_total_episodes: integer (nullable = true)\n",
      " |-- released_since_days: integer (nullable = true)\n",
      " |-- prev_rank: integer (nullable = true)\n",
      " |-- rank_movement: integer (nullable = false)\n",
      " |-- times_in_top_200_episode: long (nullable = false)\n",
      " |-- total_episodes_per_show: long (nullable = true)\n",
      " |-- total_times_in_top_200: long (nullable = true)\n",
      " |-- avg_times_in_top_200_per_show: double (nullable = true)\n",
      " |-- chartRankMove_index: double (nullable = false)\n",
      " |-- base_language_index_vector: vector (nullable = true)\n",
      " |-- show_media_type_index_vector: vector (nullable = true)\n",
      " |-- region_index_vector: vector (nullable = true)\n",
      " |-- features_to_scale: vector (nullable = true)\n",
      " |-- scaled_features: vector (nullable = true)\n",
      " |-- features: vector (nullable = true)\n",
      "\n"
     ]
    }
   ],
   "source": [
    "\n",
    "target_column = \"rank_movement\"\n",
    "\n",
    "# columns for final feature vector\n",
    "final_features_columns = [\n",
    "    col for col in df2.columns if col not in columns_to_scale + [target_column] and col != \"features_to_scale\"\n",
    "]\n",
    "\n",
    "\n",
    "# vector assembler\n",
    "from pyspark.ml.feature import VectorAssembler\n",
    "\n",
    "assembler = VectorAssembler(inputCols=final_features_columns, outputCol=\"features\")\n",
    "df2 = assembler.transform(df2)\n",
    "\n",
    "df2.printSchema()\n",
    "\n"
   ]
  },
  {
   "cell_type": "code",
   "execution_count": null,
   "id": "75df2897-4cd5-40ef-a741-876ca557fe26",
   "metadata": {},
   "outputs": [],
   "source": []
  },
  {
   "cell_type": "code",
   "execution_count": 51,
   "id": "7b1f3d0d-bf66-47e4-bd80-502224f6e001",
   "metadata": {},
   "outputs": [
    {
     "name": "stderr",
     "output_type": "stream",
     "text": [
      "                                                                                \r"
     ]
    },
    {
     "name": "stdout",
     "output_type": "stream",
     "text": [
      "+--------------------+\n",
      "|            features|\n",
      "+--------------------+\n",
      "|(60,[2,10,36,53,5...|\n",
      "|(60,[2,10,36,53,5...|\n",
      "|(60,[2,3,4,52,53,...|\n",
      "|(60,[2,6,48,53,54...|\n",
      "|(60,[2,3,10,31,36...|\n",
      "|(60,[2,10,31,36,5...|\n",
      "|(60,[2,7,31,32,53...|\n",
      "|(60,[2,6,31,48,53...|\n",
      "|(60,[2,6,31,48,53...|\n",
      "|(60,[2,6,31,48,53...|\n",
      "|(60,[2,6,31,48,53...|\n",
      "|(60,[2,6,31,48,53...|\n",
      "|(60,[2,6,31,48,53...|\n",
      "|(60,[2,5,31,45,53...|\n",
      "|(60,[2,5,31,45,53...|\n",
      "|(60,[2,5,31,45,53...|\n",
      "|(60,[2,5,31,45,53...|\n",
      "|(60,[2,5,31,45,53...|\n",
      "|(60,[2,5,31,45,53...|\n",
      "|(60,[2,5,31,45,53...|\n",
      "+--------------------+\n",
      "only showing top 20 rows\n",
      "\n",
      "Columns included in 'features': ['explicit', 'show_explicit', 'prev_rank', 'chartRankMove_index', 'base_language_index_vector', 'show_media_type_index_vector', 'region_index_vector', 'scaled_features']\n"
     ]
    }
   ],
   "source": [
    "# final vector\n",
    "df2.select(\"features\").show()\n",
    "\n",
    "# columns in it\n",
    "print(f\"Columns included in 'features': {final_features_columns}\")\n"
   ]
  },
  {
   "cell_type": "code",
   "execution_count": 71,
   "id": "69dc4d2c-7f67-4945-bc64-069d6718317d",
   "metadata": {},
   "outputs": [
    {
     "name": "stderr",
     "output_type": "stream",
     "text": [
      "[Stage 964:>                                                        (0 + 8) / 8]\r"
     ]
    },
    {
     "name": "stdout",
     "output_type": "stream",
     "text": [
      "Accuracy: 0.6556\n",
      "F1-Score: 0.6554\n",
      "Precision: 0.6558\n",
      "Recall: 0.6556\n",
      "Area Under ROC (AUC): 0.7044\n"
     ]
    },
    {
     "name": "stderr",
     "output_type": "stream",
     "text": [
      "                                                                                \r"
     ]
    }
   ],
   "source": [
    "# logistic regression\n",
    "from pyspark.ml.classification import LogisticRegression\n",
    "from pyspark.ml.evaluation import MulticlassClassificationEvaluator, BinaryClassificationEvaluator\n",
    "\n",
    "train_df, test_df = df2.randomSplit([0.8, 0.2], seed=42)\n",
    "\n",
    "lr = LogisticRegression(featuresCol=\"features\", labelCol=\"rank_movement\", maxIter=10)\n",
    "\n",
    "lr_model = lr.fit(train_df)\n",
    "\n",
    "predictions = lr_model.transform(test_df)\n",
    "\n",
    "\n",
    "\n",
    "#evaluators\n",
    "multiclass_evaluator = MulticlassClassificationEvaluator(labelCol=\"rank_movement\", predictionCol=\"prediction\")\n",
    "\n",
    "accuracy = multiclass_evaluator.setMetricName(\"accuracy\").evaluate(predictions)\n",
    "f1_score = multiclass_evaluator.setMetricName(\"f1\").evaluate(predictions)\n",
    "precision = multiclass_evaluator.setMetricName(\"weightedPrecision\").evaluate(predictions)\n",
    "recall = multiclass_evaluator.setMetricName(\"weightedRecall\").evaluate(predictions)\n",
    "binary_evaluator = BinaryClassificationEvaluator(labelCol=\"rank_movement\", rawPredictionCol=\"rawPrediction\", metricName=\"areaUnderROC\")\n",
    "auc = binary_evaluator.evaluate(predictions)\n",
    "\n",
    "#metrics\n",
    "print(f\"Accuracy: {accuracy:.4f}\")\n",
    "print(f\"F1-Score: {f1_score:.4f}\")\n",
    "print(f\"Precision: {precision:.4f}\")\n",
    "print(f\"Recall: {recall:.4f}\")\n",
    "print(f\"Area Under ROC (AUC): {auc:.4f}\")\n"
   ]
  },
  {
   "cell_type": "code",
   "execution_count": null,
   "id": "635c6bdf-8136-498e-8cc1-d32d67e006b9",
   "metadata": {},
   "outputs": [],
   "source": []
  },
  {
   "cell_type": "raw",
   "id": "a6bf8248-9dc7-4d20-8324-86eb503d1219",
   "metadata": {},
   "source": [
    "\n",
    "Accuracy: 0.6556\n",
    "F1-Score: 0.6554\n",
    "Precision: 0.6558\n",
    "Recall: 0.6556\n",
    "Area Under ROC (AUC): 0.7044"
   ]
  },
  {
   "cell_type": "code",
   "execution_count": 73,
   "id": "df234b5e-36d3-4a88-809c-0c19ca5de829",
   "metadata": {},
   "outputs": [
    {
     "name": "stderr",
     "output_type": "stream",
     "text": [
      "                                                                                \r"
     ]
    },
    {
     "data": {
      "image/png": "[encoded data removed]",
      "text/plain": [
       "<Figure size 800x600 with 1 Axes>"
      ]
     },
     "metadata": {},
     "output_type": "display_data"
    }
   ],
   "source": [
    "# roc curve\n",
    "from pyspark.ml.evaluation import BinaryClassificationEvaluator\n",
    "from pyspark.ml.functions import vector_to_array\n",
    "import pandas as pd\n",
    "import matplotlib.pyplot as plt\n",
    "\n",
    "\n",
    "predictions = predictions.withColumn(\"probabilities\", vector_to_array(\"probability\"))\n",
    "roc_data = predictions.select(\"rank_movement\", F.col(\"probabilities\")[1].alias(\"positive_probability\"))\n",
    "roc_pandas = roc_data.toPandas()\n",
    "\n",
    "from sklearn.metrics import roc_curve\n",
    "\n",
    "fpr, tpr, thresholds = roc_curve(roc_pandas[\"rank_movement\"], roc_pandas[\"positive_probability\"])\n",
    "\n",
    "\n",
    "plt.figure(figsize=(8, 6))\n",
    "plt.plot(fpr, tpr, label=f\"Logistic Regression (AUC = {auc:.4f})\")\n",
    "plt.plot([0, 1], [0, 1], \"k--\", label=\"Random Guess\")\n",
    "plt.title(\"ROC Curve\")\n",
    "plt.xlabel(\"False Positive Rate\")\n",
    "plt.ylabel(\"True Positive Rate\")\n",
    "plt.legend(loc=\"lower right\")\n",
    "plt.grid()\n",
    "plt.show()\n"
   ]
  },
  {
   "cell_type": "code",
   "execution_count": null,
   "id": "0c5ee9e5-0228-4930-89d7-c5852dc796bc",
   "metadata": {},
   "outputs": [],
   "source": []
  },
  {
   "cell_type": "code",
   "execution_count": null,
   "id": "d1ba4b85-ff2f-4f39-a596-4595948883f0",
   "metadata": {},
   "outputs": [],
   "source": []
  },
  {
   "cell_type": "markdown",
   "id": "e2e0b298-011d-4e5b-8969-600db4481c69",
   "metadata": {},
   "source": [
    "#### Decision Tree"
   ]
  },
  {
   "cell_type": "code",
   "execution_count": null,
   "id": "9110bd66-16a7-4a01-bce0-98fb6f8f0989",
   "metadata": {},
   "outputs": [],
   "source": [
    "# vector assembler"
   ]
  },
  {
   "cell_type": "code",
   "execution_count": null,
   "id": "2b973016-adf5-49bd-89b6-c4e8a9970ad6",
   "metadata": {},
   "outputs": [],
   "source": [
    "target_column = \"rank_movement\"\n",
    "all_columns = df.columns\n",
    "\n",
    "# columns for final feature vector\n",
    "final_features_columns = [col for col in all_columns if col != target_column]\n",
    "\n",
    "# vector assembler\n",
    "from pyspark.ml.feature import VectorAssembler\n",
    "\n",
    "assembler = VectorAssembler(inputCols=final_features_columns, outputCol=\"features\")\n",
    "df = assembler.transform(df)\n",
    "\n",
    "df.printSchema()\n"
   ]
  },
  {
   "cell_type": "code",
   "execution_count": null,
   "id": "adb47c52-1ca3-4d15-b492-ad5dc11e4c56",
   "metadata": {},
   "outputs": [],
   "source": []
  },
  {
   "cell_type": "code",
   "execution_count": null,
   "id": "00b78197-9263-472b-b8d5-98d0b7bc1595",
   "metadata": {},
   "outputs": [],
   "source": []
  },
  {
   "cell_type": "code",
   "execution_count": null,
   "id": "b800ff2b-1c75-429a-93a6-71739363a0ec",
   "metadata": {},
   "outputs": [],
   "source": [
    "from pyspark.ml.classification import DecisionTreeClassifier\n",
    "from pyspark.ml.evaluation import MulticlassClassificationEvaluator\n",
    "\n",
    "train_df, test_df = df.randomSplit([0.8, 0.2], seed=42)\n",
    "\n",
    "dt = DecisionTreeClassifier(featuresCol=\"features\", labelCol=\"rank_movement\", maxDepth=5)\n",
    "dt_model = dt.fit(train_df)\n",
    "\n",
    "# have the predictions\n",
    "predictions = dt_model.transform(test_df)\n",
    "\n",
    "# evaluate\n",
    "evaluator = MulticlassClassificationEvaluator(labelCol=\"rank_movement\", predictionCol=\"prediction\")\n",
    "\n",
    "accuracy = evaluator.setMetricName(\"accuracy\").evaluate(predictions)\n",
    "f1_score = evaluator.setMetricName(\"f1\").evaluate(predictions)\n",
    "precision = evaluator.setMetricName(\"weightedPrecision\").evaluate(predictions)\n",
    "recall = evaluator.setMetricName(\"weightedRecall\").evaluate(predictions)\n",
    "\n",
    "print(f\"Test Accuracy: {accuracy:.4f}\")\n",
    "print(f\"F1-Score: {f1_score:.4f}\")\n",
    "print(f\"Precision: {precision:.4f}\")\n",
    "print(f\"Recall: {recall:.4f}\")\n",
    "\n",
    "\n"
   ]
  },
  {
   "cell_type": "raw",
   "id": "dc93baab-e59d-471d-9f52-9ed7c5cd8815",
   "metadata": {},
   "source": [
    "Test Accuracy: 0.7469\n",
    "F1-Score: 0.7469\n",
    "Precision: 0.7469\n",
    "Recall: 0.7469"
   ]
  },
  {
   "cell_type": "code",
   "execution_count": null,
   "id": "8035a982-8b83-4bf6-aae1-cf7c3d1bf6a2",
   "metadata": {},
   "outputs": [],
   "source": [
    "# feature importance\n",
    "print(\"Feature Importances: \", dt_model.featureImportances)\n",
    "\n",
    "# indices to column names\n",
    "for i, importance in enumerate(dt_model.featureImportances):\n",
    "    print(f\"Feature {i}: {final_features_columns[i]} => Importance: {importance:.4f}\")\n"
   ]
  },
  {
   "cell_type": "raw",
   "id": "c7516bcc-d509-43bb-ab4b-af561762a826",
   "metadata": {},
   "source": [
    "# hyperparameter tuning \n",
    "from pyspark.ml.tuning import ParamGridBuilder, CrossValidator\n",
    "\n",
    "paramGrid = ParamGridBuilder() \\\n",
    "    .addGrid(dt.maxDepth, [3, 5, 10, 15]) \\\n",
    "    .addGrid(dt.maxBins, [32, 64, 128]) \\\n",
    "    .addGrid(dt.minInstancesPerNode, [1, 5, 10]) \\\n",
    "    .addGrid(dt.minInfoGain, [0.0, 0.01, 0.1]) \\\n",
    "    .build()\n",
    "\n",
    "\n",
    "# Cross-validation set up\n",
    "crossval = CrossValidator(estimator=dt,\n",
    "                          estimatorParamMaps=paramGrid,\n",
    "                          evaluator=evaluator,\n",
    "                          numFolds=5)\n",
    "\n",
    "cv_model = crossval.fit(train_df)\n",
    "best_model = cv_model.bestModel\n"
   ]
  },
  {
   "cell_type": "code",
   "execution_count": null,
   "id": "5e330a63-9468-4d9e-8c4c-63bb20c9cbaf",
   "metadata": {},
   "outputs": [],
   "source": [
    "#saving parameters for future reference\n",
    "best_params = {\n",
    "    'maxDepth': 15,\n",
    "    'maxBins': 128,\n",
    "    'minInstancesPerNode': 5,\n",
    "    'minInfoGain': 0.0\n",
    "}\n"
   ]
  },
  {
   "cell_type": "code",
   "execution_count": null,
   "id": "32881b63-8da4-4500-8b0d-e10e601e293e",
   "metadata": {},
   "outputs": [],
   "source": []
  },
  {
   "cell_type": "code",
   "execution_count": null,
   "id": "1ab02519-33b3-4855-a5e9-c19d0bd13d7d",
   "metadata": {},
   "outputs": [],
   "source": [
    "dt = DecisionTreeClassifier(featuresCol=\"features\", labelCol=\"rank_movement\", maxDepth=15,\n",
    "    maxBins=128,\n",
    "    minInstancesPerNode=5,\n",
    "    minInfoGain=0.0)\n",
    "best_model = dt.fit(train_df)\n"
   ]
  },
  {
   "cell_type": "code",
   "execution_count": null,
   "id": "e605ede9-09de-447e-aa8c-5b2e16c18e4d",
   "metadata": {},
   "outputs": [],
   "source": []
  },
  {
   "cell_type": "code",
   "execution_count": null,
   "id": "82e7890c-fe69-4cc9-8e88-12a05f010373",
   "metadata": {},
   "outputs": [],
   "source": [
    "# Evaluate the best model, got slightly better\n",
    "predictions = best_model.transform(test_df)\n",
    "accuracy = evaluator.setMetricName(\"accuracy\").evaluate(predictions)\n",
    "f1_score = evaluator.setMetricName(\"f1\").evaluate(predictions)\n",
    "precision = evaluator.setMetricName(\"weightedPrecision\").evaluate(predictions)\n",
    "recall = evaluator.setMetricName(\"weightedRecall\").evaluate(predictions)\n",
    "\n",
    "print(f\"Best Model Test Accuracy: {accuracy:.4f}\")\n",
    "print(f\"Best Model F1-Score: {f1_score:.4f}\")\n",
    "print(f\"Best Model Precision: {precision:.4f}\")\n",
    "print(f\"Best Model Recall: {recall:.4f}\")\n"
   ]
  },
  {
   "cell_type": "code",
   "execution_count": null,
   "id": "bd020c66-955e-4325-8d7d-cdb153de8d37",
   "metadata": {},
   "outputs": [],
   "source": []
  },
  {
   "cell_type": "code",
   "execution_count": null,
   "id": "b27c9feb-0bd8-47c3-a3d5-044048c85649",
   "metadata": {},
   "outputs": [],
   "source": [
    "# feature importance\n",
    "print(\"Feature Importances: \", best_model.featureImportances)\n",
    "\n",
    "# indices to column names\n",
    "for i, importance in enumerate(best_model.featureImportances):\n",
    "    print(f\"Feature {i}: {final_features_columns[i]} => Importance: {importance:.4f}\")"
   ]
  },
  {
   "cell_type": "code",
   "execution_count": null,
   "id": "15afd01c-c391-4ede-bb89-2a5be581f40a",
   "metadata": {},
   "outputs": [],
   "source": []
  },
  {
   "cell_type": "raw",
   "id": "c23cdda9-0e04-4012-873d-9edad479700d",
   "metadata": {},
   "source": [
    "Best Model Test Accuracy: 0.7947\n",
    "Best Model F1-Score: 0.7947\n",
    "Best Model Precision: 0.7950\n",
    "Best Model Recall: 0.7947\n",
    "# bettered, and also feature importance is now considering -ever slightly- other variables as well"
   ]
  },
  {
   "cell_type": "markdown",
   "id": "00c62636-5cf8-4066-9d04-de78ce5e0842",
   "metadata": {},
   "source": [
    "#### Random Forest"
   ]
  },
  {
   "cell_type": "code",
   "execution_count": null,
   "id": "07bb771b-e67a-4bac-ae94-3fc1253d4e29",
   "metadata": {},
   "outputs": [],
   "source": [
    "from pyspark.ml.classification import RandomForestClassifier\n",
    "\n",
    "train_df, test_df = df.randomSplit([0.8, 0.2], seed=42)\n",
    "rf = RandomForestClassifier(featuresCol=\"features\", labelCol=\"rank_movement\", numTrees=50, maxDepth=10)\n",
    "rf_model = rf.fit(train_df)\n",
    "predictions = rf_model.transform(test_df)\n",
    "evaluator = MulticlassClassificationEvaluator(labelCol=\"rank_movement\", predictionCol=\"prediction\")\n",
    "\n",
    "accuracy = evaluator.evaluate(predictions)\n",
    "print(f\" Accuracy: {accuracy:.4f}\")\n",
    "print(f\" F1-Score: {f1_score:.4f}\")\n",
    "print(f\" Precision: {precision:.4f}\")\n",
    "print(f\" Recall: {recall:.4f}\")\n"
   ]
  },
  {
   "cell_type": "code",
   "execution_count": null,
   "id": "e29b8afb-254f-407c-a31b-0b871dd54d09",
   "metadata": {},
   "outputs": [],
   "source": []
  },
  {
   "cell_type": "raw",
   "id": "c75d238c-98b2-4a36-ad44-82669500c050",
   "metadata": {},
   "source": [
    " Accuracy: 0.7880\n",
    " F1-Score: 0.7947\n",
    " Precision: 0.7950\n",
    " Recall: 0.7947"
   ]
  },
  {
   "cell_type": "code",
   "execution_count": 75,
   "id": "c4fbefe3-6d2a-44cc-a790-390cac5c0b5e",
   "metadata": {},
   "outputs": [
    {
     "name": "stderr",
     "output_type": "stream",
     "text": [
      "24/12/07 16:50:54 WARN DAGScheduler: Broadcasting large task binary with size 1316.4 KiB\n",
      "24/12/07 16:50:54 WARN DAGScheduler: Broadcasting large task binary with size 1919.0 KiB\n",
      "24/12/07 16:50:56 WARN DAGScheduler: Broadcasting large task binary with size 2.7 MiB\n",
      "24/12/07 16:50:58 WARN DAGScheduler: Broadcasting large task binary with size 3.7 MiB\n",
      "24/12/07 16:51:00 WARN DAGScheduler: Broadcasting large task binary with size 5.1 MiB\n",
      "24/12/07 16:51:03 WARN DAGScheduler: Broadcasting large task binary with size 6.7 MiB\n",
      "24/12/07 16:51:06 WARN DAGScheduler: Broadcasting large task binary with size 8.7 MiB\n",
      "24/12/07 16:51:10 WARN DAGScheduler: Broadcasting large task binary with size 1088.1 KiB\n",
      "24/12/07 16:51:12 WARN DAGScheduler: Broadcasting large task binary with size 11.0 MiB\n",
      "24/12/07 16:51:16 WARN DAGScheduler: Broadcasting large task binary with size 1262.6 KiB\n",
      "24/12/07 16:51:17 WARN DAGScheduler: Broadcasting large task binary with size 13.5 MiB\n",
      "24/12/07 16:51:23 WARN DAGScheduler: Broadcasting large task binary with size 1413.9 KiB\n",
      "24/12/07 16:51:58 WARN DAGScheduler: Broadcasting large task binary with size 6.1 MiB\n",
      "24/12/07 16:52:09 WARN DAGScheduler: Broadcasting large task binary with size 6.1 MiB\n",
      "24/12/07 16:52:23 WARN DAGScheduler: Broadcasting large task binary with size 6.1 MiB\n",
      "24/12/07 16:52:37 WARN DAGScheduler: Broadcasting large task binary with size 6.1 MiB\n",
      "[Stage 1209:>                                                       (0 + 8) / 8]\r"
     ]
    },
    {
     "name": "stdout",
     "output_type": "stream",
     "text": [
      "Accuracy: 0.8025\n",
      "F1-Score: 0.8024\n",
      "Precision: 0.8029\n",
      "Recall: 0.8025\n"
     ]
    },
    {
     "name": "stderr",
     "output_type": "stream",
     "text": [
      "                                                                                \r"
     ]
    }
   ],
   "source": [
    "\n",
    "# from previous dt search\n",
    "\n",
    "rf = RandomForestClassifier(featuresCol=\"features\", labelCol=\"rank_movement\", seed=42,maxDepth=15,\n",
    "    maxBins=128,\n",
    "    minInstancesPerNode=5,\n",
    "    minInfoGain=0.0 )\n",
    "\n",
    "# additional Random Forest-specific parameters\n",
    "rf = rf.setNumTrees(100) \\\n",
    "       .setFeatureSubsetStrategy(\"sqrt\")\n",
    "\n",
    "rf_model = rf.fit(train_df)\n",
    "predictions = rf_model.transform(test_df)\n",
    "\n",
    "#evaluation\n",
    "evaluator = MulticlassClassificationEvaluator(labelCol=\"rank_movement\", predictionCol=\"prediction\")\n",
    "\n",
    "accuracy = evaluator.setMetricName(\"accuracy\").evaluate(predictions)\n",
    "f1_score = evaluator.setMetricName(\"f1\").evaluate(predictions)\n",
    "precision = evaluator.setMetricName(\"weightedPrecision\").evaluate(predictions)\n",
    "recall = evaluator.setMetricName(\"weightedRecall\").evaluate(predictions)\n",
    "\n",
    "print(f\"Accuracy: {accuracy:.4f}\")\n",
    "print(f\"F1-Score: {f1_score:.4f}\")\n",
    "print(f\"Precision: {precision:.4f}\")\n",
    "print(f\"Recall: {recall:.4f}\")\n",
    "\n"
   ]
  },
  {
   "cell_type": "code",
   "execution_count": null,
   "id": "97919f2e-8277-469c-b10b-0338e82ad2ab",
   "metadata": {},
   "outputs": [],
   "source": []
  },
  {
   "cell_type": "code",
   "execution_count": 77,
   "id": "34ed8ce9-4fb8-4f62-b023-ad7a689c8626",
   "metadata": {},
   "outputs": [
    {
     "name": "stderr",
     "output_type": "stream",
     "text": [
      "24/12/07 16:53:30 WARN DAGScheduler: Broadcasting large task binary with size 6.1 MiB\n",
      "24/12/07 16:53:32 WARN DAGScheduler: Broadcasting large task binary with size 6.1 MiB\n",
      "24/12/07 16:53:32 WARN DAGScheduler: Broadcasting large task binary with size 6.1 MiB\n",
      "24/12/07 16:53:33 WARN DAGScheduler: Broadcasting large task binary with size 6.1 MiB\n",
      "24/12/07 16:53:42 WARN DAGScheduler: Broadcasting large task binary with size 6.2 MiB\n",
      "24/12/07 16:53:45 WARN DAGScheduler: Broadcasting large task binary with size 6.1 MiB\n",
      "24/12/07 16:53:46 WARN DAGScheduler: Broadcasting large task binary with size 6.1 MiB\n",
      "                                                                                \r"
     ]
    },
    {
     "data": {
      "image/png": "[encoded data removed]",
      "text/plain": [
       "<Figure size 800x600 with 2 Axes>"
      ]
     },
     "metadata": {},
     "output_type": "display_data"
    }
   ],
   "source": [
    "# confusion matrix\n",
    "confusion_matrix_df = predictions.groupBy(\"rank_movement\", \"prediction\").count()\n",
    "\n",
    "confusion_matrix_pivot = confusion_matrix_df.groupBy(\"rank_movement\").pivot(\"prediction\").sum(\"count\").fillna(0)\n",
    "confusion_matrix_pandas = confusion_matrix_pivot.toPandas()\n",
    "\n",
    "labels = sorted(confusion_matrix_pandas[\"rank_movement\"].tolist())  # Ensure correct order of labels\n",
    "confusion_matrix_pandas = confusion_matrix_pandas.set_index(\"rank_movement\").reindex(labels)\n",
    "\n",
    "plt.figure(figsize=(8, 6))\n",
    "sns.heatmap(confusion_matrix_pandas, annot=True, fmt=\"d\", cmap=\"Blues\", xticklabels=labels, yticklabels=labels)\n",
    "plt.title(\"Confusion Matrix - Random Forest\")\n",
    "plt.xlabel(\"Predicted Labels\")\n",
    "plt.ylabel(\"True Labels\")\n",
    "plt.show()"
   ]
  },
  {
   "cell_type": "code",
   "execution_count": null,
   "id": "4b1ada75-f7a8-4896-8a9b-45ae1dbf566d",
   "metadata": {},
   "outputs": [],
   "source": []
  },
  {
   "cell_type": "code",
   "execution_count": null,
   "id": "b20c8299-5afd-4288-ab40-5e872826c5ef",
   "metadata": {},
   "outputs": [],
   "source": []
  },
  {
   "cell_type": "code",
   "execution_count": null,
   "id": "26479d77-ad0f-4c3a-9f67-450c5e63d1b2",
   "metadata": {},
   "outputs": [],
   "source": []
  },
  {
   "cell_type": "raw",
   "id": "a01e6702-512a-4739-89e0-aa17d6c6c22d",
   "metadata": {},
   "source": [
    "Accuracy: 0.8025\n",
    "F1-Score: 0.8024\n",
    "Precision: 0.8029\n",
    "Recall: 0.8025"
   ]
  },
  {
   "cell_type": "code",
   "execution_count": null,
   "id": "4e23fb7b-f2a6-4765-8914-cba739d7e3d3",
   "metadata": {},
   "outputs": [],
   "source": []
  },
  {
   "cell_type": "code",
   "execution_count": null,
   "id": "e992644c-3d3e-4734-a094-d253bfc2f224",
   "metadata": {},
   "outputs": [],
   "source": []
  },
  {
   "cell_type": "code",
   "execution_count": null,
   "id": "5e9ade01-6536-4740-a0e9-d73fb5188251",
   "metadata": {},
   "outputs": [],
   "source": []
  },
  {
   "cell_type": "code",
   "execution_count": null,
   "id": "a6b95b4f-63e5-43b8-ad56-882ebf1d6c7b",
   "metadata": {},
   "outputs": [],
   "source": []
  },
  {
   "cell_type": "code",
   "execution_count": null,
   "id": "17206aef-08fc-4fcb-83ed-112bfd5c0ba8",
   "metadata": {},
   "outputs": [],
   "source": []
  },
  {
   "cell_type": "code",
   "execution_count": null,
   "id": "5c684806-2538-4f19-a9c1-08985c8f4c65",
   "metadata": {},
   "outputs": [],
   "source": []
  },
  {
   "cell_type": "code",
   "execution_count": null,
   "id": "5486b6a0-8de0-46c4-85b0-63ba8eef4ffb",
   "metadata": {},
   "outputs": [],
   "source": []
  },
  {
   "cell_type": "code",
   "execution_count": null,
   "id": "42d73ac9-9051-42ad-a544-4af845777571",
   "metadata": {},
   "outputs": [],
   "source": []
  },
  {
   "cell_type": "code",
   "execution_count": null,
   "id": "7971bee0-ee92-4583-b014-f646eb94ab56",
   "metadata": {},
   "outputs": [],
   "source": []
  },
  {
   "cell_type": "code",
   "execution_count": null,
   "id": "c739ee04-49b2-4e70-bb3b-1b3a75567374",
   "metadata": {},
   "outputs": [],
   "source": []
  },
  {
   "cell_type": "code",
   "execution_count": null,
   "id": "1f5bfcf7-e941-46e2-a9f8-bd2f0479b3e8",
   "metadata": {},
   "outputs": [],
   "source": []
  },
  {
   "cell_type": "code",
   "execution_count": null,
   "id": "01ce1df0-cafe-4fd1-ab0b-c807238a9713",
   "metadata": {},
   "outputs": [],
   "source": []
  },
  {
   "cell_type": "code",
   "execution_count": null,
   "id": "7a3459cf-88de-4f69-9e5c-e04cd4e78eb4",
   "metadata": {},
   "outputs": [],
   "source": []
  },
  {
   "cell_type": "code",
   "execution_count": null,
   "id": "19db3431-85de-47f1-a1a6-06064bc3d2d8",
   "metadata": {},
   "outputs": [],
   "source": []
  },
  {
   "cell_type": "code",
   "execution_count": null,
   "id": "4cb5b719-9bfa-44b2-b8e4-aa014d66d65e",
   "metadata": {},
   "outputs": [],
   "source": []
  },
  {
   "cell_type": "code",
   "execution_count": null,
   "id": "1dd6ac97-5e9f-482a-9ac5-737326298688",
   "metadata": {},
   "outputs": [],
   "source": []
  },
  {
   "cell_type": "code",
   "execution_count": null,
   "id": "01a97e4b-44f5-4374-b62d-3ee523ebc70e",
   "metadata": {},
   "outputs": [],
   "source": []
  },
  {
   "cell_type": "code",
   "execution_count": null,
   "id": "6131d081-fe24-4ed1-be11-4612e318d313",
   "metadata": {},
   "outputs": [],
   "source": []
  },
  {
   "cell_type": "code",
   "execution_count": null,
   "id": "ff6469b9-ca13-4fd5-9c75-43023175206e",
   "metadata": {},
   "outputs": [],
   "source": []
  },
  {
   "cell_type": "code",
   "execution_count": null,
   "id": "d7512860-f914-4d1b-abb3-29b87fcee88b",
   "metadata": {},
   "outputs": [],
   "source": []
  },
  {
   "cell_type": "code",
   "execution_count": null,
   "id": "2dca1c73-3e88-48e7-ad59-cac263db93a6",
   "metadata": {},
   "outputs": [],
   "source": []
  },
  {
   "cell_type": "code",
   "execution_count": null,
   "id": "d6bd8b54-8b13-4e5e-bc8d-f6bd746963dd",
   "metadata": {},
   "outputs": [],
   "source": []
  },
  {
   "cell_type": "code",
   "execution_count": null,
   "id": "408bcbd2-af1a-46d7-ae0e-5e5dd9590341",
   "metadata": {},
   "outputs": [],
   "source": []
  },
  {
   "cell_type": "code",
   "execution_count": null,
   "id": "a735ea40-9dca-42e7-bd75-0ab52aa5093e",
   "metadata": {},
   "outputs": [],
   "source": []
  },
  {
   "cell_type": "code",
   "execution_count": null,
   "id": "e548cec1-20c0-4c9b-8242-605946dc71a3",
   "metadata": {},
   "outputs": [],
   "source": []
  },
  {
   "cell_type": "code",
   "execution_count": null,
   "id": "1660bd40-f105-4fd1-b7c2-45c57efb9b16",
   "metadata": {},
   "outputs": [],
   "source": []
  },
  {
   "cell_type": "code",
   "execution_count": null,
   "id": "e9f533a7-57be-4577-bd5c-2e622980bbaa",
   "metadata": {},
   "outputs": [],
   "source": []
  },
  {
   "cell_type": "code",
   "execution_count": null,
   "id": "cb87e28c-a2e6-4ee1-95ca-a3c8a83b7e19",
   "metadata": {},
   "outputs": [],
   "source": []
  },
  {
   "cell_type": "code",
   "execution_count": null,
   "id": "56182967-3bba-415b-81c2-506b4366189e",
   "metadata": {},
   "outputs": [],
   "source": []
  },
  {
   "cell_type": "code",
   "execution_count": null,
   "id": "20f65bca-76a9-4d1f-ae12-838fcaf8e709",
   "metadata": {},
   "outputs": [],
   "source": []
  },
  {
   "cell_type": "code",
   "execution_count": null,
   "id": "b07a2e6b-669c-434d-a8e0-0ac9bddc57a5",
   "metadata": {},
   "outputs": [],
   "source": []
  },
  {
   "cell_type": "code",
   "execution_count": null,
   "id": "f98a027a-f6ec-4a56-ae60-54aaa6e1faf9",
   "metadata": {},
   "outputs": [],
   "source": []
  },
  {
   "cell_type": "code",
   "execution_count": null,
   "id": "cf9dd4a5-7b0b-4966-ac40-81da1c6515f9",
   "metadata": {},
   "outputs": [],
   "source": []
  },
  {
   "cell_type": "code",
   "execution_count": null,
   "id": "327ed7ff-febd-4fff-8d8a-db23e4f28ca2",
   "metadata": {},
   "outputs": [],
   "source": []
  },
  {
   "cell_type": "code",
   "execution_count": null,
   "id": "244a5292-6e28-452a-9fd5-e5818a20d7aa",
   "metadata": {},
   "outputs": [],
   "source": []
  },
  {
   "cell_type": "code",
   "execution_count": null,
   "id": "9ed2f507-4159-479b-9533-0c52e942d113",
   "metadata": {},
   "outputs": [],
   "source": []
  },
  {
   "cell_type": "code",
   "execution_count": null,
   "id": "061704a7-7226-4727-a6c6-76430156b940",
   "metadata": {},
   "outputs": [],
   "source": []
  },
  {
   "cell_type": "code",
   "execution_count": null,
   "id": "09b9b5c2-11fc-46d8-b927-af9c99a7c2f5",
   "metadata": {},
   "outputs": [],
   "source": []
  },
  {
   "cell_type": "code",
   "execution_count": null,
   "id": "2da5eab0-9484-4a60-b3b5-8a4fd6eacf87",
   "metadata": {},
   "outputs": [],
   "source": []
  },
  {
   "cell_type": "code",
   "execution_count": null,
   "id": "1d66e456-da0b-491a-a273-75e6556499fe",
   "metadata": {},
   "outputs": [],
   "source": []
  }
 ],
 "metadata": {
  "kernelspec": {
   "display_name": "Python 3 (ipykernel)",
   "language": "python",
   "name": "python3"
  },
  "language_info": {
   "codemirror_mode": {
    "name": "ipython",
    "version": 3
   },
   "file_extension": ".py",
   "mimetype": "text/x-python",
   "name": "python",
   "nbconvert_exporter": "python",
   "pygments_lexer": "ipython3",
   "version": "3.12.4"
  }
 },
 "nbformat": 4,
 "nbformat_minor": 5
}
